{
 "cells": [
  {
   "cell_type": "code",
   "execution_count": 1,
   "metadata": {},
   "outputs": [],
   "source": [
    "%matplotlib qt\n",
    "import numpy as np\n",
    "import pandas as pd\n",
    "from pandas import DataFrame\n",
    "from scipy import stats\n",
    "import matplotlib.pyplot as plt\n",
    "from mpl_toolkits.mplot3d import Axes3D\n",
    "from matplotlib import cm\n",
    "import gc\n",
    "from sklearn.linear_model import LogisticRegression,LinearRegression\n",
    "from sklearn.decomposition import PCA\n",
    "from sklearn.preprocessing import PolynomialFeatures,StandardScaler\n",
    "from sklearn.pipeline import Pipeline\n",
    "from sklearn.model_selection import train_test_split,GridSearchCV,cross_val_score,KFold\n",
    "from sklearn.ensemble import RandomForestClassifier,RandomForestRegressor\n",
    "from sklearn.externals import joblib\n",
    "from sklearn.svm import SVC\n",
    "import sklearn.metrics as metrics\n",
    "import xgboost as xgb\n",
    "from xgboost import XGBClassifier\n",
    "import warnings\n",
    "warnings.filterwarnings('ignore')\n",
    "\n",
    "path = '../data/Debt issuing company 2018 report/'"
   ]
  },
  {
   "cell_type": "code",
   "execution_count": 12,
   "metadata": {},
   "outputs": [],
   "source": [
    "def drop_out(frame,col,model='Confidence interval',t_alpha=0.95,alpha=2,IQR_rate=1.5,quantile=0.95):\n",
    "    '''modle: 'gauss','box','quantile' '''\n",
    "    \n",
    "    if model == 'Confidence interval':\n",
    "        u_ = frame[col].mean()\n",
    "        v_ = frame[col].std()\n",
    "        interval_ = stats.t.interval(t_alpha,frame[col].count()-1,u_,v_)\n",
    "        cond_ = (frame[col]<interval_[1])&(frame[col]>interval_[0])\n",
    "    \n",
    "    elif model == 'gauss':\n",
    "        u_ = frame[col].mean()\n",
    "        v_ = frame[col].std()\n",
    "        cond_ = np.abs((frame[col]-u_)/v_) < alpha\n",
    "    \n",
    "    elif model == 'box':\n",
    "        q1 = frame[col].quantile(0.25)\n",
    "        q3 = frame[col].quantile(0.75)\n",
    "        IQR = (q3-q1)*IQR_rate\n",
    "        q1 -= IQR ; q3 += IQR\n",
    "        cond_ = (frame[col]<q3)&(frame[col]>q1)\n",
    "    \n",
    "    elif model == 'quantile':\n",
    "        top_ = frame[col].quantile(quantile)\n",
    "        bottom_ = frame[col].quantile(1-quantile)\n",
    "        cond_ = (frame[col]<top_)&(frame[col]>bottom_)\n",
    "    \n",
    "    else:\n",
    "        print('please try again')\n",
    "        return frame\n",
    "    \n",
    "    index_ = np.where(frame[col]!=frame[col],True,\n",
    "                                                  np.where(cond_,True,False))\n",
    "    frame = frame.loc[index_,:]\n",
    "    return frame"
   ]
  },
  {
   "cell_type": "code",
   "execution_count": 67,
   "metadata": {},
   "outputs": [
    {
     "name": "stdout",
     "output_type": "stream",
     "text": [
      "is concating 2013 1/6\n",
      "is concating 2016 4/6\n",
      "no 2018\n",
      "finish concat data_y\n",
      "[   0    0  177 2209  225  418 2782 2782  620  831  741  357  705  568\n",
      "  799 1400 2798  795 1771 2615 3442  735 2788 2789 2727 2214 6719]\n"
     ]
    }
   ],
   "source": [
    "start_year = 2013\n",
    "end_year = 2018\n",
    "data_a = DataFrame()\n",
    "for i in range(start_year,end_year+1):\n",
    "    if i % 3 ==0:\n",
    "        print('is concating {} {}/{}'.format(i,i-start_year+1,end_year+1-start_year))\n",
    "    try:\n",
    "        path_a = path+f'y/{i}y.xlsx'\n",
    "        data_a_ = pd.read_excel(path_a)[:-2]\n",
    "        data_a_.drop(['是否经过审计','审计意见']+[i for i in data_a_.columns if i.find('E')!=-1],axis=1,inplace=True)\n",
    "    #     data_a_.loc[:,['主营业务收入(亿元)','主营业务利润(亿元)','净利润(亿元)']] = \\\n",
    "    #     data_a_.loc[:,['主营业务收入(亿元)','主营业务利润(亿元)','净利润(亿元)']].apply(lambda x:x/data_a_['报告期'].dt.month)\n",
    "        data_a = pd.concat([data_a,data_a_])\n",
    "    except:\n",
    "        print(f'no {i}')\n",
    "        pass\n",
    "del data_a_\n",
    "gc.collect()\n",
    "print('finish concat data_y')\n",
    "\n",
    "print(np.array(list(data_a.isnull().sum(0))))\n",
    "# data_a.dropna(thresh=data_a.shape[1]-6,inplace=True)"
   ]
  },
  {
   "cell_type": "code",
   "execution_count": 68,
   "metadata": {},
   "outputs": [],
   "source": [
    "for k in range(1):\n",
    "    col_ = np.random.choice(data_a.columns[2:],len(data_a.columns[2:]),replace=False,)\n",
    "    for j in col_:\n",
    "        data_a = drop_out(data_a,j,model='gauss',alpha=3)"
   ]
  },
  {
   "cell_type": "code",
   "execution_count": 106,
   "metadata": {},
   "outputs": [
    {
     "data": {
      "text/plain": [
       "Text(0.5,0.98,'散点趋势图')"
      ]
     },
     "execution_count": 106,
     "metadata": {},
     "output_type": "execute_result"
    }
   ],
   "source": [
    "for i in range(data_a.shape[1]-2):\n",
    "    ax = plt.subplot(5,5,i+1)\n",
    "    ax.scatter(range(data_a.shape[0]),data_a.iloc[:,i+2].sort_values(),s=3)\n",
    "    plt.title(data_a.columns[i+2])\n",
    "plt.suptitle('散点趋势图')"
   ]
  },
  {
   "cell_type": "code",
   "execution_count": 69,
   "metadata": {},
   "outputs": [],
   "source": [
    "all_com = pd.read_excel(path+'comp_feature/产业类发债企业行业分类0827.xlsx',sheet_name='产业类企业')\n",
    "all_com = all_com[['名称', '最新评级', '企业性质', '是否上市','一级分类', '二级分类']]"
   ]
  },
  {
   "cell_type": "code",
   "execution_count": 70,
   "metadata": {},
   "outputs": [],
   "source": [
    "a = data_a.merge(all_com[['名称','企业性质', '是否上市','一级分类','二级分类']],on='名称').copy()"
   ]
  },
  {
   "cell_type": "code",
   "execution_count": 71,
   "metadata": {},
   "outputs": [],
   "source": [
    "a = a.loc[a['报告期'].dt.month == 12,:]"
   ]
  },
  {
   "cell_type": "code",
   "execution_count": 72,
   "metadata": {},
   "outputs": [],
   "source": [
    "excelname = '去异小类年度平均数'\n",
    "Exceleidtor = pd.ExcelWriter(f'../{excelname}.xlsx',)"
   ]
  },
  {
   "cell_type": "code",
   "execution_count": 73,
   "metadata": {},
   "outputs": [],
   "source": [
    "a[list(a.columns[1:-2])+['二级分类']].groupby(['二级分类','报告期']).mean().to_excel(Exceleidtor,'origin_mean')\n",
    "a[list(a.columns[1:-2])+['二级分类']].groupby(['二级分类','报告期']).median().to_excel(Exceleidtor,'origin_median')"
   ]
  },
  {
   "cell_type": "code",
   "execution_count": 74,
   "metadata": {},
   "outputs": [],
   "source": [
    "if __name__ == '__main__':\n",
    "    def diy_ss(frame,quantile=0.2):\n",
    "        weight_dict = {}\n",
    "        for i in frame.columns:\n",
    "            if frame[i].min() >= 0:\n",
    "                frame[i] = np.log1p(frame[i])\n",
    "                weight_dict[i] = 'log1p'\n",
    "            else :\n",
    "                mean_ = frame[i][(frame[i]>frame[i].quantile(quantile)) & (frame[i]<frame[i].quantile(1-quantile))].mean()\n",
    "                std_ = frame[i][(frame[i]>frame[i].quantile(quantile)) & (frame[i]<frame[i].quantile(1-quantile))].std()\n",
    "                weight_dict[i] = [mean_,std_]\n",
    "                frame[i] = (frame[i]-mean_)/std_\n",
    "        return frame,weight_dict\n",
    "    def fillna_(frame,group_col,quantile=0.2,n_epoch=3):\n",
    "\n",
    "        def return_index(aa,bb):\n",
    "            j=0\n",
    "            cc = []\n",
    "            for i in range(len(aa)):\n",
    "                if aa[i] == False :\n",
    "                    cc.append(aa[i])\n",
    "                else:\n",
    "                    cc.append(bb[j])\n",
    "                    j += 1\n",
    "            return cc\n",
    "\n",
    "        frame_col = frame.columns\n",
    "\n",
    "        frame.iloc[:,:-7],weight_dict = diy_ss(frame.iloc[:,:-7],quantile)\n",
    "\n",
    "        for l,comp in enumerate(set(group_col)):\n",
    "\n",
    "            index_y = list(group_col == comp)\n",
    "            full_col = []\n",
    "            loss_col = {}\n",
    "\n",
    "            for col in frame.columns:\n",
    "                if frame.loc[index_y,col].isnull().sum() == 0:\n",
    "                    full_col.append(col)\n",
    "                else:\n",
    "                    loss_col[col] = frame.loc[index_y,col].isnull().sum()\n",
    "\n",
    "            loss_col = sorted(loss_col.items(),key=lambda x:x[1])\n",
    "            loss_col = [i[0] for i in loss_col]\n",
    "\n",
    "            index_dict = {}\n",
    "            if len(full_col) == 0:\n",
    "                index_dict[loss_col[0]] = frame.loc[index_y,loss_col[0]].isnull()\n",
    "                index_dict[loss_col[0]].fillna(index_dict[loss_col[0]].median(),inplace=True)\n",
    "                full_col.append(loss_col[0])\n",
    "                loss_col = loss_col[1:]\n",
    "\n",
    "            for epoch in range(n_epoch):\n",
    "\n",
    "                if epoch == 0:\n",
    "                    for _,col in enumerate(loss_col):\n",
    "                        if np.random.rand()>0.75:\n",
    "                            print(comp,f'{l}/{len(set(group_col))}',col,f'{_}/{len(loss_col)}')\n",
    "                        index_l = list(frame.loc[index_y,col].isnull())\n",
    "                        index_f = list(frame.loc[index_y,col].notnull())\n",
    "                        index_l_ = return_index(index_y,index_l)\n",
    "                        index_f_ = return_index(index_y,index_f)\n",
    "                        index_dict[col] = (index_l_,index_f_)\n",
    "                        rfr = RandomForestRegressor(n_estimators=10,n_jobs=-1,max_features=0.9)\n",
    "                        rfr.fit(frame.loc[index_f_,full_col],frame.loc[index_f_,col])\n",
    "                        pre = rfr.predict(frame.loc[index_l_,full_col])\n",
    "                        frame.loc[index_l_,col] = pre\n",
    "                        full_col.append(col)\n",
    "\n",
    "                else:\n",
    "                    for col in index_dict:\n",
    "                        index_l_ = index_dict[col][0]\n",
    "                        index_f_ = index_dict[col][1]\n",
    "                        rfr = RandomForestRegressor(n_estimators=20,n_jobs=-1,max_features=0.6)\n",
    "                        rfr.fit(frame.loc[index_f_,full_col],frame.loc[index_f_,col])\n",
    "                        pre = rfr.predict(frame.loc[index_l_,full_col])\n",
    "                        frame.loc[index_l_,col] = pre\n",
    "\n",
    "        gc.collect()\n",
    "        return frame[frame_col],weight_dict"
   ]
  },
  {
   "cell_type": "code",
   "execution_count": 75,
   "metadata": {},
   "outputs": [],
   "source": [
    "def one_hot_str(frame,col,replace=True):\n",
    "    if replace:\n",
    "        a_ = frame.pop(col)\n",
    "    else :\n",
    "        a_ = frame[col]\n",
    "    a_.fillna('miss',inplace=True)\n",
    "    a_ = pd.get_dummies(a_,prefix=a_.name,)\n",
    "    frame = pd.concat([frame,a_],axis=1)\n",
    "    del a_\n",
    "    return frame"
   ]
  },
  {
   "cell_type": "code",
   "execution_count": 76,
   "metadata": {},
   "outputs": [],
   "source": [
    "a = one_hot_str(a,'报告期',replace=False)\n",
    "a = one_hot_str(a,'是否上市',)"
   ]
  },
  {
   "cell_type": "code",
   "execution_count": 77,
   "metadata": {},
   "outputs": [
    {
     "name": "stdout",
     "output_type": "stream",
     "text": [
      "0.0 名称\n",
      "0.0 报告期\n",
      "0.01180549822504747 总资产(亿元)\n",
      "0.04251630479649963 货币资产(亿元)\n",
      "0.014860067695863947 净资产(亿元)\n",
      "0.028564352348716255 总债务(亿元)\n",
      "0.043424420044580206 带息债务(亿元)\n",
      "0.043424420044580206 净债务(亿元)\n",
      "0.03805828448774044 经营活动现金流(亿元)\n",
      "0.04301164038636176 投资活动现金流(亿元)\n",
      "0.04036985057376372 筹资活动现金流(亿元)\n",
      "0.02063898291092215 主营业务收入(亿元)\n",
      "0.041525633616775366 主营业务利润(亿元)\n",
      "0.03698505737637249 净利润(亿元)\n",
      "0.04466275901923553 主营业务利润率(%)\n",
      "0.05770659621893833 主营业务收入增长率(%)\n",
      "0.043424420044580206 总资产报酬率(%)\n",
      "0.04367208783951127 净资产回报率(%)\n",
      "0.043754643771154955 流动比率\n",
      "0.043754643771154955 速动比率\n",
      "0.06472385040865186 存货周转率\n",
      "0.04276397259143069 资产负债率\n",
      "0.043424420044580206 短期债务/总债务\n",
      "0.04358953190786758 带息债务/总投入资本\n",
      "0.04160818954841906 货币资金/短期债务\n",
      "0.042846528523074384 货币资金/总债务\n",
      "0.13159415504003963 获息倍数\n",
      "8.25559316436886e-05 企业性质\n",
      "0.0 一级分类\n",
      "0.0 二级分类\n",
      "0.0 报告期_2013-12-31 00:00:00\n",
      "0.0 报告期_2014-12-31 00:00:00\n",
      "0.0 报告期_2015-12-31 00:00:00\n",
      "0.0 报告期_2016-12-31 00:00:00\n",
      "0.0 报告期_2017-12-31 00:00:00\n",
      "0.0 是否上市_否\n",
      "0.0 是否上市_是\n"
     ]
    }
   ],
   "source": [
    "for i in range(a.shape[1]):\n",
    "    sum_ = a.iloc[:,i].isnull().sum()\n",
    "    print(sum_/a.shape[0],a.columns[i],)"
   ]
  },
  {
   "cell_type": "code",
   "execution_count": 78,
   "metadata": {},
   "outputs": [
    {
     "name": "stdout",
     "output_type": "stream",
     "text": [
      "房地产开发 0/18 货币资金/短期债务 6/25\n",
      "房地产开发 0/18 主营业务利润(亿元) 9/25\n",
      "房地产开发 0/18 带息债务(亿元) 12/25\n",
      "房地产开发 0/18 主营业务收入增长率(%) 23/25\n",
      "房地产开发 0/18 获息倍数 24/25\n",
      "新能源 2/18 总债务(亿元) 2/25\n",
      "新能源 2/18 主营业务收入增长率(%) 13/25\n",
      "新能源 2/18 资产负债率 18/25\n",
      "新能源 2/18 货币资金/总债务 22/25\n",
      "新能源 2/18 存货周转率 23/25\n",
      "保障类消费 3/18 带息债务(亿元) 1/21\n",
      "保障类消费 3/18 主营业务利润率(%) 8/21\n",
      "保障类消费 3/18 总资产报酬率(%) 9/21\n",
      "保障类消费 3/18 速动比率 12/21\n",
      "保障类消费 3/18 带息债务/总投入资本 15/21\n",
      "投资贸易 4/18 净利润(亿元) 4/25\n",
      "投资贸易 4/18 货币资金/短期债务 5/25\n",
      "投资贸易 4/18 经营活动现金流(亿元) 7/25\n",
      "投资贸易 4/18 货币资产(亿元) 9/25\n",
      "投资贸易 4/18 带息债务(亿元) 10/25\n",
      "投资贸易 4/18 净债务(亿元) 11/25\n",
      "投资贸易 4/18 主营业务利润率(%) 20/25\n",
      "新材料 5/18 速动比率 2/5\n",
      "新材料 5/18 货币资金/总债务 3/5\n",
      "物流快递 6/18 总债务(亿元) 0/23\n",
      "物流快递 6/18 净利润(亿元) 4/23\n",
      "物流快递 6/18 流动比率 12/23\n",
      "物流快递 6/18 存货周转率 21/23\n",
      "物流快递 6/18 获息倍数 22/23\n",
      "商务服务业 7/18 主营业务收入增长率(%) 2/13\n",
      "商务服务业 7/18 带息债务(亿元) 3/13\n",
      "商务服务业 7/18 速动比率 7/13\n",
      "商务服务业 7/18 短期债务/总债务 8/13\n",
      "商务服务业 7/18 货币资金/短期债务 10/13\n",
      "节能环保 8/18 总债务(亿元) 4/25\n",
      "节能环保 8/18 经营活动现金流(亿元) 7/25\n",
      "节能环保 8/18 投资活动现金流(亿元) 8/25\n",
      "节能环保 8/18 主营业务利润(亿元) 9/25\n",
      "节能环保 8/18 总资产报酬率(%) 12/25\n",
      "节能环保 8/18 速动比率 15/25\n",
      "节能环保 8/18 短期债务/总债务 18/25\n",
      "节能环保 8/18 货币资金/短期债务 20/25\n",
      "房地产相关 9/18 净债务(亿元) 12/25\n",
      "房地产相关 9/18 带息债务/总投入资本 15/25\n",
      "房地产相关 9/18 货币资产(亿元) 16/25\n",
      "房地产相关 9/18 主营业务利润率(%) 17/25\n",
      "房地产相关 9/18 存货周转率 21/25\n",
      "房地产相关 9/18 投资活动现金流(亿元) 22/25\n",
      "房地产相关 9/18 获息倍数 24/25\n",
      "信息技术 10/18 总资产(亿元) 0/24\n",
      "信息技术 10/18 主营业务收入增长率(%) 3/24\n",
      "信息技术 10/18 净利润(亿元) 5/24\n",
      "信息技术 10/18 投资活动现金流(亿元) 6/24\n",
      "信息技术 10/18 主营业务利润率(%) 12/24\n",
      "信息技术 10/18 速动比率 16/24\n",
      "信息技术 10/18 带息债务/总投入资本 19/24\n",
      "信息技术 10/18 货币资金/短期债务 20/24\n",
      "信息技术 10/18 货币资金/总债务 21/24\n",
      "信息技术 10/18 获息倍数 23/24\n",
      "必需品 11/18 净资产(亿元) 1/25\n",
      "必需品 11/18 主营业务收入(亿元) 2/25\n",
      "必需品 11/18 净利润(亿元) 5/25\n",
      "必需品 11/18 带息债务(亿元) 10/25\n",
      "必需品 11/18 主营业务利润(亿元) 12/25\n",
      "必需品 11/18 存货周转率 23/25\n",
      "可选消费品 12/18 净债务(亿元) 8/25\n",
      "可选消费品 12/18 主营业务利润(亿元) 9/25\n",
      "可选消费品 12/18 流动比率 11/25\n",
      "可选消费品 12/18 速动比率 12/25\n",
      "可选消费品 12/18 短期债务/总债务 14/25\n",
      "可选消费品 12/18 货币资金/短期债务 16/25\n",
      "可选消费品 12/18 总资产报酬率(%) 19/25\n",
      "可选消费品 12/18 存货周转率 23/25\n",
      "传统制造业 13/18 总资产(亿元) 0/25\n",
      "传统制造业 13/18 净利润(亿元) 4/25\n",
      "传统制造业 13/18 经营活动现金流(亿元) 6/25\n",
      "传统制造业 13/18 投资活动现金流(亿元) 7/25\n",
      "传统制造业 13/18 筹资活动现金流(亿元) 8/25\n",
      "传统制造业 13/18 货币资金/短期债务 10/25\n",
      "传统制造业 13/18 货币资金/总债务 12/25\n",
      "传统制造业 13/18 总资产报酬率(%) 16/25\n",
      "生物产业 14/18 筹资活动现金流(亿元) 9/24\n",
      "生物产业 14/18 净利润(亿元) 11/24\n",
      "生物产业 14/18 净资产回报率(%) 14/24\n",
      "生物产业 14/18 带息债务/总投入资本 20/24\n",
      "生物产业 14/18 货币资金/总债务 22/24\n",
      "原材料采掘加工 15/18 总资产(亿元) 0/25\n",
      "原材料采掘加工 15/18 总债务(亿元) 3/25\n",
      "原材料采掘加工 15/18 经营活动现金流(亿元) 4/25\n",
      "原材料采掘加工 15/18 总资产报酬率(%) 12/25\n",
      "原材料采掘加工 15/18 资产负债率 16/25\n",
      "高端装备 16/18 主营业务收入(亿元) 0/25\n",
      "高端装备 16/18 净资产(亿元) 3/25\n",
      "高端装备 16/18 总债务(亿元) 4/25\n",
      "高端装备 16/18 存货周转率 18/25\n",
      "高端装备 16/18 短期债务/总债务 20/25\n",
      "高端装备 16/18 带息债务/总投入资本 21/25\n",
      "高端装备 16/18 货币资金/短期债务 22/25\n",
      "公用事业 17/18 主营业务收入(亿元) 1/25\n",
      "公用事业 17/18 经营活动现金流(亿元) 4/25\n",
      "公用事业 17/18 投资活动现金流(亿元) 7/25\n",
      "公用事业 17/18 货币资金/总债务 12/25\n",
      "公用事业 17/18 总资产报酬率(%) 16/25\n",
      "公用事业 17/18 速动比率 18/25\n"
     ]
    }
   ],
   "source": [
    "a.loc[:,a.columns.drop(['名称','报告期','一级分类', '二级分类','企业性质'])],_ = \\\n",
    "fillna_(a.loc[:,a.columns.drop(['名称','报告期','一级分类', '二级分类','企业性质'])],a['一级分类'],n_epoch=4)"
   ]
  },
  {
   "cell_type": "code",
   "execution_count": 79,
   "metadata": {},
   "outputs": [
    {
     "name": "stdout",
     "output_type": "stream",
     "text": [
      "0.0 名称\n",
      "0.0 报告期\n",
      "0.0 总资产(亿元)\n",
      "0.0 货币资产(亿元)\n",
      "0.0 净资产(亿元)\n",
      "0.0 总债务(亿元)\n",
      "0.0 带息债务(亿元)\n",
      "0.0 净债务(亿元)\n",
      "0.0 经营活动现金流(亿元)\n",
      "0.0 投资活动现金流(亿元)\n",
      "0.0 筹资活动现金流(亿元)\n",
      "0.0 主营业务收入(亿元)\n",
      "0.0 主营业务利润(亿元)\n",
      "0.0 净利润(亿元)\n",
      "0.0 主营业务利润率(%)\n",
      "0.0 主营业务收入增长率(%)\n",
      "0.0 总资产报酬率(%)\n",
      "0.0 净资产回报率(%)\n",
      "0.0 流动比率\n",
      "0.0 速动比率\n",
      "0.0 存货周转率\n",
      "0.0 资产负债率\n",
      "0.0 短期债务/总债务\n",
      "0.0 带息债务/总投入资本\n",
      "0.0 货币资金/短期债务\n",
      "0.0 货币资金/总债务\n",
      "0.0 获息倍数\n",
      "8.25559316436886e-05 企业性质\n",
      "0.0 一级分类\n",
      "0.0 二级分类\n",
      "0.0 报告期_2013-12-31 00:00:00\n",
      "0.0 报告期_2014-12-31 00:00:00\n",
      "0.0 报告期_2015-12-31 00:00:00\n",
      "0.0 报告期_2016-12-31 00:00:00\n",
      "0.0 报告期_2017-12-31 00:00:00\n",
      "0.0 是否上市_否\n",
      "0.0 是否上市_是\n"
     ]
    }
   ],
   "source": [
    "for i in range(a.shape[1]):\n",
    "    sum_ = a.iloc[:,i].isnull().sum()\n",
    "    print(sum_/a.shape[0],a.columns[i],)"
   ]
  },
  {
   "cell_type": "code",
   "execution_count": 80,
   "metadata": {},
   "outputs": [],
   "source": [
    "a = pd.concat([a.loc[:,:'获息倍数'],a.loc[:,'二级分类']],axis=1)"
   ]
  },
  {
   "cell_type": "code",
   "execution_count": 81,
   "metadata": {},
   "outputs": [],
   "source": [
    "def rechange(dataframe,col,weight):\n",
    "    if weight[col] == 'log1p':\n",
    "        return np.exp(dataframe[col])-1\n",
    "    else:\n",
    "        return dataframe[col]*weight[col][1]+weight[col][0]\n",
    "\n",
    "for i in a.columns:\n",
    "    if i in _:\n",
    "        a.loc[:,i] = rechange(a,i,_)"
   ]
  },
  {
   "cell_type": "code",
   "execution_count": 82,
   "metadata": {},
   "outputs": [],
   "source": [
    "a.groupby(['二级分类','报告期']).mean().to_excel(Exceleidtor,'filled_mean')\n",
    "a.groupby(['二级分类','报告期']).median().to_excel(Exceleidtor,'filled_median')"
   ]
  },
  {
   "cell_type": "code",
   "execution_count": 83,
   "metadata": {},
   "outputs": [],
   "source": [
    "Exceleidtor = pd.ExcelWriter(f'../{excelname}.xlsx',)"
   ]
  },
  {
   "cell_type": "code",
   "execution_count": null,
   "metadata": {},
   "outputs": [],
   "source": []
  }
 ],
 "metadata": {
  "kernelspec": {
   "display_name": "Python 3",
   "language": "python",
   "name": "python3"
  },
  "language_info": {
   "codemirror_mode": {
    "name": "ipython",
    "version": 3
   },
   "file_extension": ".py",
   "mimetype": "text/x-python",
   "name": "python",
   "nbconvert_exporter": "python",
   "pygments_lexer": "ipython3",
   "version": "3.6.5"
  }
 },
 "nbformat": 4,
 "nbformat_minor": 2
}
