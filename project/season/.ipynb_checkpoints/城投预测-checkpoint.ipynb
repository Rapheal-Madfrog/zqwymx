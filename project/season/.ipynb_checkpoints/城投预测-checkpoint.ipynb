{
 "cells": [
  {
   "cell_type": "code",
   "execution_count": 1,
   "metadata": {},
   "outputs": [],
   "source": [
    "%matplotlib qt\n",
    "from functools import reduce\n",
    "import numpy as np\n",
    "import pandas as pd\n",
    "from pandas import DataFrame\n",
    "from scipy import stats\n",
    "import matplotlib.pyplot as plt\n",
    "import gc\n",
    "from sklearn.preprocessing import PolynomialFeatures,StandardScaler\n",
    "from sklearn.pipeline import Pipeline\n",
    "from sklearn.model_selection import train_test_split,GridSearchCV,cross_val_score,KFold\n",
    "from sklearn.ensemble import RandomForestClassifier,RandomForestRegressor\n",
    "from sklearn.externals import joblib\n",
    "import sklearn.metrics as metrics\n",
    "import warnings\n",
    "warnings.filterwarnings('ignore')\n",
    "\n",
    "path = '../../data/Debt issuing company 2018 report/'"
   ]
  },
  {
   "cell_type": "code",
   "execution_count": 2,
   "metadata": {},
   "outputs": [],
   "source": [
    "if 'data_a' not in locals():\n",
    "    data_a = pd.read_excel('./2013-2018_a_ct.xlsx')\n",
    "    data_2018 = pd.read_excel('./2018_a_ct.xlsx')\n",
    "    weight = joblib.load('./weight_dict_a_ct.m')\n",
    "    result_list = joblib.load('./2018-06-30_result list_a.m')\n",
    "else:\n",
    "    print('data is prepared')"
   ]
  },
  {
   "cell_type": "code",
   "execution_count": 3,
   "metadata": {},
   "outputs": [],
   "source": [
    "list_ = ['获息倍数','货币资金/短期债务','净利润(亿元)','筹资活动现金流(亿元)','主营业务利润率(%)',\n",
    "                 '主营业务收入增长率(%)','投资活动现金流(亿元)','净资产回报率(%)','总资产报酬率(%)','流动比率',]\n",
    "object_list = ['名称', '报告期','最新评级','企业性质', '是否上市', '一级分类', '二级分类',]\n",
    "data_2018_object = pd.DataFrame();data_a_object = pd.DataFrame()\n",
    "\n",
    "for i in object_list:\n",
    "    data_a_object = pd.concat([data_a_object,data_a.pop(i)],axis=1)\n",
    "    data_2018_object = pd.concat([data_2018_object,data_2018.pop(i)],axis=1)\n",
    "pre_2018 = [i[0].predict_proba(data_2018[list_])[:,1] for i in result_list]\n",
    "pre_2018 = [sum(i)/len(result_list) for i in zip(*pre_2018)]\n",
    "pre_a = [i[0].predict_proba(data_a[list_])[:,1] for i in result_list]\n",
    "pre_a = [sum(i)/len(result_list) for i in zip(*pre_a)]\n",
    "\n",
    "data_a_object.insert(0,'0-1 score',pre_a)\n",
    "data_2018_object.insert(0,'0-1 score',pre_2018)"
   ]
  },
  {
   "cell_type": "code",
   "execution_count": 4,
   "metadata": {},
   "outputs": [],
   "source": [
    "a = pd.concat([data_2018_object,data_2018],axis=1)"
   ]
  },
  {
   "cell_type": "code",
   "execution_count": 5,
   "metadata": {},
   "outputs": [],
   "source": [
    "writer = pd.ExcelWriter('./result/城投预测.xlsx')"
   ]
  },
  {
   "cell_type": "code",
   "execution_count": 7,
   "metadata": {},
   "outputs": [],
   "source": [
    "a.to_excel(writer,'trained data', index=True)"
   ]
  },
  {
   "cell_type": "code",
   "execution_count": 8,
   "metadata": {},
   "outputs": [],
   "source": [
    "def rechange(dataframe, col, weight):\n",
    "    if col in weight.keys() :\n",
    "        if weight[col] == 'log1p':\n",
    "            return np.exp(dataframe[col]) - 1\n",
    "        else:\n",
    "            return dataframe[col] * weight[col][1] + weight[col][0]\n",
    "    else :\n",
    "        return dataframe[col]\n",
    "for i in list(a):\n",
    "    a[i] = rechange(a,i,weight)"
   ]
  },
  {
   "cell_type": "code",
   "execution_count": 10,
   "metadata": {},
   "outputs": [],
   "source": [
    "a.to_excel(writer,'origin data', index=False)\n",
    "writer.save()"
   ]
  },
  {
   "cell_type": "code",
   "execution_count": null,
   "metadata": {},
   "outputs": [],
   "source": []
  }
 ],
 "metadata": {
  "kernelspec": {
   "display_name": "Python 3",
   "language": "python",
   "name": "python3"
  },
  "language_info": {
   "codemirror_mode": {
    "name": "ipython",
    "version": 3
   },
   "file_extension": ".py",
   "mimetype": "text/x-python",
   "name": "python",
   "nbconvert_exporter": "python",
   "pygments_lexer": "ipython3",
   "version": "3.6.5"
  }
 },
 "nbformat": 4,
 "nbformat_minor": 2
}
