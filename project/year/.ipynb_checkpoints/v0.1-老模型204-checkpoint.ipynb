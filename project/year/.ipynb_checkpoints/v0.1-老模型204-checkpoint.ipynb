{
 "cells": [
  {
   "cell_type": "code",
   "execution_count": 5,
   "metadata": {},
   "outputs": [],
   "source": [
    "%matplotlib qt\n",
    "import numpy as np\n",
    "import pandas as pd\n",
    "from pandas import DataFrame\n",
    "from scipy import stats\n",
    "import matplotlib.pyplot as plt\n",
    "from mpl_toolkits.mplot3d import Axes3D\n",
    "from matplotlib import cm\n",
    "import gc\n",
    "from sklearn.preprocessing import StandardScaler\n",
    "from sklearn.ensemble import RandomForestClassifier,RandomForestRegressor\n",
    "from sklearn.externals import joblib\n",
    "import warnings\n",
    "warnings.filterwarnings('ignore')\n"
   ]
  },
  {
   "cell_type": "code",
   "execution_count": 10,
   "metadata": {},
   "outputs": [
    {
     "name": "stdout",
     "output_type": "stream",
     "text": [
      "is concating 2013 1/5\n",
      "is concating 2016 4/5\n",
      "finish concat data_y\n"
     ]
    }
   ],
   "source": [
    "company_name = ['青海省投资' ,'浦东']\n",
    "start_year = 2013\n",
    "end_year = 2017\n",
    "\n",
    "excelWriter = pd.ExcelWriter(f'./result/{company_name}.xlsx')\n",
    "data_y = DataFrame()\n",
    "# data_a = DataFrame()\n",
    "for i in range(start_year,end_year+1):\n",
    "    if i % 3 ==0:\n",
    "        print('is concating {} {}/{}'.format(i,i-start_year+1,end_year+1-start_year))\n",
    "    path_y = '../..\\\\data\\\\Debt issuing company 2018 report\\\\'+'y/{}y.xlsx'.format(i)\n",
    "    data_y = pd.concat([data_y,pd.read_excel(path_y)[:-2]])\n",
    "    \n",
    "data_y = pd.concat([data_y,pd.read_excel('../..\\\\data\\\\Debt issuing company 2018 report\\\\'+\n",
    "                                         'a/2018a.xlsx')[:-2]])\n",
    "data_y['净利润(亿元)'] = data_y['净利润(亿元)']*12/data_y['报告期'].dt.month\n",
    "gc.collect()\n",
    "print('finish concat data_y')\n",
    "\n",
    "index_ = [False]*data_y.shape[0]\n",
    "for com in company_name:\n",
    "    index_ = np.array(index_)|data_y['名称'].map(lambda x:x.find(com)>=0)\n",
    "data_y = data_y.loc[index_,:]\n",
    "\n",
    "\n",
    "# data_y.to_excel(excelWriter,sheet_name='all_data',index=False)\n",
    "data_y = data_y[['名称', '报告期', '获息倍数', '货币资金/短期债务', '带息债务(亿元)', '净利润(亿元)', '筹资活动现金流(亿元)', \n",
    "                 '主营业务利润率(%)', 'EBITDA(亿元)', '带息债务(亿元)', '主营业务收入增长率(%)', '投资活动现金流(亿元)', \n",
    "                 '净资产回报率(%)', '总资产报酬率(%)', 'EBITDA/带息债务', '流动比率', ]]\n",
    "\n",
    "data_y.sort_values(['名称','报告期'],inplace=True)"
   ]
  },
  {
   "cell_type": "markdown",
   "metadata": {},
   "source": [
    "###################################################################"
   ]
  },
  {
   "cell_type": "code",
   "execution_count": null,
   "metadata": {},
   "outputs": [],
   "source": [
    "reduce(lambda x,y:x/y,[data_y[i] for i in ['EBITDA(亿元)','带息债务(亿元)','EBITDA/带息债务']])"
   ]
  },
  {
   "cell_type": "code",
   "execution_count": null,
   "metadata": {},
   "outputs": [],
   "source": [
    "data_y = data_y.loc[data_y['报告期'].dt.year>=2017,:]"
   ]
  },
  {
   "cell_type": "code",
   "execution_count": null,
   "metadata": {},
   "outputs": [],
   "source": [
    "data_y"
   ]
  },
  {
   "cell_type": "code",
   "execution_count": null,
   "metadata": {},
   "outputs": [],
   "source": [
    "values = np.array([478618069.1,1432615906,565549290.3,389771636.2,28333566.85,200000000])/100000000\n",
    "coms = ['海口美兰国际机场有限责任公司','天津港(集团)有限公司','大连港股份有限公司',\n",
    "        '营口港务集团有限公司','江苏大丰海港控股集团有限公司','烟台港股份有限公司']\n",
    "for i,j in zip(coms,values):\n",
    "    data_y.loc[data_y['名称']==i,'EBITDA(亿元)'] = data_y.loc[data_y['名称']==i,'EBITDA(亿元)'].fillna(j)"
   ]
  },
  {
   "cell_type": "code",
   "execution_count": null,
   "metadata": {},
   "outputs": [],
   "source": [
    "data_y.loc[data_y['EBITDA/带息债务'].isnull(),'EBITDA/带息债务'] = \\\n",
    "data_y.loc[data_y['EBITDA/带息债务'].isnull(),'EBITDA(亿元)']/data_y.loc[data_y['EBITDA/带息债务'].isnull(),'带息债务(亿元)']*100"
   ]
  },
  {
   "cell_type": "code",
   "execution_count": null,
   "metadata": {},
   "outputs": [],
   "source": [
    "data_y.loc[data_y['报告期'].dt.year==2018,'EBITDA/带息债务'] = data_y.loc[data_y['报告期'].dt.year==2018,'EBITDA/带息债务']*4"
   ]
  },
  {
   "cell_type": "code",
   "execution_count": null,
   "metadata": {},
   "outputs": [],
   "source": [
    "data_y.drop(['EBITDA(亿元)'],axis=1,inplace=True)"
   ]
  },
  {
   "cell_type": "markdown",
   "metadata": {},
   "source": [
    "##########################################################################"
   ]
  },
  {
   "cell_type": "code",
   "execution_count": 11,
   "metadata": {
    "scrolled": false
   },
   "outputs": [
    {
     "name": "stdout",
     "output_type": "stream",
     "text": [
      "名称 0.0\n",
      "报告期 0.0\n",
      "获息倍数 0.24390243902439024\n",
      "货币资金/短期债务 0.17073170731707318\n",
      "带息债务(亿元) 0.17073170731707318\n",
      "净利润(亿元) 0.0\n",
      "筹资活动现金流(亿元) 0.0\n",
      "主营业务利润率(%) 0.0\n",
      "EBITDA(亿元) 0.3902439024390244\n",
      "带息债务(亿元) 0.17073170731707318\n",
      "主营业务收入增长率(%) 0.0\n",
      "投资活动现金流(亿元) 0.0\n",
      "净资产回报率(%) 0.0\n",
      "总资产报酬率(%) 0.17073170731707318\n",
      "EBITDA/带息债务 0.3902439024390244\n",
      "流动比率 0.17073170731707318\n"
     ]
    }
   ],
   "source": [
    "for i in range(data_y.shape[1]):\n",
    "    sum_ = data_y.iloc[:,i].isnull().sum()\n",
    "    print(data_y.columns[i],sum_/data_y.shape[0])\n",
    "\n",
    "huatu = data_y.copy()\n",
    "\n",
    "huatu.dropna(inplace=True)\n",
    "huatu.set_index('报告期',inplace=True)\n",
    "huatu = huatu[['名称','获息倍数','货币资金/短期债务','净利润(亿元)','筹资活动现金流(亿元)','主营业务利润率(%)',\n",
    "                 \"主营业务收入增长率(%)\",'投资活动现金流(亿元)','净资产回报率(%)','总资产报酬率(%)','EBITDA/带息债务','流动比率',]]\n",
    "\n",
    "huatu = huatu.groupby(['名称'], as_index=False).apply(lambda x: x.iloc[-5:,:]  )\n",
    "\n",
    "grid = joblib.load('./clf_grid13.m')\n",
    "huatu.insert(0,'0-1score',grid.best_estimator_.predict_proba(huatu.iloc[:,1:])[:,1])\n",
    "\n",
    "a = [('获息倍数', 0.10293085778684695),('货币资金/短期债务', 0.08466747934544402),('净利润(亿元)', 0.08119844386846073),\n",
    "     ('筹资活动现金流(亿元)', 0.07392047950839306),('主营业务利润率(%)', 0.07373536447871205),('主营业务收入增长率(%)', 0.0681957815907612),\n",
    " ('货币资金/总债务', 0.059822816991053754),('投资活动现金流(亿元)', 0.056517651957992715),('净资产回报率(%)', 0.05488686308572023),\n",
    " ('总资产报酬率(%)', 0.036039995560997476),('短期债务/总债务', 0.0350832996152875),('EBITDA/营业总收入', 0.034048366402690815),\n",
    " ('经营活动现金流(亿元)', 0.0243060183484769),('EBITDA/带息债务', 0.023188518342373905),('流动比率', 0.020910667354810814),\n",
    " ('成立日期', 0.0202111066498566),('经营性现金流/EBITDA', 0.019427371835625647),('货币资产(亿元)', 0.018929246296673925),\n",
    " ('净债务(亿元)', 0.015673135947545064),('EBITDA(亿元)', 0.013656585077388917),('带息债务/总投入资本', 0.013195889611687595),('主营业务利润(亿元)', 0.012345481772175503),\n",
    " ('总资产(亿元)', 0.01071488982344452),('净资产(亿元)', 0.009601482353160072),('总债务(亿元)', 0.009112083719364693),\n",
    " ('主营业务收入(亿元)', 0.006851438201812423),('速动比率', 0.005393658415696681),('存货周转率', 0.00521645305170003),\n",
    " ('资产负债率', 0.0034618581489861853),('带息债务(亿元)', 0.002858337636445684),('是否上市_否', 0.002687756282129772),\n",
    " ('企业性质_民营企业', 0.0012106209382845353),('注册资金低', 0.0),('注册资金中等', 0.0),\n",
    " ('注册资金高', 0.0),('企业性质_中外合资企业', 0.0),('企业性质_中央国有企业', 0.0),('企业性质_地方国有企业', 0.0),\n",
    " ('企业性质_外商独资企业', 0.0),('企业性质_外资企业', 0.0),('企业性质_集体企业', 0.0),('是否上市_是', 0.0)]\n",
    "a = dict(a)\n",
    "a = [a[i] for i in huatu.columns[2:]]\n",
    "a = [j/sum(a) for j in a]\n",
    "\n",
    "huatu1 = huatu.copy()\n",
    "ss = StandardScaler()\n",
    "huatu1.iloc[:,2:] = ss.fit_transform(huatu1.iloc[:,2:])\n",
    "huatu['加权平均'] = huatu1.iloc[:,2:].values.dot(np.array(a).reshape(-1,1))\n",
    "a.append(1)\n",
    "\n",
    "for j in set(huatu1['名称']):\n",
    "    plt.figure()\n",
    "    for i in range(huatu.shape[1]-2):\n",
    "        ax = plt.subplot(4,3,i+1)\n",
    "        huatu.loc[huatu['名称'].isin([j]),:].iloc[:,i+2].plot(label=huatu.columns[i+2]+':'+str(round(a[i],2)),)\n",
    "        ax.legend(loc='best',prop={'size':11})\n",
    "        ax.spines['right'].set_color('none')\n",
    "        ax.spines['top'].set_color('none')\n",
    "        ax.set_xlabel('')\n",
    "\n",
    "    plt.suptitle(j)\n",
    "    plt.show()\n",
    "\n",
    "huatu = huatu.reset_index()\n",
    "huatu_index = list(huatu)\n",
    "huatu_index.insert(0,huatu_index.pop(1))\n",
    "huatu = huatu[huatu_index]\n",
    "\n",
    "huatu.to_excel(excelWriter, sheet_name = 'selected_data', index = False)\n",
    "huatu.stack().unstack(0).to_excel(excelWriter, sheet_name = 'bristling_data', )\n",
    "\n",
    "excelWriter.save()"
   ]
  },
  {
   "cell_type": "markdown",
   "metadata": {},
   "source": [
    "# ---------------------------------"
   ]
  },
  {
   "cell_type": "code",
   "execution_count": null,
   "metadata": {},
   "outputs": [],
   "source": [
    "def pct_ch(dataframe):\n",
    "    for i in range(dataframe.shape[1]):\n",
    "        name = dataframe.columns[i]+'_rate'\n",
    "        dataframe[name] = pd.Series()\n",
    "        for j in range(dataframe.shape[0]-1):\n",
    "            dataframe.iloc[j+1,-1] = (dataframe.iloc[j+1,i]-dataframe.iloc[j,i])/abs(dataframe.iloc[j,i])\n",
    "    return dataframe.iloc[1:,:]\n",
    "\n",
    "b_median = b_.iloc[:,1:].groupby('报告期').median().iloc[::-1,:]\n",
    "b_median['加权平均'] = b_median.values.dot(np.array(a).reshape(-1,1))\n",
    "b_median = pct_ch(b_median)\n",
    "b_median.index = [i for i in range(-b_median.shape[0]+1,0+1)]\n",
    "\n",
    "b_mean = b_.iloc[:,1:].groupby('报告期').mean().iloc[::-1,:]\n",
    "b_mean['加权平均'] = b_mean.values.dot(np.array(a).reshape(-1,1))\n",
    "b_mean = pct_ch(b_mean)\n",
    "b_mean.index = [i for i in range(-b_mean.shape[0]+1,0+1)]\n",
    "\n",
    "lenght = int(prepared_frame.shape[1]/2)\n",
    "\n",
    "prepared_frame = b_median\n",
    "plt.figure()\n",
    "for i in range(lenght):\n",
    "    ax = plt.subplot(4,3,i+1)\n",
    "    prepared_frame.iloc[:,i].plot(label=prepared_frame.columns[i+lenght],)\n",
    "    ax.legend(loc='best',prop={'size':11})\n",
    "    for X,Y,Z in zip(prepared_frame.index,prepared_frame.iloc[:,i],prepared_frame.iloc[:,i+lenght]):\n",
    "        plt.text(X,Y,'%.2f'%Z,ha='center',va='bottom')\n",
    "    ax.spines['right'].set_color('none')\n",
    "    ax.spines['top'].set_color('none')\n",
    "    if i == 1:\n",
    "        plt.title('趋势变化图(中位数)',fontdict={'size':20})\n",
    "plt.show()\n",
    "\n",
    "prepared_frame = b_mean\n",
    "plt.figure()\n",
    "for i in range(lenght):\n",
    "    ax = plt.subplot(4,3,i+1)\n",
    "    prepared_frame.iloc[:,i].plot(label=prepared_frame.columns[i],)\n",
    "    ax.legend(loc='best',prop={'size':11})\n",
    "    for X,Y,Z in zip(prepared_frame.index,prepared_frame.iloc[:,i],prepared_frame.iloc[:,i+lenght]):\n",
    "        plt.text(X,Y,'%.2f'%Z,ha='center',va='bottom')\n",
    "    ax.spines['right'].set_color('none')\n",
    "    ax.spines['top'].set_color('none')\n",
    "    if i == 1:\n",
    "        plt.title('趋势变化图(平均数)',fontdict={'size':20})\n",
    "plt.show()"
   ]
  }
 ],
 "metadata": {
  "kernelspec": {
   "display_name": "Python 3",
   "language": "python",
   "name": "python3"
  },
  "language_info": {
   "codemirror_mode": {
    "name": "ipython",
    "version": 3
   },
   "file_extension": ".py",
   "mimetype": "text/x-python",
   "name": "python",
   "nbconvert_exporter": "python",
   "pygments_lexer": "ipython3",
   "version": "3.6.5"
  }
 },
 "nbformat": 4,
 "nbformat_minor": 2
}
