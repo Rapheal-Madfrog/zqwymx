{
 "cells": [
  {
   "cell_type": "code",
   "execution_count": 1,
   "metadata": {},
   "outputs": [],
   "source": [
    "%matplotlib qt\n",
    "import numpy as np\n",
    "import pandas as pd\n",
    "from pandas import DataFrame\n",
    "from scipy import stats\n",
    "import matplotlib.pyplot as plt\n",
    "from mpl_toolkits.mplot3d import Axes3D\n",
    "from matplotlib import cm\n",
    "import gc\n",
    "from sklearn.linear_model import LogisticRegression,LinearRegression\n",
    "from sklearn.decomposition import PCA\n",
    "from sklearn.preprocessing import PolynomialFeatures,StandardScaler\n",
    "from sklearn.pipeline import Pipeline\n",
    "from sklearn.model_selection import train_test_split,GridSearchCV,cross_val_score,KFold,StratifiedShuffleSplit\n",
    "from sklearn.ensemble import RandomForestClassifier,RandomForestRegressor\n",
    "from sklearn.externals import joblib\n",
    "from sklearn.svm import SVC\n",
    "import sklearn.metrics as metrics\n",
    "import xgboost as xgb\n",
    "from xgboost import XGBClassifier\n",
    "import lightgbm as lgb\n",
    "import warnings\n",
    "warnings.filterwarnings('ignore')\n",
    "\n",
    "path = './data/Debt issuing company 2018 report/'"
   ]
  },
  {
   "cell_type": "markdown",
   "metadata": {},
   "source": [
    "# 去掉异常值"
   ]
  },
  {
   "cell_type": "code",
   "execution_count": 2,
   "metadata": {},
   "outputs": [],
   "source": [
    "def drop_out(frame,col,model='Confidence interval',t_alpha=0.95,alpha=2,IQR_rate=1.5,quantile=0.95):\n",
    "    '''modle: 'gauss','box','quantile' '''\n",
    "    \n",
    "    if model == 'Confidence interval':\n",
    "        u_ = frame[col].mean()\n",
    "        v_ = frame[col].std()\n",
    "        interval_ = stats.t.interval(t_alpha,frame[col].count()-1,u_,v_)\n",
    "        cond_ = (frame[col]<interval_[1])&(frame[col]>interval_[0])\n",
    "    \n",
    "    elif model == 'gauss':\n",
    "        u_ = frame[col].mean()\n",
    "        v_ = frame[col].std()\n",
    "        cond_ = np.abs((frame[col]-u_)/v_) < alpha\n",
    "    \n",
    "    elif model == 'box':\n",
    "        q1 = frame[col].quantile(0.25)\n",
    "        q3 = frame[col].quantile(0.75)\n",
    "        IQR = (q3-q1)*IQR_rate\n",
    "        q1 -= IQR ; q3 += IQR\n",
    "        cond_ = (frame[col]<q3)&(frame[col]>q1)\n",
    "    \n",
    "    elif model == 'quantile':\n",
    "        top_ = frame[col].quantile(quantile)\n",
    "        bottom_ = frame[col].quantile(1-quantile)\n",
    "        cond_ = (frame[col]<top_)&(frame[col]>bottom_)\n",
    "    \n",
    "    else:\n",
    "        print('please try again')\n",
    "        return frame\n",
    "    \n",
    "    index_ = np.where(frame[col]!=frame[col],True,\n",
    "                                                  np.where(cond_,True,False))\n",
    "    frame = frame.loc[index_,:]\n",
    "    return frame"
   ]
  },
  {
   "cell_type": "markdown",
   "metadata": {},
   "source": [
    "# 时间操作"
   ]
  },
  {
   "cell_type": "code",
   "execution_count": 3,
   "metadata": {},
   "outputs": [],
   "source": [
    "def mms(frame,groupby,col,):\n",
    "    max_ = dict(frame.groupby(by=groupby,)[col].max())\n",
    "    min_ = dict(frame.groupby(by=groupby,)[col].min())\n",
    "    max_ = frame[groupby].map(lambda x:max_[x])\n",
    "    min_ = frame[groupby].map(lambda x:min_[x])\n",
    "    result = (frame[col].values - min_)/(max_-min_)\n",
    "    return [round(i,2) for i in result]\n",
    "\n",
    "def moving(frame,groupby,time_col,col,wins=3,weight=[0.55,0.3,0.15]):\n",
    "    '''wins是窗口数,weight是权重,这两个必须对应'''\n",
    "    frame = frame.sort_values([groupby,time_col])\n",
    "    for i in range(wins):\n",
    "        if i == 0 :\n",
    "            list_ = weight[i]*(frame[col].values)\n",
    "        else :\n",
    "            list_ += weight[i]*(frame.groupby(groupby)[col].rolling(i+1).mean().values)\n",
    "    return list_\n",
    "\n",
    "def bodonglv(frame,groupby,time_col,col,wins):\n",
    "    frame = frame.sort_values([groupby,time_col])\n",
    "    std_ = (frame.groupby(groupby)[col].rolling(wins).std().values)\n",
    "    mean_ = (frame.groupby(groupby)[col].rolling(wins).mean().values)\n",
    "    return [round(std_[i]/mean_[i],2) for i in range(len(std_))]\n",
    "\n",
    "def tongbi(frame,groupby,time_col,col,diff):\n",
    "    frame = frame.sort_values([groupby,time_col])\n",
    "    diff_ = frame.groupby(groupby)[col].diff(diff).values\n",
    "    ori_ = frame[col].values\n",
    "    return [np.nan]*diff+[round(diff_[i]/abs(ori_[i-diff]),2) for i in range(diff,frame.shape[0])]"
   ]
  },
  {
   "cell_type": "markdown",
   "metadata": {},
   "source": [
    "# 补充空白值"
   ]
  },
  {
   "cell_type": "code",
   "execution_count": 4,
   "metadata": {},
   "outputs": [],
   "source": [
    "def diy_ss(frame,weight_dict,quantile=0.2):\n",
    "    for i in frame.columns:\n",
    "        if frame[i].min() >= 0:\n",
    "            frame[i] = np.log1p(frame[i])\n",
    "            weight_dict[i] = 'log1p'\n",
    "        else :\n",
    "            mean_ = frame[i][(frame[i]>=frame[i].quantile(quantile)) & (frame[i]<=frame[i].quantile(1-quantile))].mean()\n",
    "            std_ = frame[i][(frame[i]>=frame[i].quantile(quantile)) & (frame[i]<=frame[i].quantile(1-quantile))].std()\n",
    "            weight_dict[i] = [mean_,std_]\n",
    "            frame[i] = (frame[i]-mean_)/std_\n",
    "    return frame,weight_dict"
   ]
  },
  {
   "cell_type": "code",
   "execution_count": 5,
   "metadata": {},
   "outputs": [],
   "source": [
    "def fillna_(frame,group_col,quantile=0.2,n_epoch=3):\n",
    "    \n",
    "    def return_index(aa,bb):\n",
    "        j=0\n",
    "        cc = []\n",
    "        for i in range(len(aa)):\n",
    "            if aa[i] == False :\n",
    "                cc.append(aa[i])\n",
    "            else:\n",
    "                cc.append(bb[j])\n",
    "                j += 1\n",
    "        return cc\n",
    "    \n",
    "    frame_col = frame.columns\n",
    "    \n",
    "    for l,comp in enumerate(set(group_col)):\n",
    "\n",
    "        index_y = list(group_col == comp)\n",
    "        full_col = []\n",
    "        loss_col = {}\n",
    "\n",
    "        for col in frame.columns:\n",
    "            if frame.loc[index_y,col].isnull().sum() == 0:\n",
    "                full_col.append(col)\n",
    "            else:\n",
    "                loss_col[col] = frame.loc[index_y,col].isnull().sum()\n",
    "\n",
    "        loss_col = sorted(loss_col.items(),key=lambda x:x[1])\n",
    "        loss_col = [i[0] for i in loss_col]\n",
    "        \n",
    "        index_dict = {}\n",
    "        if len(full_col) == 0:\n",
    "            index_dict[loss_col[0]] = frame.loc[index_y,loss_col[0]].isnull()\n",
    "            index_dict[loss_col[0]].fillna(index_dict[loss_col[0]].median(),inplace=True)\n",
    "            full_col.append(loss_col[0])\n",
    "            loss_col = loss_col[1:]\n",
    "            \n",
    "        for epoch in range(n_epoch):\n",
    "\n",
    "            if epoch == 0:\n",
    "                for _,col in enumerate(loss_col):\n",
    "                    if np.random.rand()>0.75:\n",
    "                        print(comp,f'{l}/{len(set(group_col))}',col,f'{_}/{len(loss_col)}')\n",
    "                    index_l = list(frame.loc[index_y,col].isnull())\n",
    "                    index_f = list(frame.loc[index_y,col].notnull())\n",
    "                    index_l_ = return_index(index_y,index_l)\n",
    "                    index_f_ = return_index(index_y,index_f)\n",
    "                    index_dict[col] = (index_l_,index_f_)\n",
    "                    rfr = RandomForestRegressor(n_estimators=10,n_jobs=-1,max_features=0.9)\n",
    "                    rfr.fit(frame.loc[index_f_,full_col],frame.loc[index_f_,col])\n",
    "                    pre = rfr.predict(frame.loc[index_l_,full_col])\n",
    "                    frame.loc[index_l_,col] = pre\n",
    "                    full_col.append(col)\n",
    "            \n",
    "            else:\n",
    "                for col in index_dict:\n",
    "                    index_l_ = index_dict[col][0]\n",
    "                    index_f_ = index_dict[col][1]\n",
    "                    rfr = RandomForestRegressor(n_estimators=20,n_jobs=-1,max_features=0.6)\n",
    "                    rfr.fit(frame.loc[index_f_,full_col],frame.loc[index_f_,col])\n",
    "                    pre = rfr.predict(frame.loc[index_l_,full_col])\n",
    "                    frame.loc[index_l_,col] = pre\n",
    "                    \n",
    "    gc.collect()\n",
    "    return frame[frame_col]"
   ]
  },
  {
   "cell_type": "markdown",
   "metadata": {},
   "source": [
    "# 独热编码"
   ]
  },
  {
   "cell_type": "code",
   "execution_count": 6,
   "metadata": {},
   "outputs": [],
   "source": [
    "def one_hot_str(frame,col,replace=True):\n",
    "    if replace:\n",
    "        a_ = frame.pop(col)\n",
    "    else:\n",
    "        a_ = frame[col]\n",
    "    a_.fillna('miss',inplace=True)\n",
    "    a_ = pd.get_dummies(a_,prefix=a_.name)\n",
    "    frame = pd.concat([frame,a_],axis=1)\n",
    "    del a_\n",
    "    return frame\n",
    "def one_hot_int(frame,col,number):\n",
    "    a_ = frame.pop(col)\n",
    "    a_ = pd.qcut(a_,number)\n",
    "    col_name_ = [a_.name+'_'+str(i+1) for i in range(number)]\n",
    "    a_ = pd.get_dummies(a_,)\n",
    "    a_.columns = col_name_\n",
    "    frame = pd.concat([frame,a_],axis=1)\n",
    "    del a_,col_name_\n",
    "    return frame"
   ]
  },
  {
   "cell_type": "markdown",
   "metadata": {},
   "source": [
    "# 截取时间节点"
   ]
  },
  {
   "cell_type": "code",
   "execution_count": 7,
   "metadata": {},
   "outputs": [],
   "source": [
    "def getxyb(date,delta_y = 1,):\n",
    "    '''得到当前日期的前几年最后一天,默认1年'''\n",
    "    aaa = date - pd.tseries.offsets.DateOffset(years=1*delta_y)\n",
    "    return aaa + pd.tseries.offsets.DateOffset(years=1,months=1 - aaa.month, days= - aaa.day)\n",
    "def getxsb(date,delta_s = 1,):\n",
    "    '''得到当前日期的前几个季度最后一天,默认1季度'''\n",
    "    aaa = date - pd.tseries.offsets.DateOffset(months=3*delta_s)\n",
    "    return aaa + pd.tseries.offsets.DateOffset(months=3 - ((aaa.month - 1) % 3), days=-aaa.day)\n",
    "def getxhyb(date,delta_hy = 1,):\n",
    "    '''得到当前日期的前几个半年最后一天,默认1半年'''\n",
    "    aaa = date - pd.tseries.offsets.DateOffset(months=6*delta_hy)\n",
    "    return aaa + pd.tseries.offsets.DateOffset(months=6 - ((aaa.month - 1) % 6), days=-aaa.day)"
   ]
  },
  {
   "cell_type": "markdown",
   "metadata": {},
   "source": [
    "# 原始财务数据读取+分布图"
   ]
  },
  {
   "cell_type": "code",
   "execution_count": 8,
   "metadata": {},
   "outputs": [
    {
     "name": "stdout",
     "output_type": "stream",
     "text": [
      "is concating 2013 1/6\n",
      "is concating 2016 4/6\n",
      "finish concat data_y\n",
      "[   0    0  178 2569  232  420 3327 3327  810 1083  980  397  735  578\n",
      "  933 1634 3343  937 2266 3128 4122  850 3333 3334 3186 2575 8015]\n"
     ]
    }
   ],
   "source": [
    "start_year = 2013\n",
    "end_year = 2018\n",
    "data_a = DataFrame()\n",
    "for i in range(start_year,end_year+1):\n",
    "    if i % 3 ==0:\n",
    "        print('is concating {} {}/{}'.format(i,i-start_year+1,end_year+1-start_year))\n",
    "    try:\n",
    "        path_a = path+f'y/{i}y.xlsx'\n",
    "        data_a_ = pd.read_excel(path_a)[:-2]\n",
    "        data_a_.drop(['是否经过审计','审计意见']+[i for i in data_a_.columns if i.find('E')!=-1],axis=1,inplace=True)\n",
    "        data_a = pd.concat([data_a,data_a_])\n",
    "    except:\n",
    "        print(f'no {i}')\n",
    "        pass\n",
    "del data_a_\n",
    "gc.collect()\n",
    "print('finish concat data_y')\n",
    "\n",
    "print(np.array(list(data_a.isnull().sum(0))))\n",
    "data_a.dropna(thresh=data_a.shape[1]-6,inplace=True)\n",
    "data_a['n_loss'] = data_a.isnull().sum(1)"
   ]
  },
  {
   "cell_type": "code",
   "execution_count": 9,
   "metadata": {},
   "outputs": [],
   "source": [
    "# for k in range(2):\n",
    "#     col_ = np.random.choice(data_a.columns[2:-1],len(data_a.columns[2:-1]),replace=False,)\n",
    "#     for j in col_:\n",
    "#         data_a = drop_out(data_a,j,model='gauss',alpha=3)"
   ]
  },
  {
   "cell_type": "code",
   "execution_count": 10,
   "metadata": {},
   "outputs": [],
   "source": [
    "# for i in range(data_a.shape[1]-3):\n",
    "#     ax = plt.subplot(5,5,i+1)\n",
    "#     ax.scatter(range(data_a.shape[0]),data_a.iloc[:,i+2].sort_values(),s=3)\n",
    "#     plt.title(data_a.columns[i+2])\n",
    "# plt.suptitle('散点趋势图')"
   ]
  },
  {
   "cell_type": "markdown",
   "metadata": {},
   "source": [
    "# 公司信息读取"
   ]
  },
  {
   "cell_type": "code",
   "execution_count": 12,
   "metadata": {},
   "outputs": [],
   "source": [
    "indestry = pd.read_excel(path+'comp_feature/产业类发债企业行业分类0910.xlsx',sheet_name='城投类企业')\n",
    "\n",
    "all_com = indestry[['名称','最新评级', '企业性质', '是否上市','一级分类', '二级分类']]"
   ]
  },
  {
   "cell_type": "code",
   "execution_count": 13,
   "metadata": {},
   "outputs": [],
   "source": [
    "list_company_property = ['民营企业','地方国有企业','中央国有企业']\n",
    "all_com['企业性质'] = all_com['企业性质'].map(lambda x:x if x in list_company_property else '其他')"
   ]
  },
  {
   "cell_type": "markdown",
   "metadata": {},
   "source": [
    "# 违约信息读取+筛选第一次"
   ]
  },
  {
   "cell_type": "code",
   "execution_count": 14,
   "metadata": {},
   "outputs": [
    {
     "name": "stdout",
     "output_type": "stream",
     "text": [
      "违约记录数: 181\n",
      "违约公司数: 74\n",
      "总表里的违约公司数: 0\n",
      "缺失数: 74\n",
      "缺失的公司名如下:\n",
      "---------------------------\n",
      " ['上海云峰(集团)有限公司' '上海华信国际集团有限公司' '上海市建设机电安装有限公司' '东兴金满堂商贸有限公司'\n",
      " '东北特殊钢集团有限责任公司' '东飞马佐里纺机有限公司' '中伟(徐州)新型材料科技有限公司' '中国中钢股份有限公司'\n",
      " '中国城市建设控股集团有限公司' '中国第二重型机械集团有限公司' '中安科股份有限公司' '中恒通(福建)机械制造有限公司'\n",
      " '中成新星油田工程技术服务股份有限公司' '中煤集团山西华昱能源有限公司' '中科云网科技集团股份有限公司' '中融双创(北京)科技集团有限公司'\n",
      " '丹东港集团有限公司' '五洋建设集团股份有限公司' '亚邦投资控股集团有限公司' '亿利资源集团有限公司' '亿阳集团股份有限公司'\n",
      " '保定天威英利新能源有限公司' '保定天威集团有限公司' '信阳市弘昌管道燃气工程有限责任公司' '内蒙古博源控股集团有限公司'\n",
      " '内蒙古奈伦农业科技股份有限公司' '内蒙古奈伦集团股份有限公司' '凯迪生态环境科技股份有限公司' '华珠(泉州)鞋业有限公司'\n",
      " '华盛江泉集团有限公司' '协鑫集成科技股份有限公司' '南京雨润食品有限公司' '吉林粮食集团收储经销有限公司' '四川圣达集团有限公司'\n",
      " '四川省煤炭产业集团有限责任公司' '大连机床集团有限责任公司' '天津市天联滨海复合材料有限公司' '天津市泰亨气体有限公司'\n",
      " '安徽蓝博旺机械集团' '宿迁市致富皮业有限公司' '富贵鸟股份有限公司' '山东山水水泥集团有限公司' '山东滨州新天阳化工有限责任公司'\n",
      " '山东玖龙海洋产业股份有限公司' '山东迪浩耐磨管道股份有限公司' '广州华工百川科技有限公司' '广西有色金属集团有限公司'\n",
      " '惠州侨兴电信工业有限公司' '惠州侨兴电讯工业有限公司' '春和集团有限公司' '武汉国裕物流产业集团有限公司' '江苏中联物流股份有限公司'\n",
      " '江苏保千里视像科技集团股份有限公司' '江苏大宏纺织集团股份有限公司' '河北省物流产业集团有限公司' '河南佳源乳业股份有限公司'\n",
      " '波鸿集团有限公司' '浙江平湖华龙实业股份有限公司' '淄博宏达矿业有限公司' '湖州厉华妤婕联合纺织有限公司' '湖州金泰科技股份有限公司'\n",
      " '珠海中富实业股份有限公司' '甘肃华协农业生物科技股份有限公司' '甘肃宏良皮业股份有限公司' '百花医药集团股份有限公司'\n",
      " '神雾环保技术股份有限公司' '神雾科技集团股份有限公司' '莱芜信通印刷设备有限公司' '鄂尔多斯市益通路桥有限公司'\n",
      " '重庆市福星门业(集团)有限公司' '金乡县华光食品进出口有限公司' '阳光凯迪新能源集团有限公司' '陕西国德电气制造有限公司'\n",
      " '陕西通海绒业股份有限公司'] (74, 3)\n"
     ]
    }
   ],
   "source": [
    "list_re_col = ['发生日期','名称',]#'发行时主体评级'\n",
    "\n",
    "re_of_de = pd.read_excel(path+'report of defaulted.xlsx',)[:-2]\n",
    "re_of_de = re_of_de[list_re_col]\n",
    "gc.collect()\n",
    "print('违约记录数:',re_of_de['名称'].shape[0])\n",
    "re_of_de = re_of_de.groupby(['名称',],as_index=False).apply(lambda x:x.sort_values(['发生日期']).iloc[0])\n",
    "print('违约公司数:',re_of_de['名称'].shape[0])\n",
    "all_com['whetherin'] = all_com['名称'].isin(re_of_de['名称'])*1  ##  总表中的违约公司\n",
    "print('总表里的违约公司数:',sum(all_com['whetherin']))\n",
    "re_of_de['whetherin'] = re_of_de['名称'].isin(all_com['名称'])*1  ##   在总表中有记录的违约公司\n",
    "print('缺失数:',re_of_de['名称'].shape[0]-sum(all_com['whetherin']))\n",
    "\n",
    "loss_re_name = re_of_de.loc[re_of_de['whetherin']==0,'名称']\n",
    "print('缺失的公司名如下:\\n---------------------------\\n',pd.unique(loss_re_name),re_of_de.shape)\n",
    "\n",
    "re_of_de = re_of_de.loc[re_of_de['whetherin']==1,:]\n",
    "\n",
    "re_of_de = re_of_de.iloc[:,:-1]\n",
    "all_com = all_com.iloc[:,:-1]"
   ]
  },
  {
   "cell_type": "markdown",
   "metadata": {},
   "source": [
    "# 时光机器"
   ]
  },
  {
   "cell_type": "code",
   "execution_count": 14,
   "metadata": {},
   "outputs": [],
   "source": [
    "re_of_de['发生日期'] = re_of_de['发生日期'].map(lambda x:getxyb(x))"
   ]
  },
  {
   "cell_type": "markdown",
   "metadata": {},
   "source": [
    "# 处理财报数据,如果要画图就在这里改"
   ]
  },
  {
   "cell_type": "markdown",
   "metadata": {},
   "source": [
    "# 切割数据"
   ]
  },
  {
   "cell_type": "code",
   "execution_count": 15,
   "metadata": {},
   "outputs": [],
   "source": [
    "# data_a = data_a.loc[data_a['名称'].isin(all_com['名称']),:]\n",
    "\n",
    "# re_of_de = re_of_de.merge(data_a,on=['名称',],)  #留下违约公司所有财报数据re_of_de\n",
    "# re_of_de = re_of_de.loc[re_of_de['发生日期'] >= re_of_de['报告期'],:]\n",
    "# re_of_de.insert(0,'target',(re_of_de['发生日期'].dt.year - re_of_de['报告期'].dt.year))\n",
    "\n",
    "# data_a.insert(0,'target',-1)\n",
    "# fin_col = re_of_de.columns\n",
    "# data_a = data_a.loc[~data_a['名称'].isin(re_of_de['名称']),:]   #总的数据表中剔除re_of_de\n",
    "\n",
    "# data_2017 = data_a.loc[data_a['报告期'].dt.year == 2017,:]\n",
    "# data_a = data_a.loc[data_a['报告期'].dt.year != 2017,:]\n",
    "\n",
    "# data_a.dropna(inplace=True)  #总表剔除nan\n",
    "\n",
    "# for k in range(2):\n",
    "#     col_ = np.random.choice(data_a.columns[3:-1],len(data_a.columns[3:-1]),replace=False,)\n",
    "#     for j in col_:\n",
    "#         data_a = drop_out(data_a,j,model='gauss',alpha=3)\n",
    "\n",
    "# a = pd.concat([re_of_de,data_2017,data_a])[fin_col]\n",
    "\n",
    "# del re_of_de,data_a\n",
    "# gc.collect()\n",
    "\n",
    "# weight_dict = {}\n",
    "# a.iloc[:,4:-1],weight_dict = diy_ss(a.iloc[:,4:-1],weight_dict,0)\n",
    "\n",
    "# a = one_hot_str(a,'报告期',replace=False)\n",
    "\n",
    "# com_flist = ['名称','是否交通','一级分类','企业性质','是否上市']\n",
    "# a = a.merge(all_com[com_flist],on='名称')\n",
    "\n",
    "# com_flist_ = com_flist.copy()\n",
    "# for o in ['名称','一级分类']:\n",
    "#     com_flist_.remove(o)\n",
    "\n",
    "# for i in com_flist_:\n",
    "#     a = one_hot_str(a,i)\n",
    "\n",
    "# drop_length = 1\n",
    "# drop_length += len(set(a['报告期']))\n",
    "# for i in com_flist_:\n",
    "#     drop_length += len(set(all_com[i]))\n",
    "\n",
    "# cols_a = list(a)\n",
    "# cols_a.insert(len(cols_a), cols_a.pop(cols_a.index('一级分类')))\n",
    "# a = a[cols_a]\n",
    "\n",
    "# a.iloc[:,4:-1] = fillna_(a.iloc[:,4:-1],a['一级分类'],n_epoch=4)\n",
    "\n",
    "# def rechange(dataframe,col,weight):\n",
    "#     if weight[col] == 'log1p':\n",
    "#         return np.exp(dataframe[col])-1\n",
    "#     else:\n",
    "#         return dataframe[col]*weight[col][1]+weight[col][0]\n",
    "\n",
    "# a = a.iloc[:,:drop_length*-1]\n",
    "# a.insert(a.shape[1],'净利润/带息债务',rechange(a,'净利润(亿元)',weight_dict)/((rechange(a,'带息债务(亿元)',weight_dict))+0.01))\n",
    "# a[['净利润/带息债务']],weight_dict = diy_ss(a[['净利润/带息债务']],weight_dict,0)\n",
    "\n",
    "# a.to_excel(path+'2013-2018_y.xlsx',index=False)\n",
    "# joblib.dump(weight_dict,path+'weight_dict_y.m')"
   ]
  },
  {
   "cell_type": "code",
   "execution_count": 15,
   "metadata": {},
   "outputs": [],
   "source": [
    "fin_col = re_of_de.columns\n",
    "\n",
    "del re_of_de,data_a\n",
    "gc.collect()\n",
    "\n",
    "a = pd.read_excel(path+'2013-2018_y.xlsx')\n",
    "weight_dict = joblib.load(path+'weight_dict_y.m')"
   ]
  },
  {
   "cell_type": "markdown",
   "metadata": {},
   "source": [
    "# 违约范围划定"
   ]
  },
  {
   "cell_type": "code",
   "execution_count": 16,
   "metadata": {},
   "outputs": [],
   "source": [
    "a.loc[a['发生日期'].notnull(),'target'] = a.loc[a['发生日期'].notnull(),'target'].map(lambda x: 1 if x <= 0 else 0)"
   ]
  },
  {
   "cell_type": "code",
   "execution_count": 17,
   "metadata": {},
   "outputs": [
    {
     "data": {
      "text/plain": [
       "19"
      ]
     },
     "execution_count": 17,
     "metadata": {},
     "output_type": "execute_result"
    }
   ],
   "source": [
    "a.drop('发生日期',axis=1,inplace=True)\n",
    "re_of_de_0 = a.loc[a['target']==0,:]\n",
    "re_of_de_1 = a.loc[a['target']==1,:]\n",
    "data_2017 = a.loc[(a['报告期'].dt.year == 2017)&(a['target'] == -1),:]\n",
    "data_a = a.loc[(a['报告期'].dt.year != 2017)&(a['target'] == -1),:]\n",
    "data_a['target'] = data_a['target'].map(lambda x:0)\n",
    "del a\n",
    "data_a = data_a.loc[data_a['报告期'].between('2015-01-01','2017-12-31')]\n",
    "gc.collect()"
   ]
  },
  {
   "cell_type": "markdown",
   "metadata": {},
   "source": [
    "# 处理公司非财报数据"
   ]
  },
  {
   "cell_type": "code",
   "execution_count": 18,
   "metadata": {},
   "outputs": [],
   "source": [
    "all_com = all_com[['名称','是否交通','企业性质','是否上市',]]    #'一级分类','二级分类'\n",
    "all_com = one_hot_str(all_com,'企业性质')\n",
    "all_com = one_hot_str(all_com,'是否上市')\n",
    "# all_com = one_hot_str(all_com,'所属省市')\n",
    "# all_com = one_hot_int(all_com,'注册资本(万元)',number=3)\n",
    "\n",
    "re_of_de_0 = re_of_de_0.merge(all_com,on='名称',)\n",
    "re_of_de_1 = re_of_de_1.merge(all_com,on='名称',)\n",
    "data_2017 = data_2017.merge(all_com,on='名称',)\n",
    "data_a = data_a.merge(all_com,on='名称')\n",
    "del all_com"
   ]
  },
  {
   "cell_type": "markdown",
   "metadata": {},
   "source": [
    "# 看看corr"
   ]
  },
  {
   "cell_type": "code",
   "execution_count": 21,
   "metadata": {},
   "outputs": [],
   "source": [
    "a = [('净资产回报率(%)', 0.2831613389507573),\n",
    " ('净利润(亿元)', 0.19612521767114766),\n",
    " ('流动比率', 0.10006272874771727),\n",
    " ('净资产(亿元)', 0.07643978218479412),\n",
    " ('主营业务利润(亿元)', 0.06485263851265907),\n",
    " ('货币资金/短期债务', 0.04648683392338189),\n",
    " ('总资产报酬率(%)', 0.03358045966497278),\n",
    " ('筹资活动现金流(亿元)', 0.0299973498895215),\n",
    " ('投资活动现金流(亿元)', 0.02486080556388141),\n",
    " ('总资产(亿元)', 0.02458365655281366),\n",
    " ('短期债务/总债务', 0.023363955568147503),\n",
    " ('经营活动现金流(亿元)', 0.01991941294740471),\n",
    " ('速动比率', 0.017362472591467188),\n",
    " ('货币资产(亿元)', 0.013813465657292835),\n",
    " ('带息债务(亿元)', 0.012756002097363587),\n",
    " ('主营业务收入(亿元)', 0.00853891335415696),\n",
    " ('净债务(亿元)', 0.008103904697081556),\n",
    " ('主营业务利润率(%)', 0.005525472849658592),\n",
    " ('资产负债率', 0.0040236587366119),\n",
    " ('存货周转率', 0.002683313003464182),\n",
    " ('总债务(亿元)', 0.002371458968943401),]\n",
    "pd.concat([re_of_de,data_2018,data_a])[[i[0] for i in a]].corr().to_excel(path+'corr.xlsx',)"
   ]
  },
  {
   "cell_type": "code",
   "execution_count": 13,
   "metadata": {},
   "outputs": [],
   "source": [
    "# list_choich = ['名称', '报告期','获息倍数','货币资金/短期债务','净利润亿元','筹资活动现金流亿元','主营业务利润率%',\n",
    "#                 '主营业务收入增长率%','投资活动现金流亿元','净资产回报率%','总资产报酬率%','流动比率']\n"
   ]
  },
  {
   "cell_type": "code",
   "execution_count": 14,
   "metadata": {},
   "outputs": [],
   "source": [
    "# for i in [re_of_de,data_2018]:\n",
    "#     i.fillna(0,inplace=True)"
   ]
  },
  {
   "cell_type": "markdown",
   "metadata": {},
   "source": [
    "# 把标签特征移入data_object"
   ]
  },
  {
   "cell_type": "code",
   "execution_count": 19,
   "metadata": {},
   "outputs": [],
   "source": [
    "# object_list = ['名称', '报告期','一级分类','二级分类']\n",
    "object_list = ['名称', '报告期',]\n",
    "data_a_object = pd.DataFrame();data_2017_object = pd.DataFrame();re_object_0 = pd.DataFrame();re_object_1 = pd.DataFrame()\n",
    "\n",
    "for i in object_list:\n",
    "    data_a_object = pd.concat([data_a_object,data_a.pop(i)],axis=1)\n",
    "for i in object_list:\n",
    "    data_2017_object = pd.concat([data_2017_object,data_2017.pop(i)],axis=1)\n",
    "for i in object_list:\n",
    "    re_object_0 = pd.concat([re_object_0,re_of_de_0.pop(i)],axis=1)\n",
    "for i in object_list:\n",
    "    re_object_1 = pd.concat([re_object_1,re_of_de_1.pop(i)],axis=1)\n",
    "\n",
    "re_target_0 = re_of_de_0.pop('target')\n",
    "\n",
    "re_target_0 = re_target_0.map(lambda x : 0)\n",
    "re_target_1 = re_of_de_1.pop('target')\n",
    "data_a_target = data_a.pop('target')\n",
    "data_2017_target = data_2017.pop('target')"
   ]
  },
  {
   "cell_type": "markdown",
   "metadata": {},
   "source": [
    "# 数据集 -> x1,x2,y1,y2"
   ]
  },
  {
   "cell_type": "code",
   "execution_count": 20,
   "metadata": {},
   "outputs": [],
   "source": [
    "def get_hxy(n_splits,length_0=0.6,length_a=0.022,test_size=0.3,simple=False,random_state=None):\n",
    "    '''横向数据'''\n",
    "    global list_\n",
    "    list_ = re_of_de_1.columns\n",
    "    index_a = np.random.permutation(len(data_a_target))[:int(len(data_a_target)*length_a)]\n",
    "    x = pd.concat([re_of_de_1,data_a.iloc[index_a,:]],); y = np.r_[re_target_1,[0]*(len(index_a))]\n",
    "    x.index = range(len(x))\n",
    "    ss = StratifiedShuffleSplit(n_splits=n_splits, test_size=test_size, random_state=random_state)\n",
    "#     for train_index, test_index in ss.split(x, y):\n",
    "#         x1, x2 = x.iloc[train_index,:], x.iloc[test_index,:]\n",
    "#         y1, y2 = y[train_index], y[test_index]\n",
    "#     x1,x2,y1,y2 = train_test_split(pd.concat([re_of_de_1,data_a.iloc[index_a,:]],),\n",
    "#                                    np.r_[re_target_1,[0]*(len(index_a))],test_size=test_size,random_state=random_state)\n",
    "    if simple:\n",
    "        pass\n",
    "    return ss, x, y\n",
    "\n",
    "def get_zxy(length_0=0.6,test_size=0.3,simple=False,random_state=None):\n",
    "    '''纵向数据'''\n",
    "    global x1,x2,y1,y2,list_\n",
    "    list_ = re_of_de_1.columns\n",
    "    index_0 = np.random.permutation(len(re_target_0))[:int(len(re_target_0)*length_0)]\n",
    "    x1,x2,y1,y2 = train_test_split(pd.concat([re_of_de_1,re_of_de_0.iloc[index_0,:],],),\n",
    "                                   np.r_[re_target_1,[0]*(len(index_0))],test_size=test_size,random_state=random_state)\n",
    "    if simple:\n",
    "        list_ = ['获息倍数' , '货币资金/短期债务' , '净利润(亿元)' , '筹资活动现金流(亿元)' ,\n",
    "                 '主营业务利润率(%)' , '主营业务收入增长率(%)' , '投资活动现金流(亿元)' ,\n",
    "                 '净资产回报率(%)' , '总资产报酬率(%)' , '流动比率' , '净利润/带息债务']\n",
    "        x1 = x1[list_]\n",
    "        x2 = x2[list_]"
   ]
  },
  {
   "cell_type": "markdown",
   "metadata": {},
   "source": [
    "# hpsklearn"
   ]
  },
  {
   "cell_type": "code",
   "execution_count": 21,
   "metadata": {},
   "outputs": [],
   "source": [
    "from functools import reduce"
   ]
  },
  {
   "cell_type": "code",
   "execution_count": 22,
   "metadata": {},
   "outputs": [
    {
     "name": "stdout",
     "output_type": "stream",
     "text": [
      "WARN: OMP_NUM_THREADS=None =>\n",
      "... If you are using openblas if you are using openblas set OMP_NUM_THREADS=1 or risk subprocess calls hanging indefinitely\n"
     ]
    }
   ],
   "source": [
    "from hyperopt import tpe,fmin,hp\n",
    "from hpsklearn import random_forest,HyperoptEstimator"
   ]
  },
  {
   "cell_type": "markdown",
   "metadata": {},
   "source": [
    "## random_forset"
   ]
  },
  {
   "cell_type": "code",
   "execution_count": 68,
   "metadata": {},
   "outputs": [],
   "source": [
    "#rf\n",
    "def model_score(args):\n",
    "    n_estimators ,max_depth ,min_samples_split ,max_features = args\n",
    "    model = RandomForestClassifier(n_estimators=n_estimators,max_depth=max_depth,\n",
    "                                   class_weight='balanced',n_jobs=-1,\n",
    "                                   min_samples_split=min_samples_split,max_features=max_features,)\n",
    "    model.fit(x1,y1)\n",
    "    pre = model.predict(x2)\n",
    "    recall_ = metrics.recall_score(pre,y2)\n",
    "    accu_ = metrics.accuracy_score(pre,y2)\n",
    "    auc_ = metrics.roc_auc_score(pre,y2)\n",
    "    score_ = -(recall_*0.6+auc_*0.2+accu_*0.2)\n",
    "    return score_\n",
    "\n",
    "space_dict = {\n",
    "              'n_estimators':[i for i in range(30,90,5)],\n",
    "              'max_depth':[2,3,4,],\n",
    "              'min_samples_split':[i for i in range(2,11,2)],\n",
    "              'max_features':[i/100 for i in range(50,71,5)],\n",
    "              }\n",
    "space = [hp.choice(i,space_dict[i]) for i in space_dict.keys()]\n",
    "\n",
    "def diy_hyporept(epoch, method, simple, index_number = None, n_spilts = 10):\n",
    "    result_list = []\n",
    "    if method == 'z':\n",
    "        for i in range(epoch):\n",
    "            get_zxy(simple=simple, random_state=i*3)\n",
    "            index = fmin(model_score,space,tpe.suggest,\n",
    "                        reduce(lambda x,y:x*y, [len(i) for i in space_dict.values()]) if index_number == None else index_number)\n",
    "\n",
    "            result_dict = {}\n",
    "            for i in index.keys():\n",
    "                result_dict[i] = space_dict[i][index[i]]\n",
    "            rfc = RandomForestClassifier(n_estimators=result_dict['n_estimators'],\n",
    "                                     max_depth=result_dict['max_depth'],\n",
    "                                     min_samples_split=result_dict['min_samples_split'],\n",
    "                                     max_features=result_dict['max_features'],\n",
    "                                     class_weight='balanced',n_jobs=-1,)\n",
    "            global x1,x2,y1,y2\n",
    "            rfc.fit(x1,y1)\n",
    "            result_list.append((rfc,result_dict))\n",
    "    \n",
    "    elif method == 'h':\n",
    "        for i in range(int(np.sqrt(epoch))+1):\n",
    "            ss, x, y = get_hxy(n_splits=int(np.sqrt(epoch)),)\n",
    "            for train_index, test_index in ss.split(x, y):\n",
    "                x1, x2 = x.iloc[train_index,:], x.iloc[test_index,:]\n",
    "                y1, y2 = y[train_index], y[test_index]\n",
    "                index = fmin(model_score,space,tpe.suggest,\n",
    "                        reduce(lambda x,y:x*y, [len(i) for i in space_dict.values()]) if index_number == None else index_number)\n",
    "\n",
    "                result_dict = {}\n",
    "                for i in index.keys():\n",
    "                    result_dict[i] = space_dict[i][index[i]]\n",
    "                rfc = RandomForestClassifier(n_estimators=result_dict['n_estimators'],\n",
    "                                         max_depth=result_dict['max_depth'],\n",
    "                                         min_samples_split=result_dict['min_samples_split'],\n",
    "                                         max_features=result_dict['max_features'],\n",
    "                                         class_weight='balanced',n_jobs=-1,)\n",
    "                rfc.fit(x1, y1)\n",
    "                result_list.append((rfc,result_dict))\n",
    "    return result_list"
   ]
  },
  {
   "cell_type": "code",
   "execution_count": 71,
   "metadata": {},
   "outputs": [],
   "source": [
    "result_list = diy_hyporept(300,'h',True,30)"
   ]
  },
  {
   "cell_type": "code",
   "execution_count": null,
   "metadata": {},
   "outputs": [],
   "source": [
    "#lr\n",
    "def model_score(args):\n",
    "    penalty, tol, C = args\n",
    "    model = LogisticRegression(penalty=penalty,tol=tol,C=C,n_jobs=-1,)\n",
    "    model.fit(x1,y1)\n",
    "    pre = model.predict(x2)\n",
    "    recall_ = metrics.recall_score(pre,y2)\n",
    "    accu_ = metrics.accuracy_score(pre,y2)\n",
    "    auc_ = metrics.roc_auc_score(pre,y2)\n",
    "    score_ = -(recall_*0.25+auc_*0.5+accu_*0.25)\n",
    "    return score_\n",
    "\n",
    "space_dict = {\n",
    "              'penalty':['l1', 'l2'],\n",
    "              'tol':[0.0001*i for i in [0.1,0.2,0.5,1,2,5,10]],\n",
    "              'C':[i/10 for i in range(1,100,9)],\n",
    "              }\n",
    "space = [hp.choice(i,space_dict[i]) for i in space_dict.keys()]\n",
    "\n",
    "result_list = []\n",
    "for epoch in range(epoch):\n",
    "    get_zxy(simple=True)\n",
    "    print(f'epoch:{i}, x1:{x1.values[0][0]}')\n",
    "#     index = fmin(model_score,space,tpe.suggest,30)\n",
    "    index = fmin(model_score,space,tpe.suggest,reduce(lambda x,y:x*y, [len(i) for i in space_dict.values()]))\n",
    "\n",
    "    result_dict = {}\n",
    "    for i in index.keys():\n",
    "        result_dict[i] = space_dict[i][index[i]]\n",
    "    lr = LogisticRegression(penalty=result_dict['penalty'],\n",
    "                             tol=result_dict['tol'],\n",
    "                             C=result_dict['C'],n_jobs=-1,)\n",
    "    result_list.append((lr,result_dict))"
   ]
  },
  {
   "cell_type": "code",
   "execution_count": 72,
   "metadata": {},
   "outputs": [
    {
     "name": "stdout",
     "output_type": "stream",
     "text": [
      "0.9093028322440088\n",
      "0.8960130718954249\n",
      "0.9093028322440088\n",
      "0.9468409586056645\n",
      "0.9093028322440088\n",
      "0.9734204793028323\n",
      "0.9093028322440088\n",
      "0.8318954248366013\n",
      "0.882723311546841\n",
      "0.9734204793028323\n",
      "0.8960130718954249\n",
      "0.9734204793028323\n",
      "0.9734204793028323\n",
      "0.9093028322440088\n",
      "0.8960130718954249\n",
      "0.8053159041394335\n",
      "0.8960130718954249\n",
      "0.9734204793028323\n",
      "0.9093028322440088\n",
      "0.8451851851851853\n",
      "0.8186056644880174\n",
      "0.9093028322440088\n",
      "0.8186056644880174\n",
      "0.9093028322440088\n",
      "0.9093028322440088\n",
      "0.8186056644880174\n",
      "0.9734204793028323\n",
      "0.986710239651416\n",
      "0.9225925925925926\n",
      "0.8960130718954249\n",
      "0.9734204793028323\n",
      "0.9225925925925926\n"
     ]
    },
    {
     "ename": "KeyboardInterrupt",
     "evalue": "",
     "traceback": [
      "\u001b[1;31m---------------------------------------------------------------------------\u001b[0m",
      "\u001b[1;31mKeyboardInterrupt\u001b[0m                         Traceback (most recent call last)",
      "\u001b[1;32m<ipython-input-72-9ec2360b58a6>\u001b[0m in \u001b[0;36m<module>\u001b[1;34m()\u001b[0m\n\u001b[0;32m      1\u001b[0m \u001b[1;32mfor\u001b[0m \u001b[0mstep\u001b[0m\u001b[1;33m,\u001b[0m\u001b[1;33m(\u001b[0m\u001b[0mi\u001b[0m\u001b[1;33m,\u001b[0m\u001b[0m_\u001b[0m\u001b[1;33m)\u001b[0m \u001b[1;32min\u001b[0m \u001b[0menumerate\u001b[0m\u001b[1;33m(\u001b[0m\u001b[0mresult_list\u001b[0m\u001b[1;33m)\u001b[0m\u001b[1;33m:\u001b[0m\u001b[1;33m\u001b[0m\u001b[0m\n\u001b[0;32m      2\u001b[0m \u001b[1;31m# metrics.recall_score(y2,rfc.predict(x2))\u001b[0m\u001b[1;33m\u001b[0m\u001b[1;33m\u001b[0m\u001b[0m\n\u001b[1;32m----> 3\u001b[1;33m     \u001b[0mprint\u001b[0m\u001b[1;33m(\u001b[0m\u001b[1;36m0.6\u001b[0m\u001b[1;33m*\u001b[0m\u001b[0mmetrics\u001b[0m\u001b[1;33m.\u001b[0m\u001b[0mrecall_score\u001b[0m\u001b[1;33m(\u001b[0m\u001b[0my2\u001b[0m\u001b[1;33m,\u001b[0m\u001b[0mi\u001b[0m\u001b[1;33m.\u001b[0m\u001b[0mpredict\u001b[0m\u001b[1;33m(\u001b[0m\u001b[0mx2\u001b[0m\u001b[1;33m)\u001b[0m\u001b[1;33m)\u001b[0m\u001b[1;33m+\u001b[0m          \u001b[1;36m0.2\u001b[0m\u001b[1;33m*\u001b[0m\u001b[0mmetrics\u001b[0m\u001b[1;33m.\u001b[0m\u001b[0mroc_auc_score\u001b[0m\u001b[1;33m(\u001b[0m\u001b[0my2\u001b[0m\u001b[1;33m,\u001b[0m\u001b[0mi\u001b[0m\u001b[1;33m.\u001b[0m\u001b[0mpredict\u001b[0m\u001b[1;33m(\u001b[0m\u001b[0mx2\u001b[0m\u001b[1;33m)\u001b[0m\u001b[1;33m)\u001b[0m\u001b[1;33m+\u001b[0m          \u001b[1;36m0.2\u001b[0m\u001b[1;33m*\u001b[0m\u001b[0mmetrics\u001b[0m\u001b[1;33m.\u001b[0m\u001b[0maccuracy_score\u001b[0m\u001b[1;33m(\u001b[0m\u001b[0my2\u001b[0m\u001b[1;33m,\u001b[0m\u001b[0mi\u001b[0m\u001b[1;33m.\u001b[0m\u001b[0mpredict\u001b[0m\u001b[1;33m(\u001b[0m\u001b[0mx2\u001b[0m\u001b[1;33m)\u001b[0m\u001b[1;33m)\u001b[0m\u001b[1;33m)\u001b[0m\u001b[1;33m\u001b[0m\u001b[0m\n\u001b[0m",
      "\u001b[1;32mD:\\program\\anaconda3\\lib\\site-packages\\sklearn\\ensemble\\forest.py\u001b[0m in \u001b[0;36mpredict\u001b[1;34m(self, X)\u001b[0m\n\u001b[0;32m    536\u001b[0m             \u001b[0mThe\u001b[0m \u001b[0mpredicted\u001b[0m \u001b[0mclasses\u001b[0m\u001b[1;33m.\u001b[0m\u001b[1;33m\u001b[0m\u001b[0m\n\u001b[0;32m    537\u001b[0m         \"\"\"\n\u001b[1;32m--> 538\u001b[1;33m         \u001b[0mproba\u001b[0m \u001b[1;33m=\u001b[0m \u001b[0mself\u001b[0m\u001b[1;33m.\u001b[0m\u001b[0mpredict_proba\u001b[0m\u001b[1;33m(\u001b[0m\u001b[0mX\u001b[0m\u001b[1;33m)\u001b[0m\u001b[1;33m\u001b[0m\u001b[0m\n\u001b[0m\u001b[0;32m    539\u001b[0m \u001b[1;33m\u001b[0m\u001b[0m\n\u001b[0;32m    540\u001b[0m         \u001b[1;32mif\u001b[0m \u001b[0mself\u001b[0m\u001b[1;33m.\u001b[0m\u001b[0mn_outputs_\u001b[0m \u001b[1;33m==\u001b[0m \u001b[1;36m1\u001b[0m\u001b[1;33m:\u001b[0m\u001b[1;33m\u001b[0m\u001b[0m\n",
      "\u001b[1;32mD:\\program\\anaconda3\\lib\\site-packages\\sklearn\\ensemble\\forest.py\u001b[0m in \u001b[0;36mpredict_proba\u001b[1;34m(self, X)\u001b[0m\n\u001b[0;32m    587\u001b[0m         Parallel(n_jobs=n_jobs, verbose=self.verbose, backend=\"threading\")(\n\u001b[0;32m    588\u001b[0m             \u001b[0mdelayed\u001b[0m\u001b[1;33m(\u001b[0m\u001b[0maccumulate_prediction\u001b[0m\u001b[1;33m)\u001b[0m\u001b[1;33m(\u001b[0m\u001b[0me\u001b[0m\u001b[1;33m.\u001b[0m\u001b[0mpredict_proba\u001b[0m\u001b[1;33m,\u001b[0m \u001b[0mX\u001b[0m\u001b[1;33m,\u001b[0m \u001b[0mall_proba\u001b[0m\u001b[1;33m,\u001b[0m \u001b[0mlock\u001b[0m\u001b[1;33m)\u001b[0m\u001b[1;33m\u001b[0m\u001b[0m\n\u001b[1;32m--> 589\u001b[1;33m             for e in self.estimators_)\n\u001b[0m\u001b[0;32m    590\u001b[0m \u001b[1;33m\u001b[0m\u001b[0m\n\u001b[0;32m    591\u001b[0m         \u001b[1;32mfor\u001b[0m \u001b[0mproba\u001b[0m \u001b[1;32min\u001b[0m \u001b[0mall_proba\u001b[0m\u001b[1;33m:\u001b[0m\u001b[1;33m\u001b[0m\u001b[0m\n",
      "\u001b[1;32mD:\\program\\anaconda3\\lib\\site-packages\\sklearn\\externals\\joblib\\parallel.py\u001b[0m in \u001b[0;36m__call__\u001b[1;34m(self, iterable)\u001b[0m\n\u001b[0;32m    747\u001b[0m         \u001b[0mself\u001b[0m\u001b[1;33m.\u001b[0m\u001b[0m_aborting\u001b[0m \u001b[1;33m=\u001b[0m \u001b[1;32mFalse\u001b[0m\u001b[1;33m\u001b[0m\u001b[0m\n\u001b[0;32m    748\u001b[0m         \u001b[1;32mif\u001b[0m \u001b[1;32mnot\u001b[0m \u001b[0mself\u001b[0m\u001b[1;33m.\u001b[0m\u001b[0m_managed_backend\u001b[0m\u001b[1;33m:\u001b[0m\u001b[1;33m\u001b[0m\u001b[0m\n\u001b[1;32m--> 749\u001b[1;33m             \u001b[0mn_jobs\u001b[0m \u001b[1;33m=\u001b[0m \u001b[0mself\u001b[0m\u001b[1;33m.\u001b[0m\u001b[0m_initialize_backend\u001b[0m\u001b[1;33m(\u001b[0m\u001b[1;33m)\u001b[0m\u001b[1;33m\u001b[0m\u001b[0m\n\u001b[0m\u001b[0;32m    750\u001b[0m         \u001b[1;32melse\u001b[0m\u001b[1;33m:\u001b[0m\u001b[1;33m\u001b[0m\u001b[0m\n\u001b[0;32m    751\u001b[0m             \u001b[0mn_jobs\u001b[0m \u001b[1;33m=\u001b[0m \u001b[0mself\u001b[0m\u001b[1;33m.\u001b[0m\u001b[0m_effective_n_jobs\u001b[0m\u001b[1;33m(\u001b[0m\u001b[1;33m)\u001b[0m\u001b[1;33m\u001b[0m\u001b[0m\n",
      "\u001b[1;32mD:\\program\\anaconda3\\lib\\site-packages\\sklearn\\externals\\joblib\\parallel.py\u001b[0m in \u001b[0;36m_initialize_backend\u001b[1;34m(self)\u001b[0m\n\u001b[0;32m    545\u001b[0m         \u001b[1;32mtry\u001b[0m\u001b[1;33m:\u001b[0m\u001b[1;33m\u001b[0m\u001b[0m\n\u001b[0;32m    546\u001b[0m             n_jobs = self._backend.configure(n_jobs=self.n_jobs, parallel=self,\n\u001b[1;32m--> 547\u001b[1;33m                                              **self._backend_args)\n\u001b[0m\u001b[0;32m    548\u001b[0m             \u001b[1;32mif\u001b[0m \u001b[0mself\u001b[0m\u001b[1;33m.\u001b[0m\u001b[0mtimeout\u001b[0m \u001b[1;32mis\u001b[0m \u001b[1;32mnot\u001b[0m \u001b[1;32mNone\u001b[0m \u001b[1;32mand\u001b[0m \u001b[1;32mnot\u001b[0m \u001b[0mself\u001b[0m\u001b[1;33m.\u001b[0m\u001b[0m_backend\u001b[0m\u001b[1;33m.\u001b[0m\u001b[0msupports_timeout\u001b[0m\u001b[1;33m:\u001b[0m\u001b[1;33m\u001b[0m\u001b[0m\n\u001b[0;32m    549\u001b[0m                 warnings.warn(\n",
      "\u001b[1;32mD:\\program\\anaconda3\\lib\\site-packages\\sklearn\\externals\\joblib\\_parallel_backends.py\u001b[0m in \u001b[0;36mconfigure\u001b[1;34m(self, n_jobs, parallel, **backend_args)\u001b[0m\n\u001b[0;32m    248\u001b[0m             \u001b[1;32mraise\u001b[0m \u001b[0mFallbackToBackend\u001b[0m\u001b[1;33m(\u001b[0m\u001b[0mSequentialBackend\u001b[0m\u001b[1;33m(\u001b[0m\u001b[1;33m)\u001b[0m\u001b[1;33m)\u001b[0m\u001b[1;33m\u001b[0m\u001b[0m\n\u001b[0;32m    249\u001b[0m         \u001b[0mself\u001b[0m\u001b[1;33m.\u001b[0m\u001b[0mparallel\u001b[0m \u001b[1;33m=\u001b[0m \u001b[0mparallel\u001b[0m\u001b[1;33m\u001b[0m\u001b[0m\n\u001b[1;32m--> 250\u001b[1;33m         \u001b[0mself\u001b[0m\u001b[1;33m.\u001b[0m\u001b[0m_pool\u001b[0m \u001b[1;33m=\u001b[0m \u001b[0mThreadPool\u001b[0m\u001b[1;33m(\u001b[0m\u001b[0mn_jobs\u001b[0m\u001b[1;33m)\u001b[0m\u001b[1;33m\u001b[0m\u001b[0m\n\u001b[0m\u001b[0;32m    251\u001b[0m         \u001b[1;32mreturn\u001b[0m \u001b[0mn_jobs\u001b[0m\u001b[1;33m\u001b[0m\u001b[0m\n\u001b[0;32m    252\u001b[0m \u001b[1;33m\u001b[0m\u001b[0m\n",
      "\u001b[1;32mD:\\program\\anaconda3\\lib\\multiprocessing\\pool.py\u001b[0m in \u001b[0;36m__init__\u001b[1;34m(self, processes, initializer, initargs)\u001b[0m\n\u001b[0;32m    787\u001b[0m \u001b[1;33m\u001b[0m\u001b[0m\n\u001b[0;32m    788\u001b[0m     \u001b[1;32mdef\u001b[0m \u001b[0m__init__\u001b[0m\u001b[1;33m(\u001b[0m\u001b[0mself\u001b[0m\u001b[1;33m,\u001b[0m \u001b[0mprocesses\u001b[0m\u001b[1;33m=\u001b[0m\u001b[1;32mNone\u001b[0m\u001b[1;33m,\u001b[0m \u001b[0minitializer\u001b[0m\u001b[1;33m=\u001b[0m\u001b[1;32mNone\u001b[0m\u001b[1;33m,\u001b[0m \u001b[0minitargs\u001b[0m\u001b[1;33m=\u001b[0m\u001b[1;33m(\u001b[0m\u001b[1;33m)\u001b[0m\u001b[1;33m)\u001b[0m\u001b[1;33m:\u001b[0m\u001b[1;33m\u001b[0m\u001b[0m\n\u001b[1;32m--> 789\u001b[1;33m         \u001b[0mPool\u001b[0m\u001b[1;33m.\u001b[0m\u001b[0m__init__\u001b[0m\u001b[1;33m(\u001b[0m\u001b[0mself\u001b[0m\u001b[1;33m,\u001b[0m \u001b[0mprocesses\u001b[0m\u001b[1;33m,\u001b[0m \u001b[0minitializer\u001b[0m\u001b[1;33m,\u001b[0m \u001b[0minitargs\u001b[0m\u001b[1;33m)\u001b[0m\u001b[1;33m\u001b[0m\u001b[0m\n\u001b[0m\u001b[0;32m    790\u001b[0m \u001b[1;33m\u001b[0m\u001b[0m\n\u001b[0;32m    791\u001b[0m     \u001b[1;32mdef\u001b[0m \u001b[0m_setup_queues\u001b[0m\u001b[1;33m(\u001b[0m\u001b[0mself\u001b[0m\u001b[1;33m)\u001b[0m\u001b[1;33m:\u001b[0m\u001b[1;33m\u001b[0m\u001b[0m\n",
      "\u001b[1;32mD:\\program\\anaconda3\\lib\\multiprocessing\\pool.py\u001b[0m in \u001b[0;36m__init__\u001b[1;34m(self, processes, initializer, initargs, maxtasksperchild, context)\u001b[0m\n\u001b[0;32m    172\u001b[0m         \u001b[0mself\u001b[0m\u001b[1;33m.\u001b[0m\u001b[0m_processes\u001b[0m \u001b[1;33m=\u001b[0m \u001b[0mprocesses\u001b[0m\u001b[1;33m\u001b[0m\u001b[0m\n\u001b[0;32m    173\u001b[0m         \u001b[0mself\u001b[0m\u001b[1;33m.\u001b[0m\u001b[0m_pool\u001b[0m \u001b[1;33m=\u001b[0m \u001b[1;33m[\u001b[0m\u001b[1;33m]\u001b[0m\u001b[1;33m\u001b[0m\u001b[0m\n\u001b[1;32m--> 174\u001b[1;33m         \u001b[0mself\u001b[0m\u001b[1;33m.\u001b[0m\u001b[0m_repopulate_pool\u001b[0m\u001b[1;33m(\u001b[0m\u001b[1;33m)\u001b[0m\u001b[1;33m\u001b[0m\u001b[0m\n\u001b[0m\u001b[0;32m    175\u001b[0m \u001b[1;33m\u001b[0m\u001b[0m\n\u001b[0;32m    176\u001b[0m         self._worker_handler = threading.Thread(\n",
      "\u001b[1;32mD:\\program\\anaconda3\\lib\\multiprocessing\\pool.py\u001b[0m in \u001b[0;36m_repopulate_pool\u001b[1;34m(self)\u001b[0m\n\u001b[0;32m    237\u001b[0m             \u001b[0mw\u001b[0m\u001b[1;33m.\u001b[0m\u001b[0mname\u001b[0m \u001b[1;33m=\u001b[0m \u001b[0mw\u001b[0m\u001b[1;33m.\u001b[0m\u001b[0mname\u001b[0m\u001b[1;33m.\u001b[0m\u001b[0mreplace\u001b[0m\u001b[1;33m(\u001b[0m\u001b[1;34m'Process'\u001b[0m\u001b[1;33m,\u001b[0m \u001b[1;34m'PoolWorker'\u001b[0m\u001b[1;33m)\u001b[0m\u001b[1;33m\u001b[0m\u001b[0m\n\u001b[0;32m    238\u001b[0m             \u001b[0mw\u001b[0m\u001b[1;33m.\u001b[0m\u001b[0mdaemon\u001b[0m \u001b[1;33m=\u001b[0m \u001b[1;32mTrue\u001b[0m\u001b[1;33m\u001b[0m\u001b[0m\n\u001b[1;32m--> 239\u001b[1;33m             \u001b[0mw\u001b[0m\u001b[1;33m.\u001b[0m\u001b[0mstart\u001b[0m\u001b[1;33m(\u001b[0m\u001b[1;33m)\u001b[0m\u001b[1;33m\u001b[0m\u001b[0m\n\u001b[0m\u001b[0;32m    240\u001b[0m             \u001b[0mutil\u001b[0m\u001b[1;33m.\u001b[0m\u001b[0mdebug\u001b[0m\u001b[1;33m(\u001b[0m\u001b[1;34m'added worker'\u001b[0m\u001b[1;33m)\u001b[0m\u001b[1;33m\u001b[0m\u001b[0m\n\u001b[0;32m    241\u001b[0m \u001b[1;33m\u001b[0m\u001b[0m\n",
      "\u001b[1;32mD:\\program\\anaconda3\\lib\\multiprocessing\\dummy\\__init__.py\u001b[0m in \u001b[0;36mstart\u001b[1;34m(self)\u001b[0m\n\u001b[0;32m     46\u001b[0m         \u001b[1;32mif\u001b[0m \u001b[0mhasattr\u001b[0m\u001b[1;33m(\u001b[0m\u001b[0mself\u001b[0m\u001b[1;33m.\u001b[0m\u001b[0m_parent\u001b[0m\u001b[1;33m,\u001b[0m \u001b[1;34m'_children'\u001b[0m\u001b[1;33m)\u001b[0m\u001b[1;33m:\u001b[0m\u001b[1;33m\u001b[0m\u001b[0m\n\u001b[0;32m     47\u001b[0m             \u001b[0mself\u001b[0m\u001b[1;33m.\u001b[0m\u001b[0m_parent\u001b[0m\u001b[1;33m.\u001b[0m\u001b[0m_children\u001b[0m\u001b[1;33m[\u001b[0m\u001b[0mself\u001b[0m\u001b[1;33m]\u001b[0m \u001b[1;33m=\u001b[0m \u001b[1;32mNone\u001b[0m\u001b[1;33m\u001b[0m\u001b[0m\n\u001b[1;32m---> 48\u001b[1;33m         \u001b[0mthreading\u001b[0m\u001b[1;33m.\u001b[0m\u001b[0mThread\u001b[0m\u001b[1;33m.\u001b[0m\u001b[0mstart\u001b[0m\u001b[1;33m(\u001b[0m\u001b[0mself\u001b[0m\u001b[1;33m)\u001b[0m\u001b[1;33m\u001b[0m\u001b[0m\n\u001b[0m\u001b[0;32m     49\u001b[0m \u001b[1;33m\u001b[0m\u001b[0m\n\u001b[0;32m     50\u001b[0m     \u001b[1;33m@\u001b[0m\u001b[0mproperty\u001b[0m\u001b[1;33m\u001b[0m\u001b[0m\n",
      "\u001b[1;32mD:\\program\\anaconda3\\lib\\threading.py\u001b[0m in \u001b[0;36mstart\u001b[1;34m(self)\u001b[0m\n\u001b[0;32m    849\u001b[0m                 \u001b[1;32mdel\u001b[0m \u001b[0m_limbo\u001b[0m\u001b[1;33m[\u001b[0m\u001b[0mself\u001b[0m\u001b[1;33m]\u001b[0m\u001b[1;33m\u001b[0m\u001b[0m\n\u001b[0;32m    850\u001b[0m             \u001b[1;32mraise\u001b[0m\u001b[1;33m\u001b[0m\u001b[0m\n\u001b[1;32m--> 851\u001b[1;33m         \u001b[0mself\u001b[0m\u001b[1;33m.\u001b[0m\u001b[0m_started\u001b[0m\u001b[1;33m.\u001b[0m\u001b[0mwait\u001b[0m\u001b[1;33m(\u001b[0m\u001b[1;33m)\u001b[0m\u001b[1;33m\u001b[0m\u001b[0m\n\u001b[0m\u001b[0;32m    852\u001b[0m \u001b[1;33m\u001b[0m\u001b[0m\n\u001b[0;32m    853\u001b[0m     \u001b[1;32mdef\u001b[0m \u001b[0mrun\u001b[0m\u001b[1;33m(\u001b[0m\u001b[0mself\u001b[0m\u001b[1;33m)\u001b[0m\u001b[1;33m:\u001b[0m\u001b[1;33m\u001b[0m\u001b[0m\n",
      "\u001b[1;32mD:\\program\\anaconda3\\lib\\threading.py\u001b[0m in \u001b[0;36mwait\u001b[1;34m(self, timeout)\u001b[0m\n\u001b[0;32m    549\u001b[0m             \u001b[0msignaled\u001b[0m \u001b[1;33m=\u001b[0m \u001b[0mself\u001b[0m\u001b[1;33m.\u001b[0m\u001b[0m_flag\u001b[0m\u001b[1;33m\u001b[0m\u001b[0m\n\u001b[0;32m    550\u001b[0m             \u001b[1;32mif\u001b[0m \u001b[1;32mnot\u001b[0m \u001b[0msignaled\u001b[0m\u001b[1;33m:\u001b[0m\u001b[1;33m\u001b[0m\u001b[0m\n\u001b[1;32m--> 551\u001b[1;33m                 \u001b[0msignaled\u001b[0m \u001b[1;33m=\u001b[0m \u001b[0mself\u001b[0m\u001b[1;33m.\u001b[0m\u001b[0m_cond\u001b[0m\u001b[1;33m.\u001b[0m\u001b[0mwait\u001b[0m\u001b[1;33m(\u001b[0m\u001b[0mtimeout\u001b[0m\u001b[1;33m)\u001b[0m\u001b[1;33m\u001b[0m\u001b[0m\n\u001b[0m\u001b[0;32m    552\u001b[0m             \u001b[1;32mreturn\u001b[0m \u001b[0msignaled\u001b[0m\u001b[1;33m\u001b[0m\u001b[0m\n\u001b[0;32m    553\u001b[0m \u001b[1;33m\u001b[0m\u001b[0m\n",
      "\u001b[1;32mD:\\program\\anaconda3\\lib\\threading.py\u001b[0m in \u001b[0;36mwait\u001b[1;34m(self, timeout)\u001b[0m\n\u001b[0;32m    293\u001b[0m         \u001b[1;32mtry\u001b[0m\u001b[1;33m:\u001b[0m    \u001b[1;31m# restore state no matter what (e.g., KeyboardInterrupt)\u001b[0m\u001b[1;33m\u001b[0m\u001b[0m\n\u001b[0;32m    294\u001b[0m             \u001b[1;32mif\u001b[0m \u001b[0mtimeout\u001b[0m \u001b[1;32mis\u001b[0m \u001b[1;32mNone\u001b[0m\u001b[1;33m:\u001b[0m\u001b[1;33m\u001b[0m\u001b[0m\n\u001b[1;32m--> 295\u001b[1;33m                 \u001b[0mwaiter\u001b[0m\u001b[1;33m.\u001b[0m\u001b[0macquire\u001b[0m\u001b[1;33m(\u001b[0m\u001b[1;33m)\u001b[0m\u001b[1;33m\u001b[0m\u001b[0m\n\u001b[0m\u001b[0;32m    296\u001b[0m                 \u001b[0mgotit\u001b[0m \u001b[1;33m=\u001b[0m \u001b[1;32mTrue\u001b[0m\u001b[1;33m\u001b[0m\u001b[0m\n\u001b[0;32m    297\u001b[0m             \u001b[1;32melse\u001b[0m\u001b[1;33m:\u001b[0m\u001b[1;33m\u001b[0m\u001b[0m\n",
      "\u001b[1;31mKeyboardInterrupt\u001b[0m: "
     ],
     "output_type": "error"
    }
   ],
   "source": [
    "for step,(i,_) in enumerate(result_list):\n",
    "# metrics.recall_score(y2,rfc.predict(x2))\n",
    "    print(0.6*metrics.recall_score(y2,i.predict(x2))+\\\n",
    "          0.2*metrics.roc_auc_score(y2,i.predict(x2))+\\\n",
    "          0.2*metrics.accuracy_score(y2,i.predict(x2)))"
   ]
  },
  {
   "cell_type": "code",
   "execution_count": 30,
   "metadata": {
    "scrolled": false
   },
   "outputs": [
    {
     "data": {
      "text/html": [
       "<div>\n",
       "<style scoped>\n",
       "    .dataframe tbody tr th:only-of-type {\n",
       "        vertical-align: middle;\n",
       "    }\n",
       "\n",
       "    .dataframe tbody tr th {\n",
       "        vertical-align: top;\n",
       "    }\n",
       "\n",
       "    .dataframe thead th {\n",
       "        text-align: right;\n",
       "    }\n",
       "</style>\n",
       "<table border=\"1\" class=\"dataframe\">\n",
       "  <thead>\n",
       "    <tr style=\"text-align: right;\">\n",
       "      <th></th>\n",
       "      <th>获息倍数</th>\n",
       "      <th>货币资金/短期债务</th>\n",
       "      <th>净利润(亿元)</th>\n",
       "      <th>筹资活动现金流(亿元)</th>\n",
       "      <th>主营业务利润率(%)</th>\n",
       "      <th>主营业务收入增长率(%)</th>\n",
       "      <th>投资活动现金流(亿元)</th>\n",
       "      <th>净资产回报率(%)</th>\n",
       "      <th>总资产报酬率(%)</th>\n",
       "      <th>流动比率</th>\n",
       "      <th>净利润/带息债务</th>\n",
       "    </tr>\n",
       "  </thead>\n",
       "  <tbody>\n",
       "    <tr>\n",
       "      <th>0</th>\n",
       "      <td>-0.042642</td>\n",
       "      <td>0.301501</td>\n",
       "      <td>-0.125115</td>\n",
       "      <td>-0.409274</td>\n",
       "      <td>-0.031412</td>\n",
       "      <td>-0.055219</td>\n",
       "      <td>0.061723</td>\n",
       "      <td>-0.052926</td>\n",
       "      <td>-0.671301</td>\n",
       "      <td>0.645951</td>\n",
       "      <td>-0.029924</td>\n",
       "    </tr>\n",
       "    <tr>\n",
       "      <th>1</th>\n",
       "      <td>-0.040961</td>\n",
       "      <td>0.197871</td>\n",
       "      <td>-0.110328</td>\n",
       "      <td>-0.150873</td>\n",
       "      <td>-0.017713</td>\n",
       "      <td>-0.043730</td>\n",
       "      <td>0.141273</td>\n",
       "      <td>-0.135119</td>\n",
       "      <td>-0.618464</td>\n",
       "      <td>0.615402</td>\n",
       "      <td>-0.029246</td>\n",
       "    </tr>\n",
       "    <tr>\n",
       "      <th>2</th>\n",
       "      <td>-0.029702</td>\n",
       "      <td>0.259468</td>\n",
       "      <td>-0.071732</td>\n",
       "      <td>-0.051090</td>\n",
       "      <td>0.008620</td>\n",
       "      <td>0.012826</td>\n",
       "      <td>0.065669</td>\n",
       "      <td>0.195567</td>\n",
       "      <td>0.986173</td>\n",
       "      <td>0.528214</td>\n",
       "      <td>-0.024853</td>\n",
       "    </tr>\n",
       "    <tr>\n",
       "      <th>3</th>\n",
       "      <td>-0.033278</td>\n",
       "      <td>0.113832</td>\n",
       "      <td>-0.074549</td>\n",
       "      <td>0.055570</td>\n",
       "      <td>-0.000094</td>\n",
       "      <td>-0.017352</td>\n",
       "      <td>0.003983</td>\n",
       "      <td>0.134983</td>\n",
       "      <td>0.486563</td>\n",
       "      <td>0.312253</td>\n",
       "      <td>-0.025991</td>\n",
       "    </tr>\n",
       "    <tr>\n",
       "      <th>4</th>\n",
       "      <td>-0.023184</td>\n",
       "      <td>0.218325</td>\n",
       "      <td>-0.031073</td>\n",
       "      <td>-0.076122</td>\n",
       "      <td>-0.010239</td>\n",
       "      <td>-0.029109</td>\n",
       "      <td>-0.002143</td>\n",
       "      <td>0.056590</td>\n",
       "      <td>-0.323034</td>\n",
       "      <td>1.052045</td>\n",
       "      <td>-0.027793</td>\n",
       "    </tr>\n",
       "    <tr>\n",
       "      <th>5</th>\n",
       "      <td>0.002228</td>\n",
       "      <td>0.220345</td>\n",
       "      <td>0.021182</td>\n",
       "      <td>-0.109510</td>\n",
       "      <td>-0.011430</td>\n",
       "      <td>0.046604</td>\n",
       "      <td>0.036853</td>\n",
       "      <td>0.166546</td>\n",
       "      <td>-0.133629</td>\n",
       "      <td>1.038083</td>\n",
       "      <td>-0.026790</td>\n",
       "    </tr>\n",
       "    <tr>\n",
       "      <th>6</th>\n",
       "      <td>-0.042895</td>\n",
       "      <td>0.231871</td>\n",
       "      <td>-0.125337</td>\n",
       "      <td>-0.073711</td>\n",
       "      <td>-0.063732</td>\n",
       "      <td>-0.044114</td>\n",
       "      <td>0.098050</td>\n",
       "      <td>-0.116828</td>\n",
       "      <td>-0.909365</td>\n",
       "      <td>1.148513</td>\n",
       "      <td>-0.030266</td>\n",
       "    </tr>\n",
       "    <tr>\n",
       "      <th>7</th>\n",
       "      <td>-0.035134</td>\n",
       "      <td>0.459766</td>\n",
       "      <td>-0.077883</td>\n",
       "      <td>0.039450</td>\n",
       "      <td>0.002809</td>\n",
       "      <td>0.069287</td>\n",
       "      <td>0.077994</td>\n",
       "      <td>-0.038461</td>\n",
       "      <td>-0.281960</td>\n",
       "      <td>1.271501</td>\n",
       "      <td>-0.027669</td>\n",
       "    </tr>\n",
       "    <tr>\n",
       "      <th>8</th>\n",
       "      <td>-0.037434</td>\n",
       "      <td>0.445464</td>\n",
       "      <td>-0.106896</td>\n",
       "      <td>-0.142564</td>\n",
       "      <td>-0.025359</td>\n",
       "      <td>-0.037200</td>\n",
       "      <td>0.150438</td>\n",
       "      <td>-0.117399</td>\n",
       "      <td>-0.646938</td>\n",
       "      <td>0.970817</td>\n",
       "      <td>-0.027616</td>\n",
       "    </tr>\n",
       "    <tr>\n",
       "      <th>9</th>\n",
       "      <td>-0.035507</td>\n",
       "      <td>0.145987</td>\n",
       "      <td>-0.109482</td>\n",
       "      <td>-0.175127</td>\n",
       "      <td>-0.027087</td>\n",
       "      <td>-0.066028</td>\n",
       "      <td>0.129221</td>\n",
       "      <td>-0.137638</td>\n",
       "      <td>-0.922140</td>\n",
       "      <td>1.170933</td>\n",
       "      <td>-0.027914</td>\n",
       "    </tr>\n",
       "    <tr>\n",
       "      <th>10</th>\n",
       "      <td>-0.029186</td>\n",
       "      <td>0.493885</td>\n",
       "      <td>-0.048047</td>\n",
       "      <td>-0.112478</td>\n",
       "      <td>-0.014441</td>\n",
       "      <td>-0.034824</td>\n",
       "      <td>0.107132</td>\n",
       "      <td>0.086696</td>\n",
       "      <td>0.087130</td>\n",
       "      <td>0.857093</td>\n",
       "      <td>-0.025241</td>\n",
       "    </tr>\n",
       "    <tr>\n",
       "      <th>11</th>\n",
       "      <td>-0.033091</td>\n",
       "      <td>0.375944</td>\n",
       "      <td>-0.055862</td>\n",
       "      <td>-0.169437</td>\n",
       "      <td>-0.015574</td>\n",
       "      <td>-0.023963</td>\n",
       "      <td>0.117929</td>\n",
       "      <td>0.051643</td>\n",
       "      <td>-0.028175</td>\n",
       "      <td>0.821233</td>\n",
       "      <td>-0.026057</td>\n",
       "    </tr>\n",
       "    <tr>\n",
       "      <th>12</th>\n",
       "      <td>-0.023654</td>\n",
       "      <td>0.094298</td>\n",
       "      <td>-0.078409</td>\n",
       "      <td>-0.011274</td>\n",
       "      <td>0.026255</td>\n",
       "      <td>-0.006935</td>\n",
       "      <td>0.140967</td>\n",
       "      <td>-0.049516</td>\n",
       "      <td>-0.642101</td>\n",
       "      <td>1.093265</td>\n",
       "      <td>-0.027669</td>\n",
       "    </tr>\n",
       "    <tr>\n",
       "      <th>13</th>\n",
       "      <td>-0.020254</td>\n",
       "      <td>0.090747</td>\n",
       "      <td>-0.086275</td>\n",
       "      <td>-0.068525</td>\n",
       "      <td>0.011079</td>\n",
       "      <td>-0.057700</td>\n",
       "      <td>0.104374</td>\n",
       "      <td>-0.077877</td>\n",
       "      <td>-0.802811</td>\n",
       "      <td>1.063469</td>\n",
       "      <td>-0.028164</td>\n",
       "    </tr>\n",
       "    <tr>\n",
       "      <th>14</th>\n",
       "      <td>-0.038840</td>\n",
       "      <td>0.299835</td>\n",
       "      <td>-0.096186</td>\n",
       "      <td>0.115773</td>\n",
       "      <td>-0.018303</td>\n",
       "      <td>-0.047255</td>\n",
       "      <td>-0.100178</td>\n",
       "      <td>-0.205253</td>\n",
       "      <td>-0.575258</td>\n",
       "      <td>0.681226</td>\n",
       "      <td>-0.029056</td>\n",
       "    </tr>\n",
       "    <tr>\n",
       "      <th>15</th>\n",
       "      <td>-0.040414</td>\n",
       "      <td>0.308423</td>\n",
       "      <td>-0.117176</td>\n",
       "      <td>0.023084</td>\n",
       "      <td>-0.019314</td>\n",
       "      <td>-0.024377</td>\n",
       "      <td>0.010324</td>\n",
       "      <td>-0.342087</td>\n",
       "      <td>-0.622334</td>\n",
       "      <td>0.648150</td>\n",
       "      <td>-0.029479</td>\n",
       "    </tr>\n",
       "    <tr>\n",
       "      <th>16</th>\n",
       "      <td>-0.005463</td>\n",
       "      <td>0.473508</td>\n",
       "      <td>-0.081748</td>\n",
       "      <td>-0.071005</td>\n",
       "      <td>-0.008220</td>\n",
       "      <td>-0.037875</td>\n",
       "      <td>0.135004</td>\n",
       "      <td>0.269334</td>\n",
       "      <td>1.410299</td>\n",
       "      <td>0.948409</td>\n",
       "      <td>-0.021805</td>\n",
       "    </tr>\n",
       "    <tr>\n",
       "      <th>17</th>\n",
       "      <td>-0.009617</td>\n",
       "      <td>0.244647</td>\n",
       "      <td>-0.071598</td>\n",
       "      <td>-0.090795</td>\n",
       "      <td>-0.012118</td>\n",
       "      <td>0.070140</td>\n",
       "      <td>0.077642</td>\n",
       "      <td>0.216104</td>\n",
       "      <td>0.835974</td>\n",
       "      <td>0.749622</td>\n",
       "      <td>-0.023133</td>\n",
       "    </tr>\n",
       "    <tr>\n",
       "      <th>18</th>\n",
       "      <td>-0.032159</td>\n",
       "      <td>0.415007</td>\n",
       "      <td>-0.052111</td>\n",
       "      <td>-0.164505</td>\n",
       "      <td>-0.011901</td>\n",
       "      <td>-0.051624</td>\n",
       "      <td>0.104522</td>\n",
       "      <td>0.104683</td>\n",
       "      <td>0.559387</td>\n",
       "      <td>0.682339</td>\n",
       "      <td>-0.025398</td>\n",
       "    </tr>\n",
       "    <tr>\n",
       "      <th>19</th>\n",
       "      <td>-0.029197</td>\n",
       "      <td>0.371965</td>\n",
       "      <td>-0.044640</td>\n",
       "      <td>-0.295488</td>\n",
       "      <td>-0.011238</td>\n",
       "      <td>-0.034321</td>\n",
       "      <td>0.126864</td>\n",
       "      <td>0.072482</td>\n",
       "      <td>0.557650</td>\n",
       "      <td>0.683450</td>\n",
       "      <td>-0.023928</td>\n",
       "    </tr>\n",
       "    <tr>\n",
       "      <th>20</th>\n",
       "      <td>-0.034927</td>\n",
       "      <td>0.430102</td>\n",
       "      <td>0.057964</td>\n",
       "      <td>0.161272</td>\n",
       "      <td>-0.003557</td>\n",
       "      <td>-0.023421</td>\n",
       "      <td>-0.087171</td>\n",
       "      <td>0.226042</td>\n",
       "      <td>0.821725</td>\n",
       "      <td>0.744125</td>\n",
       "      <td>-0.025869</td>\n",
       "    </tr>\n",
       "    <tr>\n",
       "      <th>21</th>\n",
       "      <td>-0.031403</td>\n",
       "      <td>0.277354</td>\n",
       "      <td>-0.026224</td>\n",
       "      <td>0.449063</td>\n",
       "      <td>-0.014151</td>\n",
       "      <td>-0.006982</td>\n",
       "      <td>-0.046435</td>\n",
       "      <td>0.057117</td>\n",
       "      <td>-0.167865</td>\n",
       "      <td>0.732224</td>\n",
       "      <td>-0.027683</td>\n",
       "    </tr>\n",
       "    <tr>\n",
       "      <th>22</th>\n",
       "      <td>0.039059</td>\n",
       "      <td>0.394579</td>\n",
       "      <td>-0.078991</td>\n",
       "      <td>-0.171993</td>\n",
       "      <td>-0.008427</td>\n",
       "      <td>-0.011589</td>\n",
       "      <td>0.039669</td>\n",
       "      <td>0.017787</td>\n",
       "      <td>0.180600</td>\n",
       "      <td>1.365249</td>\n",
       "      <td>-0.014959</td>\n",
       "    </tr>\n",
       "    <tr>\n",
       "      <th>23</th>\n",
       "      <td>-0.015148</td>\n",
       "      <td>0.377582</td>\n",
       "      <td>-0.086984</td>\n",
       "      <td>-0.045873</td>\n",
       "      <td>-0.011406</td>\n",
       "      <td>-0.030485</td>\n",
       "      <td>0.098201</td>\n",
       "      <td>0.231242</td>\n",
       "      <td>0.666864</td>\n",
       "      <td>0.966718</td>\n",
       "      <td>-0.022779</td>\n",
       "    </tr>\n",
       "    <tr>\n",
       "      <th>24</th>\n",
       "      <td>-0.030479</td>\n",
       "      <td>0.449636</td>\n",
       "      <td>-0.086293</td>\n",
       "      <td>-0.028538</td>\n",
       "      <td>-0.014290</td>\n",
       "      <td>0.013945</td>\n",
       "      <td>0.092654</td>\n",
       "      <td>0.104388</td>\n",
       "      <td>0.318289</td>\n",
       "      <td>1.010145</td>\n",
       "      <td>-0.025908</td>\n",
       "    </tr>\n",
       "    <tr>\n",
       "      <th>25</th>\n",
       "      <td>-0.011667</td>\n",
       "      <td>0.197868</td>\n",
       "      <td>-0.045158</td>\n",
       "      <td>-0.171756</td>\n",
       "      <td>-0.006492</td>\n",
       "      <td>-0.028306</td>\n",
       "      <td>0.138178</td>\n",
       "      <td>0.225945</td>\n",
       "      <td>1.726970</td>\n",
       "      <td>0.866344</td>\n",
       "      <td>-0.018535</td>\n",
       "    </tr>\n",
       "    <tr>\n",
       "      <th>26</th>\n",
       "      <td>-0.023150</td>\n",
       "      <td>0.308916</td>\n",
       "      <td>-0.049313</td>\n",
       "      <td>-0.006041</td>\n",
       "      <td>-0.010016</td>\n",
       "      <td>-0.034059</td>\n",
       "      <td>0.140605</td>\n",
       "      <td>0.082781</td>\n",
       "      <td>0.280668</td>\n",
       "      <td>0.636736</td>\n",
       "      <td>-0.025422</td>\n",
       "    </tr>\n",
       "    <tr>\n",
       "      <th>27</th>\n",
       "      <td>-0.012740</td>\n",
       "      <td>0.411873</td>\n",
       "      <td>-0.044282</td>\n",
       "      <td>-0.185992</td>\n",
       "      <td>-0.008432</td>\n",
       "      <td>-0.032538</td>\n",
       "      <td>0.134757</td>\n",
       "      <td>0.077816</td>\n",
       "      <td>0.222927</td>\n",
       "      <td>0.803032</td>\n",
       "      <td>-0.024900</td>\n",
       "    </tr>\n",
       "    <tr>\n",
       "      <th>28</th>\n",
       "      <td>-0.038730</td>\n",
       "      <td>0.344160</td>\n",
       "      <td>-0.054635</td>\n",
       "      <td>0.152608</td>\n",
       "      <td>-0.006759</td>\n",
       "      <td>-0.057705</td>\n",
       "      <td>0.118968</td>\n",
       "      <td>0.179374</td>\n",
       "      <td>-0.039037</td>\n",
       "      <td>0.946354</td>\n",
       "      <td>-0.026912</td>\n",
       "    </tr>\n",
       "    <tr>\n",
       "      <th>29</th>\n",
       "      <td>-0.030476</td>\n",
       "      <td>0.251778</td>\n",
       "      <td>0.000065</td>\n",
       "      <td>-0.540871</td>\n",
       "      <td>-0.003473</td>\n",
       "      <td>-0.008597</td>\n",
       "      <td>0.126207</td>\n",
       "      <td>0.239851</td>\n",
       "      <td>0.302282</td>\n",
       "      <td>0.818987</td>\n",
       "      <td>-0.020623</td>\n",
       "    </tr>\n",
       "    <tr>\n",
       "      <th>...</th>\n",
       "      <td>...</td>\n",
       "      <td>...</td>\n",
       "      <td>...</td>\n",
       "      <td>...</td>\n",
       "      <td>...</td>\n",
       "      <td>...</td>\n",
       "      <td>...</td>\n",
       "      <td>...</td>\n",
       "      <td>...</td>\n",
       "      <td>...</td>\n",
       "      <td>...</td>\n",
       "    </tr>\n",
       "    <tr>\n",
       "      <th>2553</th>\n",
       "      <td>-0.040290</td>\n",
       "      <td>0.138453</td>\n",
       "      <td>-0.107603</td>\n",
       "      <td>-0.197711</td>\n",
       "      <td>-0.020008</td>\n",
       "      <td>-0.035797</td>\n",
       "      <td>0.149948</td>\n",
       "      <td>-0.219770</td>\n",
       "      <td>-0.498388</td>\n",
       "      <td>0.759871</td>\n",
       "      <td>-0.029098</td>\n",
       "    </tr>\n",
       "    <tr>\n",
       "      <th>2554</th>\n",
       "      <td>0.020977</td>\n",
       "      <td>0.331032</td>\n",
       "      <td>-0.058291</td>\n",
       "      <td>-0.125582</td>\n",
       "      <td>-0.003241</td>\n",
       "      <td>0.004570</td>\n",
       "      <td>0.138980</td>\n",
       "      <td>0.128430</td>\n",
       "      <td>-0.259730</td>\n",
       "      <td>1.162744</td>\n",
       "      <td>-0.025196</td>\n",
       "    </tr>\n",
       "    <tr>\n",
       "      <th>2555</th>\n",
       "      <td>-0.014959</td>\n",
       "      <td>0.319593</td>\n",
       "      <td>-0.110632</td>\n",
       "      <td>-0.049223</td>\n",
       "      <td>-0.018209</td>\n",
       "      <td>0.036215</td>\n",
       "      <td>0.139000</td>\n",
       "      <td>-0.140688</td>\n",
       "      <td>-1.045888</td>\n",
       "      <td>1.010655</td>\n",
       "      <td>-0.029351</td>\n",
       "    </tr>\n",
       "    <tr>\n",
       "      <th>2556</th>\n",
       "      <td>-0.029924</td>\n",
       "      <td>0.120719</td>\n",
       "      <td>-0.097406</td>\n",
       "      <td>-0.162730</td>\n",
       "      <td>-0.016365</td>\n",
       "      <td>-0.039148</td>\n",
       "      <td>0.083343</td>\n",
       "      <td>0.069945</td>\n",
       "      <td>0.004587</td>\n",
       "      <td>0.744125</td>\n",
       "      <td>-0.024283</td>\n",
       "    </tr>\n",
       "    <tr>\n",
       "      <th>2557</th>\n",
       "      <td>-0.025291</td>\n",
       "      <td>0.544261</td>\n",
       "      <td>-0.100311</td>\n",
       "      <td>-0.098135</td>\n",
       "      <td>0.012923</td>\n",
       "      <td>-0.040929</td>\n",
       "      <td>0.139048</td>\n",
       "      <td>-0.104415</td>\n",
       "      <td>-0.666134</td>\n",
       "      <td>0.909427</td>\n",
       "      <td>-0.026206</td>\n",
       "    </tr>\n",
       "    <tr>\n",
       "      <th>2558</th>\n",
       "      <td>-0.039602</td>\n",
       "      <td>0.085466</td>\n",
       "      <td>-0.099782</td>\n",
       "      <td>-0.118072</td>\n",
       "      <td>-0.050734</td>\n",
       "      <td>-0.032199</td>\n",
       "      <td>0.131475</td>\n",
       "      <td>-0.087285</td>\n",
       "      <td>-0.352805</td>\n",
       "      <td>0.994954</td>\n",
       "      <td>-0.028543</td>\n",
       "    </tr>\n",
       "    <tr>\n",
       "      <th>2559</th>\n",
       "      <td>-0.039443</td>\n",
       "      <td>0.395856</td>\n",
       "      <td>-0.107834</td>\n",
       "      <td>-0.112421</td>\n",
       "      <td>0.006311</td>\n",
       "      <td>-0.010660</td>\n",
       "      <td>0.134016</td>\n",
       "      <td>-0.028575</td>\n",
       "      <td>0.603913</td>\n",
       "      <td>0.536435</td>\n",
       "      <td>-0.028109</td>\n",
       "    </tr>\n",
       "    <tr>\n",
       "      <th>2560</th>\n",
       "      <td>-0.040529</td>\n",
       "      <td>0.447939</td>\n",
       "      <td>-0.109258</td>\n",
       "      <td>-0.086769</td>\n",
       "      <td>-0.015908</td>\n",
       "      <td>-0.027598</td>\n",
       "      <td>0.138999</td>\n",
       "      <td>-0.095236</td>\n",
       "      <td>-0.222351</td>\n",
       "      <td>1.255331</td>\n",
       "      <td>-0.028889</td>\n",
       "    </tr>\n",
       "    <tr>\n",
       "      <th>2561</th>\n",
       "      <td>-0.041063</td>\n",
       "      <td>0.439760</td>\n",
       "      <td>-0.109663</td>\n",
       "      <td>-0.118897</td>\n",
       "      <td>-0.035552</td>\n",
       "      <td>-0.029251</td>\n",
       "      <td>0.135789</td>\n",
       "      <td>-0.121461</td>\n",
       "      <td>-0.111400</td>\n",
       "      <td>1.133175</td>\n",
       "      <td>-0.029174</td>\n",
       "    </tr>\n",
       "    <tr>\n",
       "      <th>2562</th>\n",
       "      <td>-0.030391</td>\n",
       "      <td>0.225607</td>\n",
       "      <td>-0.106123</td>\n",
       "      <td>-0.367741</td>\n",
       "      <td>0.002323</td>\n",
       "      <td>-0.079714</td>\n",
       "      <td>0.238507</td>\n",
       "      <td>-0.137351</td>\n",
       "      <td>-0.935970</td>\n",
       "      <td>1.530027</td>\n",
       "      <td>-0.029112</td>\n",
       "    </tr>\n",
       "    <tr>\n",
       "      <th>2563</th>\n",
       "      <td>-0.039429</td>\n",
       "      <td>0.581925</td>\n",
       "      <td>-0.102534</td>\n",
       "      <td>0.321773</td>\n",
       "      <td>-0.033950</td>\n",
       "      <td>0.017516</td>\n",
       "      <td>0.028715</td>\n",
       "      <td>-0.126502</td>\n",
       "      <td>-0.833506</td>\n",
       "      <td>1.187965</td>\n",
       "      <td>-0.029206</td>\n",
       "    </tr>\n",
       "    <tr>\n",
       "      <th>2564</th>\n",
       "      <td>-0.031509</td>\n",
       "      <td>0.718313</td>\n",
       "      <td>-0.091779</td>\n",
       "      <td>0.230123</td>\n",
       "      <td>-0.015438</td>\n",
       "      <td>-0.058731</td>\n",
       "      <td>-0.047022</td>\n",
       "      <td>-0.105571</td>\n",
       "      <td>-0.808726</td>\n",
       "      <td>1.234075</td>\n",
       "      <td>-0.028889</td>\n",
       "    </tr>\n",
       "    <tr>\n",
       "      <th>2565</th>\n",
       "      <td>-0.025319</td>\n",
       "      <td>0.545419</td>\n",
       "      <td>-0.085588</td>\n",
       "      <td>0.040251</td>\n",
       "      <td>-0.000494</td>\n",
       "      <td>0.020357</td>\n",
       "      <td>0.109343</td>\n",
       "      <td>0.028882</td>\n",
       "      <td>0.369147</td>\n",
       "      <td>0.988425</td>\n",
       "      <td>-0.023713</td>\n",
       "    </tr>\n",
       "    <tr>\n",
       "      <th>2566</th>\n",
       "      <td>-0.034134</td>\n",
       "      <td>0.527434</td>\n",
       "      <td>-0.105504</td>\n",
       "      <td>-0.113136</td>\n",
       "      <td>-0.015035</td>\n",
       "      <td>-0.033517</td>\n",
       "      <td>0.137743</td>\n",
       "      <td>0.050988</td>\n",
       "      <td>-0.137367</td>\n",
       "      <td>1.030333</td>\n",
       "      <td>-0.011114</td>\n",
       "    </tr>\n",
       "    <tr>\n",
       "      <th>2567</th>\n",
       "      <td>0.260496</td>\n",
       "      <td>0.063411</td>\n",
       "      <td>-0.106651</td>\n",
       "      <td>-0.122376</td>\n",
       "      <td>-0.005682</td>\n",
       "      <td>0.050123</td>\n",
       "      <td>0.136112</td>\n",
       "      <td>-0.095215</td>\n",
       "      <td>-0.782274</td>\n",
       "      <td>1.422385</td>\n",
       "      <td>-0.028646</td>\n",
       "    </tr>\n",
       "    <tr>\n",
       "      <th>2568</th>\n",
       "      <td>-0.039826</td>\n",
       "      <td>0.434740</td>\n",
       "      <td>-0.096121</td>\n",
       "      <td>0.013704</td>\n",
       "      <td>-0.018072</td>\n",
       "      <td>-0.028837</td>\n",
       "      <td>0.181799</td>\n",
       "      <td>-0.077918</td>\n",
       "      <td>-0.359050</td>\n",
       "      <td>0.763093</td>\n",
       "      <td>-0.028721</td>\n",
       "    </tr>\n",
       "    <tr>\n",
       "      <th>2569</th>\n",
       "      <td>-0.019543</td>\n",
       "      <td>0.406479</td>\n",
       "      <td>0.048216</td>\n",
       "      <td>-0.101236</td>\n",
       "      <td>0.033642</td>\n",
       "      <td>-0.041872</td>\n",
       "      <td>0.021656</td>\n",
       "      <td>-0.003971</td>\n",
       "      <td>0.350194</td>\n",
       "      <td>0.806297</td>\n",
       "      <td>-0.020498</td>\n",
       "    </tr>\n",
       "    <tr>\n",
       "      <th>2570</th>\n",
       "      <td>0.572276</td>\n",
       "      <td>0.347275</td>\n",
       "      <td>-0.077096</td>\n",
       "      <td>0.008171</td>\n",
       "      <td>-0.009375</td>\n",
       "      <td>0.022441</td>\n",
       "      <td>0.138422</td>\n",
       "      <td>-0.003807</td>\n",
       "      <td>-0.143436</td>\n",
       "      <td>1.140490</td>\n",
       "      <td>-0.024933</td>\n",
       "    </tr>\n",
       "    <tr>\n",
       "      <th>2571</th>\n",
       "      <td>-0.034320</td>\n",
       "      <td>0.118679</td>\n",
       "      <td>-0.095180</td>\n",
       "      <td>-0.244473</td>\n",
       "      <td>-0.004338</td>\n",
       "      <td>-0.039404</td>\n",
       "      <td>0.063104</td>\n",
       "      <td>0.104568</td>\n",
       "      <td>-0.497486</td>\n",
       "      <td>0.482426</td>\n",
       "      <td>-0.027777</td>\n",
       "    </tr>\n",
       "    <tr>\n",
       "      <th>2572</th>\n",
       "      <td>-0.035235</td>\n",
       "      <td>0.534141</td>\n",
       "      <td>-0.103379</td>\n",
       "      <td>0.052675</td>\n",
       "      <td>-0.011682</td>\n",
       "      <td>0.099517</td>\n",
       "      <td>0.111538</td>\n",
       "      <td>0.015874</td>\n",
       "      <td>0.093330</td>\n",
       "      <td>1.078750</td>\n",
       "      <td>-0.028186</td>\n",
       "    </tr>\n",
       "    <tr>\n",
       "      <th>2573</th>\n",
       "      <td>0.001687</td>\n",
       "      <td>0.229039</td>\n",
       "      <td>-0.062531</td>\n",
       "      <td>-0.076646</td>\n",
       "      <td>-0.002182</td>\n",
       "      <td>0.001331</td>\n",
       "      <td>0.117814</td>\n",
       "      <td>0.327070</td>\n",
       "      <td>2.408926</td>\n",
       "      <td>1.354107</td>\n",
       "      <td>-0.004482</td>\n",
       "    </tr>\n",
       "    <tr>\n",
       "      <th>2574</th>\n",
       "      <td>-0.031399</td>\n",
       "      <td>0.298656</td>\n",
       "      <td>-0.085035</td>\n",
       "      <td>-0.071097</td>\n",
       "      <td>0.000624</td>\n",
       "      <td>-0.033590</td>\n",
       "      <td>0.124245</td>\n",
       "      <td>-0.027593</td>\n",
       "      <td>-0.528247</td>\n",
       "      <td>1.264974</td>\n",
       "      <td>-0.027505</td>\n",
       "    </tr>\n",
       "    <tr>\n",
       "      <th>2575</th>\n",
       "      <td>-0.035826</td>\n",
       "      <td>0.110784</td>\n",
       "      <td>-0.071587</td>\n",
       "      <td>-0.199569</td>\n",
       "      <td>-0.013298</td>\n",
       "      <td>-0.042232</td>\n",
       "      <td>0.135332</td>\n",
       "      <td>0.129548</td>\n",
       "      <td>0.027103</td>\n",
       "      <td>0.539938</td>\n",
       "      <td>-0.027816</td>\n",
       "    </tr>\n",
       "    <tr>\n",
       "      <th>2576</th>\n",
       "      <td>-0.036320</td>\n",
       "      <td>0.237237</td>\n",
       "      <td>-0.093529</td>\n",
       "      <td>-0.002028</td>\n",
       "      <td>-0.019192</td>\n",
       "      <td>-0.016543</td>\n",
       "      <td>0.045510</td>\n",
       "      <td>-0.054468</td>\n",
       "      <td>-0.244405</td>\n",
       "      <td>0.565711</td>\n",
       "      <td>-0.027461</td>\n",
       "    </tr>\n",
       "    <tr>\n",
       "      <th>2577</th>\n",
       "      <td>-0.113838</td>\n",
       "      <td>0.551393</td>\n",
       "      <td>-0.134093</td>\n",
       "      <td>0.087007</td>\n",
       "      <td>-0.026382</td>\n",
       "      <td>0.100411</td>\n",
       "      <td>0.088861</td>\n",
       "      <td>-0.244366</td>\n",
       "      <td>-1.310095</td>\n",
       "      <td>1.121156</td>\n",
       "      <td>-0.031301</td>\n",
       "    </tr>\n",
       "    <tr>\n",
       "      <th>2578</th>\n",
       "      <td>-0.036993</td>\n",
       "      <td>0.198464</td>\n",
       "      <td>-0.021461</td>\n",
       "      <td>-0.358252</td>\n",
       "      <td>-0.012509</td>\n",
       "      <td>-0.015973</td>\n",
       "      <td>0.212766</td>\n",
       "      <td>-0.044387</td>\n",
       "      <td>0.089636</td>\n",
       "      <td>1.033932</td>\n",
       "      <td>-0.027135</td>\n",
       "    </tr>\n",
       "    <tr>\n",
       "      <th>2579</th>\n",
       "      <td>-0.037179</td>\n",
       "      <td>0.362079</td>\n",
       "      <td>-0.102684</td>\n",
       "      <td>0.033892</td>\n",
       "      <td>-0.010848</td>\n",
       "      <td>-0.046512</td>\n",
       "      <td>0.033486</td>\n",
       "      <td>-0.082403</td>\n",
       "      <td>-0.380005</td>\n",
       "      <td>0.461845</td>\n",
       "      <td>-0.028212</td>\n",
       "    </tr>\n",
       "    <tr>\n",
       "      <th>2580</th>\n",
       "      <td>-0.018938</td>\n",
       "      <td>0.110806</td>\n",
       "      <td>-0.071898</td>\n",
       "      <td>-0.134990</td>\n",
       "      <td>-0.018278</td>\n",
       "      <td>-0.066951</td>\n",
       "      <td>0.101353</td>\n",
       "      <td>0.133335</td>\n",
       "      <td>-0.479456</td>\n",
       "      <td>0.706606</td>\n",
       "      <td>-0.024685</td>\n",
       "    </tr>\n",
       "    <tr>\n",
       "      <th>2581</th>\n",
       "      <td>-0.022614</td>\n",
       "      <td>0.426892</td>\n",
       "      <td>-0.073652</td>\n",
       "      <td>-0.067075</td>\n",
       "      <td>-0.013781</td>\n",
       "      <td>-0.031886</td>\n",
       "      <td>0.084332</td>\n",
       "      <td>-0.121986</td>\n",
       "      <td>-0.634185</td>\n",
       "      <td>1.437391</td>\n",
       "      <td>-0.025670</td>\n",
       "    </tr>\n",
       "    <tr>\n",
       "      <th>2582</th>\n",
       "      <td>0.022493</td>\n",
       "      <td>0.077243</td>\n",
       "      <td>-0.021736</td>\n",
       "      <td>-0.078223</td>\n",
       "      <td>-0.000760</td>\n",
       "      <td>-0.038240</td>\n",
       "      <td>0.127537</td>\n",
       "      <td>0.077116</td>\n",
       "      <td>-0.211995</td>\n",
       "      <td>0.823956</td>\n",
       "      <td>-0.025771</td>\n",
       "    </tr>\n",
       "  </tbody>\n",
       "</table>\n",
       "<p>2583 rows × 11 columns</p>\n",
       "</div>"
      ],
      "text/plain": [
       "          获息倍数  货币资金/短期债务   净利润(亿元)  筹资活动现金流(亿元)  主营业务利润率(%)  主营业务收入增长率(%)  \\\n",
       "0    -0.042642   0.301501 -0.125115    -0.409274   -0.031412     -0.055219   \n",
       "1    -0.040961   0.197871 -0.110328    -0.150873   -0.017713     -0.043730   \n",
       "2    -0.029702   0.259468 -0.071732    -0.051090    0.008620      0.012826   \n",
       "3    -0.033278   0.113832 -0.074549     0.055570   -0.000094     -0.017352   \n",
       "4    -0.023184   0.218325 -0.031073    -0.076122   -0.010239     -0.029109   \n",
       "5     0.002228   0.220345  0.021182    -0.109510   -0.011430      0.046604   \n",
       "6    -0.042895   0.231871 -0.125337    -0.073711   -0.063732     -0.044114   \n",
       "7    -0.035134   0.459766 -0.077883     0.039450    0.002809      0.069287   \n",
       "8    -0.037434   0.445464 -0.106896    -0.142564   -0.025359     -0.037200   \n",
       "9    -0.035507   0.145987 -0.109482    -0.175127   -0.027087     -0.066028   \n",
       "10   -0.029186   0.493885 -0.048047    -0.112478   -0.014441     -0.034824   \n",
       "11   -0.033091   0.375944 -0.055862    -0.169437   -0.015574     -0.023963   \n",
       "12   -0.023654   0.094298 -0.078409    -0.011274    0.026255     -0.006935   \n",
       "13   -0.020254   0.090747 -0.086275    -0.068525    0.011079     -0.057700   \n",
       "14   -0.038840   0.299835 -0.096186     0.115773   -0.018303     -0.047255   \n",
       "15   -0.040414   0.308423 -0.117176     0.023084   -0.019314     -0.024377   \n",
       "16   -0.005463   0.473508 -0.081748    -0.071005   -0.008220     -0.037875   \n",
       "17   -0.009617   0.244647 -0.071598    -0.090795   -0.012118      0.070140   \n",
       "18   -0.032159   0.415007 -0.052111    -0.164505   -0.011901     -0.051624   \n",
       "19   -0.029197   0.371965 -0.044640    -0.295488   -0.011238     -0.034321   \n",
       "20   -0.034927   0.430102  0.057964     0.161272   -0.003557     -0.023421   \n",
       "21   -0.031403   0.277354 -0.026224     0.449063   -0.014151     -0.006982   \n",
       "22    0.039059   0.394579 -0.078991    -0.171993   -0.008427     -0.011589   \n",
       "23   -0.015148   0.377582 -0.086984    -0.045873   -0.011406     -0.030485   \n",
       "24   -0.030479   0.449636 -0.086293    -0.028538   -0.014290      0.013945   \n",
       "25   -0.011667   0.197868 -0.045158    -0.171756   -0.006492     -0.028306   \n",
       "26   -0.023150   0.308916 -0.049313    -0.006041   -0.010016     -0.034059   \n",
       "27   -0.012740   0.411873 -0.044282    -0.185992   -0.008432     -0.032538   \n",
       "28   -0.038730   0.344160 -0.054635     0.152608   -0.006759     -0.057705   \n",
       "29   -0.030476   0.251778  0.000065    -0.540871   -0.003473     -0.008597   \n",
       "...        ...        ...       ...          ...         ...           ...   \n",
       "2553 -0.040290   0.138453 -0.107603    -0.197711   -0.020008     -0.035797   \n",
       "2554  0.020977   0.331032 -0.058291    -0.125582   -0.003241      0.004570   \n",
       "2555 -0.014959   0.319593 -0.110632    -0.049223   -0.018209      0.036215   \n",
       "2556 -0.029924   0.120719 -0.097406    -0.162730   -0.016365     -0.039148   \n",
       "2557 -0.025291   0.544261 -0.100311    -0.098135    0.012923     -0.040929   \n",
       "2558 -0.039602   0.085466 -0.099782    -0.118072   -0.050734     -0.032199   \n",
       "2559 -0.039443   0.395856 -0.107834    -0.112421    0.006311     -0.010660   \n",
       "2560 -0.040529   0.447939 -0.109258    -0.086769   -0.015908     -0.027598   \n",
       "2561 -0.041063   0.439760 -0.109663    -0.118897   -0.035552     -0.029251   \n",
       "2562 -0.030391   0.225607 -0.106123    -0.367741    0.002323     -0.079714   \n",
       "2563 -0.039429   0.581925 -0.102534     0.321773   -0.033950      0.017516   \n",
       "2564 -0.031509   0.718313 -0.091779     0.230123   -0.015438     -0.058731   \n",
       "2565 -0.025319   0.545419 -0.085588     0.040251   -0.000494      0.020357   \n",
       "2566 -0.034134   0.527434 -0.105504    -0.113136   -0.015035     -0.033517   \n",
       "2567  0.260496   0.063411 -0.106651    -0.122376   -0.005682      0.050123   \n",
       "2568 -0.039826   0.434740 -0.096121     0.013704   -0.018072     -0.028837   \n",
       "2569 -0.019543   0.406479  0.048216    -0.101236    0.033642     -0.041872   \n",
       "2570  0.572276   0.347275 -0.077096     0.008171   -0.009375      0.022441   \n",
       "2571 -0.034320   0.118679 -0.095180    -0.244473   -0.004338     -0.039404   \n",
       "2572 -0.035235   0.534141 -0.103379     0.052675   -0.011682      0.099517   \n",
       "2573  0.001687   0.229039 -0.062531    -0.076646   -0.002182      0.001331   \n",
       "2574 -0.031399   0.298656 -0.085035    -0.071097    0.000624     -0.033590   \n",
       "2575 -0.035826   0.110784 -0.071587    -0.199569   -0.013298     -0.042232   \n",
       "2576 -0.036320   0.237237 -0.093529    -0.002028   -0.019192     -0.016543   \n",
       "2577 -0.113838   0.551393 -0.134093     0.087007   -0.026382      0.100411   \n",
       "2578 -0.036993   0.198464 -0.021461    -0.358252   -0.012509     -0.015973   \n",
       "2579 -0.037179   0.362079 -0.102684     0.033892   -0.010848     -0.046512   \n",
       "2580 -0.018938   0.110806 -0.071898    -0.134990   -0.018278     -0.066951   \n",
       "2581 -0.022614   0.426892 -0.073652    -0.067075   -0.013781     -0.031886   \n",
       "2582  0.022493   0.077243 -0.021736    -0.078223   -0.000760     -0.038240   \n",
       "\n",
       "      投资活动现金流(亿元)  净资产回报率(%)  总资产报酬率(%)      流动比率  净利润/带息债务  \n",
       "0        0.061723  -0.052926  -0.671301  0.645951 -0.029924  \n",
       "1        0.141273  -0.135119  -0.618464  0.615402 -0.029246  \n",
       "2        0.065669   0.195567   0.986173  0.528214 -0.024853  \n",
       "3        0.003983   0.134983   0.486563  0.312253 -0.025991  \n",
       "4       -0.002143   0.056590  -0.323034  1.052045 -0.027793  \n",
       "5        0.036853   0.166546  -0.133629  1.038083 -0.026790  \n",
       "6        0.098050  -0.116828  -0.909365  1.148513 -0.030266  \n",
       "7        0.077994  -0.038461  -0.281960  1.271501 -0.027669  \n",
       "8        0.150438  -0.117399  -0.646938  0.970817 -0.027616  \n",
       "9        0.129221  -0.137638  -0.922140  1.170933 -0.027914  \n",
       "10       0.107132   0.086696   0.087130  0.857093 -0.025241  \n",
       "11       0.117929   0.051643  -0.028175  0.821233 -0.026057  \n",
       "12       0.140967  -0.049516  -0.642101  1.093265 -0.027669  \n",
       "13       0.104374  -0.077877  -0.802811  1.063469 -0.028164  \n",
       "14      -0.100178  -0.205253  -0.575258  0.681226 -0.029056  \n",
       "15       0.010324  -0.342087  -0.622334  0.648150 -0.029479  \n",
       "16       0.135004   0.269334   1.410299  0.948409 -0.021805  \n",
       "17       0.077642   0.216104   0.835974  0.749622 -0.023133  \n",
       "18       0.104522   0.104683   0.559387  0.682339 -0.025398  \n",
       "19       0.126864   0.072482   0.557650  0.683450 -0.023928  \n",
       "20      -0.087171   0.226042   0.821725  0.744125 -0.025869  \n",
       "21      -0.046435   0.057117  -0.167865  0.732224 -0.027683  \n",
       "22       0.039669   0.017787   0.180600  1.365249 -0.014959  \n",
       "23       0.098201   0.231242   0.666864  0.966718 -0.022779  \n",
       "24       0.092654   0.104388   0.318289  1.010145 -0.025908  \n",
       "25       0.138178   0.225945   1.726970  0.866344 -0.018535  \n",
       "26       0.140605   0.082781   0.280668  0.636736 -0.025422  \n",
       "27       0.134757   0.077816   0.222927  0.803032 -0.024900  \n",
       "28       0.118968   0.179374  -0.039037  0.946354 -0.026912  \n",
       "29       0.126207   0.239851   0.302282  0.818987 -0.020623  \n",
       "...           ...        ...        ...       ...       ...  \n",
       "2553     0.149948  -0.219770  -0.498388  0.759871 -0.029098  \n",
       "2554     0.138980   0.128430  -0.259730  1.162744 -0.025196  \n",
       "2555     0.139000  -0.140688  -1.045888  1.010655 -0.029351  \n",
       "2556     0.083343   0.069945   0.004587  0.744125 -0.024283  \n",
       "2557     0.139048  -0.104415  -0.666134  0.909427 -0.026206  \n",
       "2558     0.131475  -0.087285  -0.352805  0.994954 -0.028543  \n",
       "2559     0.134016  -0.028575   0.603913  0.536435 -0.028109  \n",
       "2560     0.138999  -0.095236  -0.222351  1.255331 -0.028889  \n",
       "2561     0.135789  -0.121461  -0.111400  1.133175 -0.029174  \n",
       "2562     0.238507  -0.137351  -0.935970  1.530027 -0.029112  \n",
       "2563     0.028715  -0.126502  -0.833506  1.187965 -0.029206  \n",
       "2564    -0.047022  -0.105571  -0.808726  1.234075 -0.028889  \n",
       "2565     0.109343   0.028882   0.369147  0.988425 -0.023713  \n",
       "2566     0.137743   0.050988  -0.137367  1.030333 -0.011114  \n",
       "2567     0.136112  -0.095215  -0.782274  1.422385 -0.028646  \n",
       "2568     0.181799  -0.077918  -0.359050  0.763093 -0.028721  \n",
       "2569     0.021656  -0.003971   0.350194  0.806297 -0.020498  \n",
       "2570     0.138422  -0.003807  -0.143436  1.140490 -0.024933  \n",
       "2571     0.063104   0.104568  -0.497486  0.482426 -0.027777  \n",
       "2572     0.111538   0.015874   0.093330  1.078750 -0.028186  \n",
       "2573     0.117814   0.327070   2.408926  1.354107 -0.004482  \n",
       "2574     0.124245  -0.027593  -0.528247  1.264974 -0.027505  \n",
       "2575     0.135332   0.129548   0.027103  0.539938 -0.027816  \n",
       "2576     0.045510  -0.054468  -0.244405  0.565711 -0.027461  \n",
       "2577     0.088861  -0.244366  -1.310095  1.121156 -0.031301  \n",
       "2578     0.212766  -0.044387   0.089636  1.033932 -0.027135  \n",
       "2579     0.033486  -0.082403  -0.380005  0.461845 -0.028212  \n",
       "2580     0.101353   0.133335  -0.479456  0.706606 -0.024685  \n",
       "2581     0.084332  -0.121986  -0.634185  1.437391 -0.025670  \n",
       "2582     0.127537   0.077116  -0.211995  0.823956 -0.025771  \n",
       "\n",
       "[2583 rows x 11 columns]"
      ]
     },
     "execution_count": 30,
     "metadata": {},
     "output_type": "execute_result"
    }
   ],
   "source": [
    "data_a[list_]"
   ]
  },
  {
   "cell_type": "code",
   "execution_count": 74,
   "metadata": {},
   "outputs": [
    {
     "name": "stdout",
     "output_type": "stream",
     "text": [
      "---data_a---\n",
      " [[2413  170]\n",
      " [   0    0]] \n",
      "-----------\n",
      "---re_of_de_0---\n",
      " [[54 47]\n",
      " [ 0  0]] \n",
      "-----------\n",
      "---re_of_de_1---\n",
      " [[ 0  0]\n",
      " [ 3 28]] \n",
      "-----------\n"
     ]
    }
   ],
   "source": [
    "get_zxy(simple=False)\n",
    "for j in zip(['data_a','re_of_de_0','re_of_de_1'],['data_a_target','re_target_0','re_target_1']):\n",
    "    pre = [i[0].predict_proba(eval(j[0])[list_])[:,1] for i in result_list]\n",
    "    pre = [sum(i)/len(result_list) for i in zip(*pre)]\n",
    "    pre = [1 if i>=0.5 else 0 for i in pre]\n",
    "    print(f'---{j[0]}---\\n',metrics.confusion_matrix(eval(j[1]),pre),'\\n-----------')"
   ]
  },
  {
   "cell_type": "code",
   "execution_count": 76,
   "metadata": {},
   "outputs": [
    {
     "data": {
      "text/plain": [
       "672"
      ]
     },
     "execution_count": 76,
     "metadata": {},
     "output_type": "execute_result"
    }
   ],
   "source": [
    "pre_2017 = [i[0].predict_proba(data_2017[list_])[:,1] for i in result_list]\n",
    "pre_2017 = [sum(i)/len(result_list) for i in zip(*pre_2017)]\n",
    "pre_2017_ = [1 if i>=0.5 else 0 for i in pre_2017]\n",
    "\n",
    "sum(pre_2017_)"
   ]
  },
  {
   "cell_type": "code",
   "execution_count": 33,
   "metadata": {},
   "outputs": [
    {
     "data": {
      "text/plain": [
       "41"
      ]
     },
     "execution_count": 33,
     "metadata": {},
     "output_type": "execute_result"
    }
   ],
   "source": [
    "f = lr.predict(data_2017[list_])\n",
    "\n",
    "f.sum()"
   ]
  },
  {
   "cell_type": "code",
   "execution_count": 34,
   "metadata": {
    "scrolled": true
   },
   "outputs": [
    {
     "data": {
      "text/plain": [
       "[(LogisticRegression(C=0.1, class_weight=None, dual=False, fit_intercept=True,\n",
       "            intercept_scaling=1, max_iter=100, multi_class='ovr', n_jobs=-1,\n",
       "            penalty='l2', random_state=None, solver='liblinear', tol=5e-05,\n",
       "            verbose=0, warm_start=False),\n",
       "  {'C': 0.1, 'penalty': 'l2', 'tol': 5e-05})]"
      ]
     },
     "execution_count": 34,
     "metadata": {},
     "output_type": "execute_result"
    }
   ],
   "source": [
    "result_list"
   ]
  },
  {
   "cell_type": "code",
   "execution_count": 27,
   "metadata": {},
   "outputs": [],
   "source": [
    "result_list = joblib.load(r'D:\\pycharm_folder\\xijing\\company\\2018-06-07\\m_save\\2018-06-30_result list.m')"
   ]
  },
  {
   "cell_type": "code",
   "execution_count": null,
   "metadata": {},
   "outputs": [],
   "source": []
  },
  {
   "cell_type": "markdown",
   "metadata": {},
   "source": [
    "# XGBboost"
   ]
  },
  {
   "cell_type": "markdown",
   "metadata": {},
   "source": [
    "## 寻找参数"
   ]
  },
  {
   "cell_type": "code",
   "execution_count": 144,
   "metadata": {},
   "outputs": [],
   "source": [
    "para_test = {'learning_rate': [i/1000 for i in range(1,10,2)],\n",
    "              'max_depth':[i for i in range(3,8,2)], \n",
    "              'min_child_weight':[1,3,5],\n",
    "              'gamma':[i/10 for i in range(1,50,8)],\n",
    "              'subsample':[i/100 for i in range(50,80,5)],\n",
    "              'colsample_bytree':[i/100 for i in range(30,60,5)],\n",
    "              'reg_alpha':[0, 0.001, 0.005, 0.01, 0.05],\n",
    "              'scale_pos_weight':[i for i in range(6,11,2)]}\n",
    "xgb_ = xgb.XGBClassifier(objective= 'binary:logistic',eval_metric='auc',n_jobs=-1,early_stopping_rounds=30)\n",
    "flod = KFold(n_splits=4)\n",
    "\n",
    "grid = GridSearchCV(xgb_,param_grid=para_test,scoring='roc_auc',cv=flod,n_jobs=-1,iid=False, )"
   ]
  },
  {
   "cell_type": "code",
   "execution_count": 145,
   "metadata": {
    "scrolled": true
   },
   "outputs": [
    {
     "name": "stdout",
     "output_type": "stream",
     "text": [
      "AUC Score (Train): 0.500000\n",
      "AUC Score (Test): 0.500000\n",
      "Recall Score (Test): 0.000000\n"
     ]
    }
   ],
   "source": [
    "feature_importance_mean = pd.Series()\n",
    "xgb_clone = []\n",
    "def modelfit(alg,feature_importance_mean,xgb_clone,useTrainCV=True,cv_folds=3, early_stopping_rounds=50, n_epoch=5,):\n",
    "    get_zxy()\n",
    "    for i in range(n_epoch):\n",
    "        if useTrainCV:\n",
    "            xgb_param = alg.get_xgb_params()\n",
    "            xgtrain = xgb.DMatrix(x1, label=y1)\n",
    "            cvresult = xgb.cv(xgb_param, xgtrain, num_boost_round=alg.get_params()['n_estimators'], nfold=cv_folds,\n",
    "                metrics='auc', early_stopping_rounds=early_stopping_rounds,)\n",
    "            alg.set_params(n_estimators=cvresult.shape[0])\n",
    "            del xgtrain\n",
    "            gc.collect()\n",
    "\n",
    "            if i == 0: #init\n",
    "                param_test = [{'learning_rate': [0.001,0.004,0.007,0.01]},\n",
    "                              {'max_depth':[i for i in range(3,8,2)], 'min_child_weight':[1,3,5]},\n",
    "                              {'gamma':[i/10 for i in range(1,50,2)]},\n",
    "                              {'subsample':[i/100 for i in range(50,80,3)],'colsample_bytree':[i/100 for i in range(30,60,3)]},\n",
    "                              {'reg_alpha':[0, 0.001, 0.005, 0.01, 0.05]},\n",
    "                              {'scale_pos_weight':[1,2,3,5]}]\n",
    "                for i in range(len(param_test)):\n",
    "                    gsearch = GridSearchCV(estimator = alg, param_grid = param_test[i], scoring='roc_auc',iid=False, cv=cv_folds)\n",
    "                    gsearch.fit(x1,y1)\n",
    "                    alg = gsearch.best_estimator_\n",
    "\n",
    "            param_test_little_list = [['learning_rate'],\n",
    "                                      ['max_depth','min_child_weight'],\n",
    "                                      ['gamma'],\n",
    "                                      ['subsample','colsample_bytree'],\n",
    "                                      ['reg_alpha'],\n",
    "                                      ['scale_pos_weight']]\n",
    "            for little in range(len(param_test_little_list)):\n",
    "                param_test_little_dict = {}\n",
    "                for j in param_test_little_list[little]:\n",
    "                    if little == 1:\n",
    "                        param_test_little_dict[j] = [i for i in range(int(xgb1.get_xgb_params()[j])-1,int(xgb1.get_xgb_params()[j])+2)]\n",
    "                    elif little == 3:\n",
    "                        param_test_little_dict[j] = [i/1000. for i in np.linspace(int(1000*round(xgb1.get_xgb_params()[j],2)*0.9),\n",
    "                                                                      int(1000*round(xgb1.get_xgb_params()[j],2)*1.1),\n",
    "                                                                      3)]\n",
    "                    else:\n",
    "                        param_test_little_dict[j] = [i/1000. for i in np.linspace(int(1000*round(xgb1.get_xgb_params()[j],2)*0.9),\n",
    "                                                                      int(1000*round(xgb1.get_xgb_params()[j],2)*1.1),\n",
    "                                                                      5)]\n",
    "                gsearch = GridSearchCV(estimator = alg, param_grid = param_test_little_dict, scoring='roc_auc',iid=False, cv=cv_folds)\n",
    "                gsearch.fit(x1,y1)\n",
    "                alg = gsearch.best_estimator_\n",
    "\n",
    "    #Fit the algorithm on the data\n",
    "    alg.fit(x1, y1,eval_metric='auc')\n",
    "\n",
    "    #Print model report:\n",
    "    print (\"AUC Score (Train): %f\" % metrics.roc_auc_score(y1, alg.predict_proba(x1)[:,1]))\n",
    "    print (\"AUC Score (Test): %f\" % metrics.roc_auc_score(y2, alg.predict_proba(x2)[:,1]))\n",
    "    print('Recall Score (Test): %f' % metrics.recall_score(y2, alg.predict(x2)))\n",
    "\n",
    "    feature_importance_mean = feature_importance_mean.add(pd.Series(alg.get_booster().get_fscore()),fill_value=0)\n",
    "    xgb_clone.append(alg)\n",
    "    return feature_importance_mean,xgb_clone\n",
    "\n",
    "xgb1 = XGBClassifier(\n",
    " learning_rate =0.001,\n",
    " n_estimators=1000,\n",
    " max_depth=3,\n",
    " min_child_weight=2,\n",
    " gamma=0.1,\n",
    " subsample=0.8,\n",
    " colsample_bytree=0.7,\n",
    " objective= 'binary:logistic',\n",
    ")\n",
    "feature_importance_mean,xgb_clone = modelfit(xgb1,feature_importance_mean,xgb_clone,useTrainCV=True)"
   ]
  },
  {
   "cell_type": "code",
   "execution_count": 169,
   "metadata": {},
   "outputs": [
    {
     "data": {
      "text/plain": [
       "[XGBClassifier(base_score=0.5, booster='gbtree', colsample_bylevel=1,\n",
       "        colsample_bytree=0.63, gamma=0.09, learning_rate=0.0,\n",
       "        max_delta_step=0, max_depth=2, min_child_weight=1, missing=None,\n",
       "        n_estimators=1, n_jobs=1, nthread=None, objective='binary:logistic',\n",
       "        random_state=0, reg_alpha=0.0, reg_lambda=1, scale_pos_weight=0.9,\n",
       "        seed=None, silent=True, subsample=0.72)]"
      ]
     },
     "execution_count": 169,
     "metadata": {},
     "output_type": "execute_result"
    }
   ],
   "source": [
    "get_zxy()\n",
    "xgb_clone"
   ]
  },
  {
   "cell_type": "markdown",
   "metadata": {},
   "source": [
    "## 训练"
   ]
  },
  {
   "cell_type": "code",
   "execution_count": 160,
   "metadata": {},
   "outputs": [
    {
     "name": "stdout",
     "output_type": "stream",
     "text": [
      "4.939655220762393\n",
      "[0]\ttrain-auc:0.866848\tval-auc:0.459375\n",
      "Multiple eval metrics have been passed: 'val-auc' will be used for early stopping.\n",
      "\n",
      "Will train until val-auc hasn't improved in 30 rounds.\n",
      "[10]\ttrain-auc:0.922283\tval-auc:0.521875\n",
      "[20]\ttrain-auc:0.941304\tval-auc:0.5375\n",
      "[30]\ttrain-auc:0.93913\tval-auc:0.53125\n",
      "[40]\ttrain-auc:0.952174\tval-auc:0.54375\n",
      "[50]\ttrain-auc:0.958696\tval-auc:0.56875\n",
      "[60]\ttrain-auc:0.967391\tval-auc:0.58125\n",
      "[70]\ttrain-auc:0.967391\tval-auc:0.5625\n",
      "[80]\ttrain-auc:0.967391\tval-auc:0.58125\n",
      "Stopping. Best iteration:\n",
      "[59]\ttrain-auc:0.966304\tval-auc:0.5875\n",
      "\n",
      "AUC Score (Test): 0.575000\n",
      "Recall Score (Test): 0.625000\n",
      "2.230562014008577\n",
      "[0]\ttrain-auc:0.880247\tval-auc:0.579487\n",
      "Multiple eval metrics have been passed: 'val-auc' will be used for early stopping.\n",
      "\n",
      "Will train until val-auc hasn't improved in 30 rounds.\n",
      "[10]\ttrain-auc:0.957407\tval-auc:0.646154\n",
      "[20]\ttrain-auc:0.97037\tval-auc:0.646154\n",
      "[30]\ttrain-auc:0.975309\tval-auc:0.641026\n",
      "Stopping. Best iteration:\n",
      "[3]\ttrain-auc:0.93642\tval-auc:0.651282\n",
      "\n",
      "AUC Score (Test): 0.635897\n",
      "Recall Score (Test): 0.538462\n",
      "6.583499152769519\n",
      "[0]\ttrain-auc:0.794218\tval-auc:0.5\n",
      "Multiple eval metrics have been passed: 'val-auc' will be used for early stopping.\n",
      "\n",
      "Will train until val-auc hasn't improved in 30 rounds.\n",
      "[10]\ttrain-auc:0.912698\tval-auc:0.677778\n",
      "[20]\ttrain-auc:0.93424\tval-auc:0.638889\n",
      "[30]\ttrain-auc:0.933107\tval-auc:0.633333\n",
      "Stopping. Best iteration:\n",
      "[7]\ttrain-auc:0.901927\tval-auc:0.705556\n",
      "\n",
      "AUC Score (Test): 0.622222\n",
      "Recall Score (Test): 0.600000\n"
     ]
    },
    {
     "data": {
      "text/plain": [
       "Text(-81.1528,0.5,'Feature Importances')"
      ]
     },
     "execution_count": 160,
     "metadata": {},
     "output_type": "execute_result"
    }
   ],
   "source": [
    "feature_importance_mean = pd.Series()\n",
    "\n",
    "xgb_epoch = 3\n",
    "xgb_list = []\n",
    "\n",
    "for i in range(xgb_epoch):\n",
    "    get_zxy()\n",
    "#     get_zxy(test_size=0.3,simple=True)\n",
    "    print(x1.iloc[0,0])\n",
    "    \n",
    "    num_rounds = 1000 # 迭代次数\n",
    "    \n",
    "    params={\n",
    "    'booster':'gbtree',\n",
    "    'objective': 'binary:logistic',\n",
    "    'n_estimators':np.random.choice([i for i in range(30,60)]),\n",
    "    'gamma':np.random.choice([i/100 for i in range(7,12)]),  # 用于控制是否后剪枝的参数,越大越保守，一般0.1、0.2这样子。\n",
    "    'max_depth':np.random.choice([3,4,5],p=[0.35,0.55,0.10]), # 构建树的深度，越大越容易过拟合\n",
    "    'lambda':np.random.choice([i/10 for i in range(1,10)]),  # 控制模型复杂度的权重值的L2正则化项参数，参数越大，模型越不容易过拟合。\n",
    "    'subsample':np.random.choice([i/100 for i in range(70,75)]), # 随机采样训练样本\n",
    "    'colsample_bytree':np.random.choice([i/100 for i in range(35,45)]), # 生成树时进行的列采样\n",
    "    'min_child_weight':np.random.choice([i for i in range(2,5)]), \n",
    "    'eta': np.random.choice([i/1000 for i in range(1,10)]),\n",
    "    'eval_metric': 'auc',\n",
    "    'scale_pos_weight':np.random.choice([3,4,5])\n",
    "    }\n",
    "    \n",
    "    xgtrain = xgb.DMatrix(x1, label=y1)\n",
    "    xgtest = xgb.DMatrix(x2,label=y2,)\n",
    "\n",
    "    watchlist = [(xgtrain, 'train'),(xgtest, 'val')]\n",
    "    model = xgb.train(params,xgtrain,num_rounds,watchlist,early_stopping_rounds=30,verbose_eval=10)\n",
    "    xgb_list.append(model)\n",
    "    if i == 0:\n",
    "        feature_importance_mean = model.get_fscore()\n",
    "    else:\n",
    "        for g in model.get_fscore():\n",
    "            feature_importance_mean[g] = feature_importance_mean.get(g,0) + model.get_fscore()[g]\n",
    "    print (\"AUC Score (Test): %f\" % metrics.roc_auc_score(y2, model.predict(xgtest)))\n",
    "    print('Recall Score (Test): %f' % metrics.recall_score(y2, [1 if i>=0.5 else 0 for i in model.predict(xgtest)]))\n",
    "    \n",
    "feature_importance_mean = pd.Series(feature_importance_mean).sort_values()/xgb_epoch\n",
    "feature_importance_mean.plot(kind='barh', title='Feature Importance Score of Mean({})'.format(xgb_epoch))\n",
    "plt.ylabel('Feature Importances')"
   ]
  },
  {
   "cell_type": "code",
   "execution_count": 20,
   "metadata": {},
   "outputs": [],
   "source": [
    "# joblib.dump(xgb_list, \"m_save/xgb_z_250_三个月.m\")\n",
    "xgb_list = joblib.load('m_save/xgb_z.m')"
   ]
  },
  {
   "cell_type": "markdown",
   "metadata": {},
   "source": [
    "## 原数据回测"
   ]
  },
  {
   "cell_type": "code",
   "execution_count": 25,
   "metadata": {},
   "outputs": [],
   "source": [
    "get_zxy()"
   ]
  },
  {
   "cell_type": "code",
   "execution_count": 162,
   "metadata": {},
   "outputs": [
    {
     "name": "stdout",
     "output_type": "stream",
     "text": [
      "---xga---\n",
      " [[   0 1814  769]\n",
      " [   0    0    0]\n",
      " [   0    0    0]] \n",
      "-----------\n",
      "---xg0---\n",
      " [[73 28]\n",
      " [ 0  0]] \n",
      "-----------\n",
      "---xg1---\n",
      " [[ 0  0]\n",
      " [ 4 27]] \n",
      "-----------\n"
     ]
    }
   ],
   "source": [
    "xga = xgb.DMatrix(data_a[list_]);xg0 = xgb.DMatrix(re_of_de_0[list_]);xg1 = xgb.DMatrix(re_of_de_1[list_])\n",
    "for j in zip(['xga','xg0','xg1'],['data_a_target','re_target_0','re_target_1']):\n",
    "    e = [i.predict(eval(j[0])) for i in xgb_list]\n",
    "    print(f'---{j[0]}---\\n',metrics.confusion_matrix(eval(j[1]),\n",
    "                                                   np.where(np.array([sum(i)/len(xgb_list) for i in list(zip(*e))])>=0.5,1,0)),'\\n-----------')\n",
    "del xga,xg0,xg1"
   ]
  },
  {
   "cell_type": "markdown",
   "metadata": {},
   "source": [
    "## 预测"
   ]
  },
  {
   "cell_type": "code",
   "execution_count": 39,
   "metadata": {},
   "outputs": [
    {
     "data": {
      "text/plain": [
       "(2810, 10)"
      ]
     },
     "execution_count": 39,
     "metadata": {},
     "output_type": "execute_result"
    }
   ],
   "source": [
    "data_2018[list_].shape"
   ]
  },
  {
   "cell_type": "code",
   "execution_count": 24,
   "metadata": {},
   "outputs": [
    {
     "data": {
      "text/plain": [
       "['获息倍数',\n",
       " '货币资金/短期债务',\n",
       " '净利润(亿元)',\n",
       " '筹资活动现金流(亿元)',\n",
       " '主营业务利润率(%)',\n",
       " '主营业务收入增长率(%)',\n",
       " '投资活动现金流(亿元)',\n",
       " '净资产回报率(%)',\n",
       " '总资产报酬率(%)',\n",
       " '流动比率']"
      ]
     },
     "execution_count": 24,
     "metadata": {},
     "output_type": "execute_result"
    }
   ],
   "source": [
    "xgb_list[0].feature_names"
   ]
  },
  {
   "cell_type": "code",
   "execution_count": 51,
   "metadata": {},
   "outputs": [
    {
     "data": {
      "text/plain": [
       "1054"
      ]
     },
     "execution_count": 51,
     "metadata": {},
     "output_type": "execute_result"
    }
   ],
   "source": [
    "xg_2018 = xgb.DMatrix(data_2017[list_])\n",
    "e_xgb = [i.predict(xg_2018) for i in xgb_list]\n",
    "e_xgb = np.array([sum(i)/len(xgb_list) for i in list(zip(*e_xgb))])\n",
    "f = np.where(e_xgb>=0.5,1,0)\n",
    "del xg_2018\n",
    "f.sum()"
   ]
  },
  {
   "cell_type": "markdown",
   "metadata": {},
   "source": [
    "# 随即森林+栅栏搜索"
   ]
  },
  {
   "cell_type": "markdown",
   "metadata": {},
   "source": [
    "## 栅栏搜索"
   ]
  },
  {
   "cell_type": "code",
   "execution_count": 37,
   "metadata": {},
   "outputs": [],
   "source": [
    "rfc = RandomForestClassifier(oob_score=True,class_weight={1:10,0:1})\n",
    "\n",
    "para_list = {\n",
    "    'n_estimators':range(30,180,5),\n",
    "    'max_depth':[2,3,4,],\n",
    "    'min_samples_split':range(2,11,2),\n",
    "    'max_features':[i/100 for i in range(50,71,5)],\n",
    "}\n",
    "\n",
    "flod = KFold(n_splits=4)\n",
    "grid = GridSearchCV(rfc,param_grid=para_list,scoring='roc_auc',cv=flod,n_jobs=-1)"
   ]
  },
  {
   "cell_type": "code",
   "execution_count": null,
   "metadata": {},
   "outputs": [],
   "source": [
    "grid.fit(x1,y1)\n",
    "\n",
    "## 保存模型\n",
    "\n",
    "# joblib.dump(grid, \"m_save/违约公司纵向比较全特征_auc.m\")\n",
    "\n",
    "## 读取模型\n",
    "\n",
    "grid_recall = joblib.load('m_save/违约公司纵向比较全特征_recall.m')\n",
    "grid_auc = joblib.load('m_save/违约公司纵向比较全特征_auc.m')\n",
    "\n",
    "## 模型参数\n",
    "\n",
    "print(grid_auc.best_params_)\n",
    "print('\\n--------\\n',grid_auc.best_params_)\n",
    "grid_auc = grid_auc.best_estimator_\n",
    "grid_recall = grid_recall.best_estimator_"
   ]
  },
  {
   "cell_type": "markdown",
   "metadata": {},
   "source": [
    "## 特征重要性"
   ]
  },
  {
   "cell_type": "code",
   "execution_count": 262,
   "metadata": {},
   "outputs": [],
   "source": [
    "dict_auc = dict(zip(x2.columns,grid_auc.feature_importances_))\n",
    "dict_recall = dict(zip(x2.columns,grid_recall.feature_importances_))"
   ]
  },
  {
   "cell_type": "markdown",
   "metadata": {},
   "source": [
    "## 更新训练集、测试集"
   ]
  },
  {
   "cell_type": "code",
   "execution_count": 59,
   "metadata": {},
   "outputs": [],
   "source": [
    "get_zxy()"
   ]
  },
  {
   "cell_type": "markdown",
   "metadata": {},
   "source": [
    "## 模型效果在原数据上的混淆矩阵"
   ]
  },
  {
   "cell_type": "code",
   "execution_count": 342,
   "metadata": {
    "scrolled": false
   },
   "outputs": [
    {
     "name": "stdout",
     "output_type": "stream",
     "text": [
      "grid_auc---data_a [[15558    53]\n",
      " [    0     0]] \n",
      "-----------\n",
      "grid_recall---data_a [[15561    50]\n",
      " [    0     0]] \n",
      "-----------\n",
      "grid_auc---re_of_de_0 [[437  13]\n",
      " [  0   0]] \n",
      "-----------\n",
      "grid_recall---re_of_de_0 [[447   3]\n",
      " [  0   0]] \n",
      "-----------\n",
      "grid_auc---re_of_de_1 [[ 0  0]\n",
      " [13 13]] \n",
      "-----------\n",
      "grid_recall---re_of_de_1 [[ 0  0]\n",
      " [17  9]] \n",
      "-----------\n"
     ]
    }
   ],
   "source": [
    "for j in zip(['data_a','re_of_de_0','re_of_de_1'],['data_a_target','re_target_0','re_target_1']):\n",
    "    for i in ['grid_auc','grid_recall']:\n",
    "        print(f'{i}---{j[0]}',metrics.confusion_matrix(eval(j[1]),eval(i).predict(eval(j[0]))),'\\n-----------')"
   ]
  },
  {
   "cell_type": "markdown",
   "metadata": {},
   "source": [
    "## 训练模型 "
   ]
  },
  {
   "cell_type": "code",
   "execution_count": 172,
   "metadata": {
    "scrolled": true
   },
   "outputs": [
    {
     "name": "stdout",
     "output_type": "stream",
     "text": [
      "0\n",
      "avg-recall: 0.3921428571428572\n"
     ]
    },
    {
     "data": {
      "text/plain": [
       "<matplotlib.axes._subplots.AxesSubplot at 0x1b972e2ddd8>"
      ]
     },
     "execution_count": 172,
     "metadata": {},
     "output_type": "execute_result"
    }
   ],
   "source": [
    "rfc_list = []\n",
    "rfc_recall = []\n",
    "rfc_epoch = 5\n",
    "for i in range(rfc_epoch):\n",
    "    get_zxy(test_size=0.25,simple=True)\n",
    "    rfc = RandomForestClassifier(n_estimators=np.random.choice(range(20,30)),\n",
    "                                 max_depth=np.random.choice([2,3],p=[0.5,0.5,]),\n",
    "                                 max_features=np.random.choice([i/100 for i in range(35,55)]),\n",
    "                                 min_samples_split=np.random.choice([3,4,5],p=[0.15,0.45,0.4]),\n",
    "                                 n_jobs=-1,class_weight='balanced')\n",
    "    rfc.fit(x1,y1)\n",
    "    rfc_recall.append(metrics.recall_score(y2,rfc.predict(x2)))\n",
    "    rfc_list.append(rfc)\n",
    "    if i == 0:\n",
    "        feature_importance = rfc.feature_importances_\n",
    "    else :\n",
    "        feature_importance += rfc.feature_importances_\n",
    "    if i%30 == 0:\n",
    "        print(i)\n",
    "feature_importance = [round(i/rfc_epoch,6) for i in feature_importance]\n",
    "print('avg-recall:',sum(rfc_recall)/rfc_epoch)\n",
    "pd.Series(dict(zip(x2.columns,feature_importance))).sort_values().plot(kind='barh')"
   ]
  },
  {
   "cell_type": "code",
   "execution_count": 168,
   "metadata": {
    "scrolled": false
   },
   "outputs": [
    {
     "name": "stdout",
     "output_type": "stream",
     "text": [
      "\n",
      " [['净利润(亿元)' '0.13383']\n",
      " ['净利润/带息债务' '0.125542']\n",
      " ['货币资金/短期债务' '0.100117']\n",
      " ['净资产回报率(%)' '0.097667']\n",
      " ['总资产报酬率(%)' '0.094849']\n",
      " ['获息倍数' '0.094658']\n",
      " ['筹资活动现金流(亿元)' '0.089516']\n",
      " ['主营业务利润率(%)' '0.085955']\n",
      " ['投资活动现金流(亿元)' '0.060645']\n",
      " ['主营业务收入增长率(%)' '0.059243']\n",
      " ['流动比率' '0.057979']]\n"
     ]
    }
   ],
   "source": [
    "print('\\n',np.array(sorted(dict(zip(x2.columns,feature_importance)).items(),key=lambda x:x[1],reverse=True)))"
   ]
  },
  {
   "cell_type": "code",
   "execution_count": null,
   "metadata": {},
   "outputs": [],
   "source": [
    "# joblib.dump(rfc_list, \"m_save/rfc_z_250_三个月.m\")"
   ]
  },
  {
   "cell_type": "code",
   "execution_count": 47,
   "metadata": {},
   "outputs": [],
   "source": [
    "rfc_list = joblib.load(\"m_save/clf_grid12.m\")"
   ]
  },
  {
   "cell_type": "markdown",
   "metadata": {},
   "source": [
    "## 原数据回测"
   ]
  },
  {
   "cell_type": "code",
   "execution_count": 44,
   "metadata": {},
   "outputs": [],
   "source": [
    "get_hxy()"
   ]
  },
  {
   "cell_type": "code",
   "execution_count": 173,
   "metadata": {
    "scrolled": true
   },
   "outputs": [
    {
     "name": "stdout",
     "output_type": "stream",
     "text": [
      "---data_a---\n",
      " [[   0 2385  198]\n",
      " [   0    0    0]\n",
      " [   0    0    0]] \n",
      "-----------\n",
      "---re_of_de_0---\n",
      " [[93  8]\n",
      " [ 0  0]] \n",
      "-----------\n",
      "---re_of_de_1---\n",
      " [[ 0  0]\n",
      " [10 21]] \n",
      "-----------\n"
     ]
    }
   ],
   "source": [
    "for j in zip(['data_a','re_of_de_0','re_of_de_1'],['data_a_target','re_target_0','re_target_1']):\n",
    "    e = [i.predict_proba(eval(j[0])[list_])[:,1] for i in rfc_list]\n",
    "    print(f'---{j[0]}---\\n',metrics.confusion_matrix(eval(j[1]),\n",
    "                                                   np.where(np.array([sum(i)/rfc_epoch for i in list(zip(*e))])>=0.5,1,0)),'\\n-----------')\n",
    "# [ 1 if ((sum(i)/epoch)>=0.5) else 0 for i in list(zip(*e)) ]"
   ]
  },
  {
   "cell_type": "markdown",
   "metadata": {},
   "source": [
    "## 预测"
   ]
  },
  {
   "cell_type": "code",
   "execution_count": 171,
   "metadata": {},
   "outputs": [
    {
     "data": {
      "text/plain": [
       "164"
      ]
     },
     "execution_count": 171,
     "metadata": {},
     "output_type": "execute_result"
    }
   ],
   "source": [
    "e_rfc = [i.predict_proba(data_2017[list_])[:,1] for i in rfc_list]\n",
    "e_rfc = np.array([sum(i)/len(rfc_list) for i in list(zip(*e_rfc))])\n",
    "f = np.where(e_rfc>=0.5,1,0)\n",
    "\n",
    "f.sum()"
   ]
  },
  {
   "cell_type": "markdown",
   "metadata": {},
   "source": [
    "## LR"
   ]
  },
  {
   "cell_type": "code",
   "execution_count": 38,
   "metadata": {},
   "outputs": [],
   "source": [
    "para_list = {\n",
    "    'lr__penalty':['l2','l1'],\n",
    "    'lr__tol':[i/10000 for i in range(1,101,20)],\n",
    "    'lr__C':[0.1,0.5,1,5,10],\n",
    "    'lr__class_weight':[dict([(0,i),(1,1-i)]) for i in np.linspace(0.1,0.5,5)]+['balanced']\n",
    "}\n",
    "\n",
    "pp_lr = Pipeline([('pn',PolynomialFeatures()),\n",
    "                      ('lr',LogisticRegression(fit_intercept=False,))])\n",
    "nflod = KFold(n_splits=4,shuffle=True)\n",
    "grid = GridSearchCV(pp_lr,para_list,n_jobs=-1,cv=nflod,scoring='recall')"
   ]
  },
  {
   "cell_type": "code",
   "execution_count": null,
   "metadata": {
    "scrolled": false
   },
   "outputs": [],
   "source": [
    "get_zxy()\n",
    "grid.fit(x1,y1)"
   ]
  },
  {
   "cell_type": "code",
   "execution_count": 97,
   "metadata": {
    "scrolled": true
   },
   "outputs": [
    {
     "data": {
      "text/plain": [
       "{'lr__C': 1,\n",
       " 'lr__class_weight': 'balanced',\n",
       " 'lr__penalty': 'l1',\n",
       " 'lr__tol': 0.0081}"
      ]
     },
     "execution_count": 97,
     "metadata": {},
     "output_type": "execute_result"
    }
   ],
   "source": [
    "grid.best_params_"
   ]
  },
  {
   "cell_type": "code",
   "execution_count": 53,
   "metadata": {},
   "outputs": [
    {
     "data": {
      "text/plain": [
       "<matplotlib.axes._subplots.AxesSubplot at 0x1b23f61d9e8>"
      ]
     },
     "execution_count": 53,
     "metadata": {},
     "output_type": "execute_result"
    }
   ],
   "source": [
    "lr_epoch = 10\n",
    "lr_list = []\n",
    "for i in range(lr_epoch):\n",
    "    get_zxy(length_0=.4,simple=True)\n",
    "    lr = LogisticRegression(fit_intercept=False,C=np.random.choice([2,4,6],p=[0.3,0.4,0.3]),\n",
    "                    class_weight=np.random.choice(['balanced',]+[dict([(0,i),(1,1-i)]) for i in np.linspace(0.2,0.4,3)],p=[0.25,0.25,0.25,0.25]),\n",
    "                    penalty=np.random.choice(['l1','l2'],p=[0.25,0.75]),\n",
    "                    tol=np.random.choice([i/50 for i in range(74,87,2)],)           )\n",
    "    lr.fit(x1,y1)\n",
    "    lr_list.append(lr)\n",
    "    if i == 0:\n",
    "        feature_weight = np.array(lr.coef_).reshape(-1)\n",
    "    else:\n",
    "        feature_weight += np.array(lr.coef_).reshape(-1)\n",
    "\n",
    "feature_weight = pd.Series(feature_weight/lr_epoch,index=x2.columns).sort_values()\n",
    "feature_weight.plot(kind='barh',title=f'lr of epoch({lr_epoch})')"
   ]
  },
  {
   "cell_type": "markdown",
   "metadata": {},
   "source": [
    "## 回测原数据"
   ]
  },
  {
   "cell_type": "code",
   "execution_count": 54,
   "metadata": {
    "scrolled": true
   },
   "outputs": [
    {
     "name": "stdout",
     "output_type": "stream",
     "text": [
      "---data_a---\n",
      " [[14195  8879]\n",
      " [    0     0]] \n",
      "-----------\n",
      "---re_of_de_0---\n",
      " [[187 222]\n",
      " [  0   0]] \n",
      "-----------\n",
      "---re_of_de_1---\n",
      " [[ 0  0]\n",
      " [19 63]] \n",
      "-----------\n"
     ]
    }
   ],
   "source": [
    "for j in zip(['data_a','re_of_de_0','re_of_de_1'],['data_a_target','re_target_0','re_target_1']):\n",
    "    e = [i.predict_proba(eval(j[0])[list_])[:,1] for i in lr_list]\n",
    "    print(f'---{j[0]}---\\n',metrics.confusion_matrix(eval(j[1]),\n",
    "                                                   np.where(np.array([sum(i)/lr_epoch for i in list(zip(*e))])>=0.5,1,0)),'\\n-----------')"
   ]
  },
  {
   "cell_type": "markdown",
   "metadata": {},
   "source": [
    "## 预测 "
   ]
  },
  {
   "cell_type": "code",
   "execution_count": 55,
   "metadata": {},
   "outputs": [
    {
     "data": {
      "text/plain": [
       "1037"
      ]
     },
     "execution_count": 55,
     "metadata": {},
     "output_type": "execute_result"
    }
   ],
   "source": [
    "e_lr = [i.predict_proba(data_2018[list_])[:,1] for i in lr_list]\n",
    "e_lr = np.array([sum(i)/lr_epoch for i in list(zip(*e_lr))])\n",
    "f = np.where(e_lr>=0.5,1,0)\n",
    "\n",
    "f.sum()"
   ]
  },
  {
   "cell_type": "markdown",
   "metadata": {},
   "source": [
    "## 数据提取"
   ]
  },
  {
   "cell_type": "code",
   "execution_count": null,
   "metadata": {},
   "outputs": [],
   "source": [
    "e_lr[data_2018_object['名称'].map(lambda x:x.find('新光')>=0)]"
   ]
  },
  {
   "cell_type": "markdown",
   "metadata": {},
   "source": [
    "## SVM "
   ]
  },
  {
   "cell_type": "code",
   "execution_count": 27,
   "metadata": {},
   "outputs": [],
   "source": [
    "para_list = {'C':[1,5,10],\n",
    "             'kernel':['linear','poly','rbf'],\n",
    "             'degree':[2,3]}\n",
    "svc = SVC(class_weight='balanced',)\n",
    "nflod = KFold(n_splits=4,shuffle=True)\n",
    "grid = GridSearchCV(svc,para_list,n_jobs=-1,cv=nflod,scoring='roc_auc')"
   ]
  },
  {
   "cell_type": "code",
   "execution_count": 28,
   "metadata": {},
   "outputs": [
    {
     "data": {
      "text/plain": [
       "GridSearchCV(cv=KFold(n_splits=4, random_state=None, shuffle=True),\n",
       "       error_score='raise',\n",
       "       estimator=SVC(C=1.0, cache_size=200, class_weight='balanced', coef0=0.0,\n",
       "  decision_function_shape='ovr', degree=3, gamma='auto', kernel='rbf',\n",
       "  max_iter=-1, probability=False, random_state=None, shrinking=True,\n",
       "  tol=0.001, verbose=False),\n",
       "       fit_params=None, iid=True, n_jobs=-1,\n",
       "       param_grid={'C': [1, 5, 10], 'kernel': ['linear', 'poly', 'rbf'], 'degree': [2, 3]},\n",
       "       pre_dispatch='2*n_jobs', refit=True, return_train_score='warn',\n",
       "       scoring='roc_auc', verbose=0)"
      ]
     },
     "execution_count": 28,
     "metadata": {},
     "output_type": "execute_result"
    }
   ],
   "source": [
    "get_zxy(simple=True)\n",
    "grid.fit(x1,y1)"
   ]
  },
  {
   "cell_type": "code",
   "execution_count": 29,
   "metadata": {},
   "outputs": [
    {
     "data": {
      "text/plain": [
       "{'C': 1, 'degree': 2, 'kernel': 'rbf'}"
      ]
     },
     "execution_count": 29,
     "metadata": {},
     "output_type": "execute_result"
    }
   ],
   "source": [
    "grid.best_params_"
   ]
  },
  {
   "cell_type": "code",
   "execution_count": 50,
   "metadata": {},
   "outputs": [],
   "source": [
    "svc_epoch = 10\n",
    "svc_list = []\n",
    "for i in range(svc_epoch):\n",
    "    get_zxy(length_0=.4,simple=True)\n",
    "    svc = SVC(C=np.random.choice([1,5],p=[0.6,0.4],),class_weight='balanced',\n",
    "              kernel=str(np.random.choice(['linear','rbf','poly'],p=[0.5,0.25,0.25])),\n",
    "              degree=np.random.choice([2,3]),probability=True)\n",
    "    svc.fit(x1,y1,)\n",
    "    svc_list.append(svc)\n",
    "#     if i == 0:\n",
    "#         feature_weight = np.array(lr.coef_).reshape(-1)\n",
    "#     else:\n",
    "#         feature_weight += np.array(lr.coef_).reshape(-1)\n",
    "\n",
    "# feature_weight = pd.Series(feature_weight/lr_epoch,index=x2.columns).sort_values()\n",
    "# feature_weight.plot(kind='barh',title=f'lr of epoch({lr_epoch})')"
   ]
  },
  {
   "cell_type": "markdown",
   "metadata": {},
   "source": [
    "## 原数据回测"
   ]
  },
  {
   "cell_type": "code",
   "execution_count": 52,
   "metadata": {},
   "outputs": [
    {
     "name": "stdout",
     "output_type": "stream",
     "text": [
      "---data_a---\n",
      " [[22995    79]\n",
      " [    0     0]] \n",
      "-----------\n",
      "---re_of_de_0---\n",
      " [[409]] \n",
      "-----------\n",
      "---re_of_de_1---\n",
      " [[ 0  0]\n",
      " [52 30]] \n",
      "-----------\n"
     ]
    }
   ],
   "source": [
    "for j in zip(['data_a','re_of_de_0','re_of_de_1'],['data_a_target','re_target_0','re_target_1']):\n",
    "    e = [i.predict_proba(eval(j[0])[list_])[:,1] for i in svc_list]\n",
    "    print(f'---{j[0]}---\\n',metrics.confusion_matrix(eval(j[1]),\n",
    "                                                   np.where(np.array([sum(i)/svc_epoch for i in list(zip(*e))])>=0.5,1,0)),'\\n-----------')"
   ]
  },
  {
   "cell_type": "markdown",
   "metadata": {},
   "source": [
    "## 预测"
   ]
  },
  {
   "cell_type": "code",
   "execution_count": 19,
   "metadata": {},
   "outputs": [
    {
     "ename": "NameError",
     "evalue": "name 'svc_list' is not defined",
     "traceback": [
      "\u001b[1;31m---------------------------------------------------------------------------\u001b[0m",
      "\u001b[1;31mNameError\u001b[0m                                 Traceback (most recent call last)",
      "\u001b[1;32m<ipython-input-19-500c50ef8906>\u001b[0m in \u001b[0;36m<module>\u001b[1;34m()\u001b[0m\n\u001b[1;32m----> 1\u001b[1;33m \u001b[0me_svc\u001b[0m \u001b[1;33m=\u001b[0m \u001b[1;33m[\u001b[0m\u001b[0mi\u001b[0m\u001b[1;33m.\u001b[0m\u001b[0mpredict_proba\u001b[0m\u001b[1;33m(\u001b[0m\u001b[0mdata_2018\u001b[0m\u001b[1;33m[\u001b[0m\u001b[0mlist_\u001b[0m\u001b[1;33m]\u001b[0m\u001b[1;33m)\u001b[0m\u001b[1;33m[\u001b[0m\u001b[1;33m:\u001b[0m\u001b[1;33m,\u001b[0m\u001b[1;36m1\u001b[0m\u001b[1;33m]\u001b[0m \u001b[1;32mfor\u001b[0m \u001b[0mi\u001b[0m \u001b[1;32min\u001b[0m \u001b[0msvc_list\u001b[0m\u001b[1;33m]\u001b[0m\u001b[1;33m\u001b[0m\u001b[0m\n\u001b[0m\u001b[0;32m      2\u001b[0m \u001b[0me_svc\u001b[0m \u001b[1;33m=\u001b[0m \u001b[0mnp\u001b[0m\u001b[1;33m.\u001b[0m\u001b[0marray\u001b[0m\u001b[1;33m(\u001b[0m\u001b[1;33m[\u001b[0m\u001b[0msum\u001b[0m\u001b[1;33m(\u001b[0m\u001b[0mi\u001b[0m\u001b[1;33m)\u001b[0m\u001b[1;33m/\u001b[0m\u001b[0msvc_epoch\u001b[0m \u001b[1;32mfor\u001b[0m \u001b[0mi\u001b[0m \u001b[1;32min\u001b[0m \u001b[0mlist\u001b[0m\u001b[1;33m(\u001b[0m\u001b[0mzip\u001b[0m\u001b[1;33m(\u001b[0m\u001b[1;33m*\u001b[0m\u001b[0me_svc\u001b[0m\u001b[1;33m)\u001b[0m\u001b[1;33m)\u001b[0m\u001b[1;33m]\u001b[0m\u001b[1;33m)\u001b[0m\u001b[1;33m\u001b[0m\u001b[0m\n\u001b[0;32m      3\u001b[0m \u001b[0mf\u001b[0m \u001b[1;33m=\u001b[0m \u001b[0mnp\u001b[0m\u001b[1;33m.\u001b[0m\u001b[0mwhere\u001b[0m\u001b[1;33m(\u001b[0m\u001b[0me_svc\u001b[0m\u001b[1;33m>=\u001b[0m\u001b[1;36m0.5\u001b[0m\u001b[1;33m,\u001b[0m\u001b[1;36m1\u001b[0m\u001b[1;33m,\u001b[0m\u001b[1;36m0\u001b[0m\u001b[1;33m)\u001b[0m\u001b[1;33m\u001b[0m\u001b[0m\n\u001b[0;32m      4\u001b[0m \u001b[1;33m\u001b[0m\u001b[0m\n\u001b[0;32m      5\u001b[0m \u001b[0mf\u001b[0m\u001b[1;33m.\u001b[0m\u001b[0msum\u001b[0m\u001b[1;33m(\u001b[0m\u001b[1;33m)\u001b[0m\u001b[1;33m\u001b[0m\u001b[0m\n",
      "\u001b[1;31mNameError\u001b[0m: name 'svc_list' is not defined"
     ],
     "output_type": "error"
    }
   ],
   "source": [
    "e_svc = [i.predict_proba(data_2018[list_])[:,1] for i in svc_list]\n",
    "e_svc = np.array([sum(i)/svc_epoch for i in list(zip(*e_svc))])\n",
    "f = np.where(e_svc>=0.5,1,0)\n",
    "\n",
    "f.sum()"
   ]
  },
  {
   "cell_type": "markdown",
   "metadata": {},
   "source": [
    "# -------------------------------------------------"
   ]
  },
  {
   "cell_type": "markdown",
   "metadata": {},
   "source": [
    "# 提取原数据"
   ]
  },
  {
   "cell_type": "code",
   "execution_count": 30,
   "metadata": {},
   "outputs": [],
   "source": [
    "index_ = pd.concat([data_a_object,data_2018_object])['名称'].map(lambda x : x.find('新疆生产建设兵团第六师国有资产经营有限责任公司')>=0)"
   ]
  },
  {
   "cell_type": "code",
   "execution_count": 31,
   "metadata": {},
   "outputs": [],
   "source": [
    "outdata = pd.concat([pd.concat([data_a_object,data_2018_object]).loc[index_,['名称','报告期']],\\\n",
    "                     pd.concat([data_a,data_2018]).loc[index_,:]],axis=1)"
   ]
  },
  {
   "cell_type": "code",
   "execution_count": 26,
   "metadata": {},
   "outputs": [],
   "source": [
    "# outdata.to_excel(path+'新疆生产建设兵团第六师国有资产经营有限责任公司.xlsx',index=False)"
   ]
  },
  {
   "cell_type": "code",
   "execution_count": 32,
   "metadata": {},
   "outputs": [],
   "source": [
    "outdata = outdata.iloc[:,:-9]\n",
    "\n",
    "get_zxy(simple=True)\n",
    "\n",
    "outdata = outdata[list(outdata.columns[:2])+list_+['经营活动现金流(亿元)']]\n",
    "\n",
    "outdata.set_index('报告期',inplace=True)\n",
    "\n",
    "outdata.sort_values('报告期',inplace=True)"
   ]
  },
  {
   "cell_type": "code",
   "execution_count": 33,
   "metadata": {},
   "outputs": [
    {
     "data": {
      "text/html": [
       "<div>\n",
       "<style scoped>\n",
       "    .dataframe tbody tr th:only-of-type {\n",
       "        vertical-align: middle;\n",
       "    }\n",
       "\n",
       "    .dataframe tbody tr th {\n",
       "        vertical-align: top;\n",
       "    }\n",
       "\n",
       "    .dataframe thead th {\n",
       "        text-align: right;\n",
       "    }\n",
       "</style>\n",
       "<table border=\"1\" class=\"dataframe\">\n",
       "  <thead>\n",
       "    <tr style=\"text-align: right;\">\n",
       "      <th></th>\n",
       "      <th>名称</th>\n",
       "      <th>获息倍数</th>\n",
       "      <th>货币资金/短期债务</th>\n",
       "      <th>净利润(亿元)</th>\n",
       "      <th>筹资活动现金流(亿元)</th>\n",
       "      <th>主营业务利润率(%)</th>\n",
       "      <th>主营业务收入增长率(%)</th>\n",
       "      <th>投资活动现金流(亿元)</th>\n",
       "      <th>净资产回报率(%)</th>\n",
       "      <th>总资产报酬率(%)</th>\n",
       "      <th>流动比率</th>\n",
       "      <th>经营活动现金流(亿元)</th>\n",
       "    </tr>\n",
       "    <tr>\n",
       "      <th>报告期</th>\n",
       "      <th></th>\n",
       "      <th></th>\n",
       "      <th></th>\n",
       "      <th></th>\n",
       "      <th></th>\n",
       "      <th></th>\n",
       "      <th></th>\n",
       "      <th></th>\n",
       "      <th></th>\n",
       "      <th></th>\n",
       "      <th></th>\n",
       "      <th></th>\n",
       "    </tr>\n",
       "  </thead>\n",
       "  <tbody>\n",
       "    <tr>\n",
       "      <th>2016-03-31</th>\n",
       "      <td>新疆生产建设兵团第六师国有资产经营有限责任公司</td>\n",
       "      <td>-1.450960</td>\n",
       "      <td>0.735140</td>\n",
       "      <td>-1.724131</td>\n",
       "      <td>0.842136</td>\n",
       "      <td>-1.322245</td>\n",
       "      <td>6.391666</td>\n",
       "      <td>2.110962</td>\n",
       "      <td>-4.098005</td>\n",
       "      <td>-1.208708</td>\n",
       "      <td>0.962192</td>\n",
       "      <td>-2.916603</td>\n",
       "    </tr>\n",
       "    <tr>\n",
       "      <th>2016-06-30</th>\n",
       "      <td>新疆生产建设兵团第六师国有资产经营有限责任公司</td>\n",
       "      <td>-1.261334</td>\n",
       "      <td>0.745595</td>\n",
       "      <td>-1.140379</td>\n",
       "      <td>-0.911901</td>\n",
       "      <td>-7.320250</td>\n",
       "      <td>-3.102262</td>\n",
       "      <td>2.080562</td>\n",
       "      <td>0.410571</td>\n",
       "      <td>-1.330516</td>\n",
       "      <td>2.003252</td>\n",
       "      <td>-2.543357</td>\n",
       "    </tr>\n",
       "    <tr>\n",
       "      <th>2016-12-31</th>\n",
       "      <td>新疆生产建设兵团第六师国有资产经营有限责任公司</td>\n",
       "      <td>-0.833186</td>\n",
       "      <td>-1.630456</td>\n",
       "      <td>-0.712209</td>\n",
       "      <td>-1.891611</td>\n",
       "      <td>-1.396979</td>\n",
       "      <td>-2.214950</td>\n",
       "      <td>1.097175</td>\n",
       "      <td>-1.209295</td>\n",
       "      <td>-0.126586</td>\n",
       "      <td>1.033949</td>\n",
       "      <td>-2.559672</td>\n",
       "    </tr>\n",
       "    <tr>\n",
       "      <th>2017-03-31</th>\n",
       "      <td>新疆生产建设兵团第六师国有资产经营有限责任公司</td>\n",
       "      <td>-1.221802</td>\n",
       "      <td>-1.735538</td>\n",
       "      <td>-1.250023</td>\n",
       "      <td>0.266761</td>\n",
       "      <td>-1.161610</td>\n",
       "      <td>1.013630</td>\n",
       "      <td>0.907222</td>\n",
       "      <td>-1.587410</td>\n",
       "      <td>-1.781123</td>\n",
       "      <td>0.862620</td>\n",
       "      <td>-2.346397</td>\n",
       "    </tr>\n",
       "    <tr>\n",
       "      <th>2017-06-30</th>\n",
       "      <td>新疆生产建设兵团第六师国有资产经营有限责任公司</td>\n",
       "      <td>-1.053352</td>\n",
       "      <td>-1.820156</td>\n",
       "      <td>-1.170228</td>\n",
       "      <td>-0.783732</td>\n",
       "      <td>-0.991694</td>\n",
       "      <td>1.219125</td>\n",
       "      <td>0.511116</td>\n",
       "      <td>-1.501856</td>\n",
       "      <td>-1.848131</td>\n",
       "      <td>1.292461</td>\n",
       "      <td>-0.702139</td>\n",
       "    </tr>\n",
       "    <tr>\n",
       "      <th>2017-09-30</th>\n",
       "      <td>新疆生产建设兵团第六师国有资产经营有限责任公司</td>\n",
       "      <td>-0.653031</td>\n",
       "      <td>-0.939512</td>\n",
       "      <td>-0.974024</td>\n",
       "      <td>1.149206</td>\n",
       "      <td>-0.530799</td>\n",
       "      <td>0.375040</td>\n",
       "      <td>0.438609</td>\n",
       "      <td>-1.412630</td>\n",
       "      <td>-1.804707</td>\n",
       "      <td>2.054206</td>\n",
       "      <td>-2.212696</td>\n",
       "    </tr>\n",
       "    <tr>\n",
       "      <th>2018-03-31</th>\n",
       "      <td>新疆生产建设兵团第六师国有资产经营有限责任公司</td>\n",
       "      <td>-1.345240</td>\n",
       "      <td>-2.430510</td>\n",
       "      <td>-1.427194</td>\n",
       "      <td>-0.823264</td>\n",
       "      <td>-2.182058</td>\n",
       "      <td>0.752173</td>\n",
       "      <td>0.277939</td>\n",
       "      <td>-1.787180</td>\n",
       "      <td>-2.001986</td>\n",
       "      <td>1.390630</td>\n",
       "      <td>0.313063</td>\n",
       "    </tr>\n",
       "  </tbody>\n",
       "</table>\n",
       "</div>"
      ],
      "text/plain": [
       "                                 名称      获息倍数  货币资金/短期债务   净利润(亿元)  \\\n",
       "报告期                                                                  \n",
       "2016-03-31  新疆生产建设兵团第六师国有资产经营有限责任公司 -1.450960   0.735140 -1.724131   \n",
       "2016-06-30  新疆生产建设兵团第六师国有资产经营有限责任公司 -1.261334   0.745595 -1.140379   \n",
       "2016-12-31  新疆生产建设兵团第六师国有资产经营有限责任公司 -0.833186  -1.630456 -0.712209   \n",
       "2017-03-31  新疆生产建设兵团第六师国有资产经营有限责任公司 -1.221802  -1.735538 -1.250023   \n",
       "2017-06-30  新疆生产建设兵团第六师国有资产经营有限责任公司 -1.053352  -1.820156 -1.170228   \n",
       "2017-09-30  新疆生产建设兵团第六师国有资产经营有限责任公司 -0.653031  -0.939512 -0.974024   \n",
       "2018-03-31  新疆生产建设兵团第六师国有资产经营有限责任公司 -1.345240  -2.430510 -1.427194   \n",
       "\n",
       "            筹资活动现金流(亿元)  主营业务利润率(%)  主营业务收入增长率(%)  投资活动现金流(亿元)  净资产回报率(%)  \\\n",
       "报告期                                                                         \n",
       "2016-03-31     0.842136   -1.322245      6.391666     2.110962  -4.098005   \n",
       "2016-06-30    -0.911901   -7.320250     -3.102262     2.080562   0.410571   \n",
       "2016-12-31    -1.891611   -1.396979     -2.214950     1.097175  -1.209295   \n",
       "2017-03-31     0.266761   -1.161610      1.013630     0.907222  -1.587410   \n",
       "2017-06-30    -0.783732   -0.991694      1.219125     0.511116  -1.501856   \n",
       "2017-09-30     1.149206   -0.530799      0.375040     0.438609  -1.412630   \n",
       "2018-03-31    -0.823264   -2.182058      0.752173     0.277939  -1.787180   \n",
       "\n",
       "            总资产报酬率(%)      流动比率  经营活动现金流(亿元)  \n",
       "报告期                                           \n",
       "2016-03-31  -1.208708  0.962192    -2.916603  \n",
       "2016-06-30  -1.330516  2.003252    -2.543357  \n",
       "2016-12-31  -0.126586  1.033949    -2.559672  \n",
       "2017-03-31  -1.781123  0.862620    -2.346397  \n",
       "2017-06-30  -1.848131  1.292461    -0.702139  \n",
       "2017-09-30  -1.804707  2.054206    -2.212696  \n",
       "2018-03-31  -2.001986  1.390630     0.313063  "
      ]
     },
     "execution_count": 33,
     "metadata": {},
     "output_type": "execute_result"
    }
   ],
   "source": [
    "outdata"
   ]
  },
  {
   "cell_type": "code",
   "execution_count": 34,
   "metadata": {},
   "outputs": [],
   "source": [
    "a = [('获息倍数', 0.10293085778684695),('货币资金/短期债务', 0.08466747934544402),('净利润(亿元)', 0.08119844386846073),\n",
    "     ('筹资活动现金流(亿元)', 0.07392047950839306),('主营业务利润率(%)', 0.07373536447871205),('主营业务收入增长率(%)', 0.0681957815907612),\n",
    " ('货币资金/总债务', 0.059822816991053754),('投资活动现金流(亿元)', 0.056517651957992715),('净资产回报率(%)', 0.05488686308572023),\n",
    " ('总资产报酬率(%)', 0.036039995560997476),('短期债务/总债务', 0.0350832996152875),('EBITDA/营业总收入', 0.034048366402690815),\n",
    " ('经营活动现金流(亿元)', 0.0243060183484769),('EBITDA/带息债务', 0.023188518342373905),('流动比率', 0.020910667354810814),\n",
    " ('成立日期', 0.0202111066498566),('经营性现金流/EBITDA', 0.019427371835625647),('货币资产(亿元)', 0.018929246296673925),\n",
    " ('净债务(亿元)', 0.015673135947545064),('EBITDA(亿元)', 0.013656585077388917),('带息债务/总投入资本', 0.013195889611687595),('主营业务利润(亿元)', 0.012345481772175503),\n",
    " ('总资产(亿元)', 0.01071488982344452),('净资产(亿元)', 0.009601482353160072),('总债务(亿元)', 0.009112083719364693),\n",
    " ('主营业务收入(亿元)', 0.006851438201812423),('速动比率', 0.005393658415696681),('存货周转率', 0.00521645305170003),\n",
    " ('资产负债率', 0.0034618581489861853),('带息债务(亿元)', 0.002858337636445684),('是否上市_否', 0.002687756282129772),\n",
    " ('企业性质_民营企业', 0.0012106209382845353),('注册资金低', 0.0),('注册资金中等', 0.0),\n",
    " ('注册资金高', 0.0),('企业性质_中外合资企业', 0.0),('企业性质_中央国有企业', 0.0),('企业性质_地方国有企业', 0.0),\n",
    " ('企业性质_外商独资企业', 0.0),('企业性质_外资企业', 0.0),('企业性质_集体企业', 0.0),('是否上市_是', 0.0)]\n",
    "a = dict(a)\n",
    "a = [a[i] for i in outdata.columns[1:]]\n",
    "a = [j/sum(a) for j in a]\n",
    "outdata['加权平均'] = outdata.iloc[:,1:].values.dot(np.array(a).reshape(-1,1))"
   ]
  },
  {
   "cell_type": "code",
   "execution_count": null,
   "metadata": {},
   "outputs": [],
   "source": []
  },
  {
   "cell_type": "code",
   "execution_count": 53,
   "metadata": {},
   "outputs": [],
   "source": [
    "z = pd.read_excel(path+'2017a.xlsx')"
   ]
  },
  {
   "cell_type": "code",
   "execution_count": 54,
   "metadata": {},
   "outputs": [],
   "source": [
    "z = z[list(z.columns[:2])+list_+['经营活动现金流(亿元)']]"
   ]
  },
  {
   "cell_type": "code",
   "execution_count": 55,
   "metadata": {},
   "outputs": [],
   "source": [
    "z = z.loc[z['名称']=='新疆生产建设兵团第六师国有资产经营有限责任公司',:]"
   ]
  },
  {
   "cell_type": "code",
   "execution_count": 56,
   "metadata": {},
   "outputs": [],
   "source": [
    "z = z.iloc[0,:]"
   ]
  },
  {
   "cell_type": "code",
   "execution_count": 57,
   "metadata": {},
   "outputs": [],
   "source": [
    "z.fillna(1.3,inplace=True)"
   ]
  },
  {
   "cell_type": "code",
   "execution_count": 44,
   "metadata": {},
   "outputs": [
    {
     "data": {
      "text/plain": [
       "名称              新疆生产建设兵团第六师国有资产经营有限责任公司\n",
       "报告期                 2017-12-31 00:00:00\n",
       "获息倍数                                1.3\n",
       "货币资金/短期债务                     0.0820865\n",
       "净利润(亿元)                        -3.50252\n",
       "筹资活动现金流(亿元)                     11.2072\n",
       "主营业务利润率(%)                      -8.3078\n",
       "主营业务收入增长率(%)                    14.6426\n",
       "投资活动现金流(亿元)                  -0.0295982\n",
       "净资产回报率(%)                        0.2535\n",
       "总资产报酬率(%)                       -1.1393\n",
       "流动比率                             2.1238\n",
       "经营活动现金流(亿元)                    -15.1898\n",
       "Name: 3937, dtype: object"
      ]
     },
     "execution_count": 44,
     "metadata": {},
     "output_type": "execute_result"
    }
   ],
   "source": [
    "z"
   ]
  },
  {
   "cell_type": "code",
   "execution_count": 58,
   "metadata": {},
   "outputs": [],
   "source": [
    "z = pd.DataFrame(z).stack().unstack(0).set_index('报告期',)"
   ]
  },
  {
   "cell_type": "code",
   "execution_count": 59,
   "metadata": {},
   "outputs": [],
   "source": [
    "weight = joblib.load(path+'weight_dict_a.m')"
   ]
  },
  {
   "cell_type": "code",
   "execution_count": 60,
   "metadata": {},
   "outputs": [],
   "source": [
    "for i in range(z.shape[1]-1):\n",
    "    z.iloc[:,i+1] =(z.iloc[:,i+1]-weight[z.columns[i+1]][0])/weight[z.columns[i+1]][1]"
   ]
  },
  {
   "cell_type": "code",
   "execution_count": 61,
   "metadata": {},
   "outputs": [
    {
     "data": {
      "text/html": [
       "<div>\n",
       "<style scoped>\n",
       "    .dataframe tbody tr th:only-of-type {\n",
       "        vertical-align: middle;\n",
       "    }\n",
       "\n",
       "    .dataframe tbody tr th {\n",
       "        vertical-align: top;\n",
       "    }\n",
       "\n",
       "    .dataframe thead th {\n",
       "        text-align: right;\n",
       "    }\n",
       "</style>\n",
       "<table border=\"1\" class=\"dataframe\">\n",
       "  <thead>\n",
       "    <tr style=\"text-align: right;\">\n",
       "      <th></th>\n",
       "      <th>名称</th>\n",
       "      <th>获息倍数</th>\n",
       "      <th>货币资金/短期债务</th>\n",
       "      <th>净利润(亿元)</th>\n",
       "      <th>筹资活动现金流(亿元)</th>\n",
       "      <th>主营业务利润率(%)</th>\n",
       "      <th>主营业务收入增长率(%)</th>\n",
       "      <th>投资活动现金流(亿元)</th>\n",
       "      <th>净资产回报率(%)</th>\n",
       "      <th>总资产报酬率(%)</th>\n",
       "      <th>流动比率</th>\n",
       "      <th>经营活动现金流(亿元)</th>\n",
       "    </tr>\n",
       "    <tr>\n",
       "      <th>报告期</th>\n",
       "      <th></th>\n",
       "      <th></th>\n",
       "      <th></th>\n",
       "      <th></th>\n",
       "      <th></th>\n",
       "      <th></th>\n",
       "      <th></th>\n",
       "      <th></th>\n",
       "      <th></th>\n",
       "      <th></th>\n",
       "      <th></th>\n",
       "      <th></th>\n",
       "    </tr>\n",
       "  </thead>\n",
       "  <tbody>\n",
       "    <tr>\n",
       "      <th>2017-12-31</th>\n",
       "      <td>新疆生产建设兵团第六师国有资产经营有限责任公司</td>\n",
       "      <td>-1.1993</td>\n",
       "      <td>-2.42139</td>\n",
       "      <td>-22.5031</td>\n",
       "      <td>1.45793</td>\n",
       "      <td>-3.34059</td>\n",
       "      <td>0.493806</td>\n",
       "      <td>1.10189</td>\n",
       "      <td>-1.43402</td>\n",
       "      <td>-3.18212</td>\n",
       "      <td>1.50703</td>\n",
       "      <td>-6.27212</td>\n",
       "    </tr>\n",
       "  </tbody>\n",
       "</table>\n",
       "</div>"
      ],
      "text/plain": [
       "                                 名称    获息倍数 货币资金/短期债务  净利润(亿元) 筹资活动现金流(亿元)  \\\n",
       "报告期                                                                          \n",
       "2017-12-31  新疆生产建设兵团第六师国有资产经营有限责任公司 -1.1993  -2.42139 -22.5031     1.45793   \n",
       "\n",
       "           主营业务利润率(%) 主营业务收入增长率(%) 投资活动现金流(亿元) 净资产回报率(%) 总资产报酬率(%)     流动比率  \\\n",
       "报告期                                                                           \n",
       "2017-12-31   -3.34059     0.493806     1.10189  -1.43402  -3.18212  1.50703   \n",
       "\n",
       "           经营活动现金流(亿元)  \n",
       "报告期                     \n",
       "2017-12-31    -6.27212  "
      ]
     },
     "execution_count": 61,
     "metadata": {},
     "output_type": "execute_result"
    }
   ],
   "source": [
    "z"
   ]
  },
  {
   "cell_type": "code",
   "execution_count": 52,
   "metadata": {},
   "outputs": [
    {
     "data": {
      "text/html": [
       "<div>\n",
       "<style scoped>\n",
       "    .dataframe tbody tr th:only-of-type {\n",
       "        vertical-align: middle;\n",
       "    }\n",
       "\n",
       "    .dataframe tbody tr th {\n",
       "        vertical-align: top;\n",
       "    }\n",
       "\n",
       "    .dataframe thead th {\n",
       "        text-align: right;\n",
       "    }\n",
       "</style>\n",
       "<table border=\"1\" class=\"dataframe\">\n",
       "  <thead>\n",
       "    <tr style=\"text-align: right;\">\n",
       "      <th></th>\n",
       "      <th>名称</th>\n",
       "      <th>获息倍数</th>\n",
       "      <th>货币资金/短期债务</th>\n",
       "      <th>净利润(亿元)</th>\n",
       "      <th>筹资活动现金流(亿元)</th>\n",
       "      <th>主营业务利润率(%)</th>\n",
       "      <th>主营业务收入增长率(%)</th>\n",
       "      <th>投资活动现金流(亿元)</th>\n",
       "      <th>净资产回报率(%)</th>\n",
       "      <th>总资产报酬率(%)</th>\n",
       "      <th>流动比率</th>\n",
       "      <th>经营活动现金流(亿元)</th>\n",
       "      <th>加权平均</th>\n",
       "    </tr>\n",
       "    <tr>\n",
       "      <th>报告期</th>\n",
       "      <th></th>\n",
       "      <th></th>\n",
       "      <th></th>\n",
       "      <th></th>\n",
       "      <th></th>\n",
       "      <th></th>\n",
       "      <th></th>\n",
       "      <th></th>\n",
       "      <th></th>\n",
       "      <th></th>\n",
       "      <th></th>\n",
       "      <th></th>\n",
       "      <th></th>\n",
       "    </tr>\n",
       "  </thead>\n",
       "  <tbody>\n",
       "    <tr>\n",
       "      <th>2016-03-31</th>\n",
       "      <td>新疆生产建设兵团第六师国有资产经营有限责任公司</td>\n",
       "      <td>-1.450960</td>\n",
       "      <td>0.735140</td>\n",
       "      <td>-1.724131</td>\n",
       "      <td>0.842136</td>\n",
       "      <td>-1.322245</td>\n",
       "      <td>6.391666</td>\n",
       "      <td>2.110962</td>\n",
       "      <td>-4.098005</td>\n",
       "      <td>-1.208708</td>\n",
       "      <td>0.962192</td>\n",
       "      <td>-2.916603</td>\n",
       "      <td>-0.039001</td>\n",
       "    </tr>\n",
       "    <tr>\n",
       "      <th>2016-06-30</th>\n",
       "      <td>新疆生产建设兵团第六师国有资产经营有限责任公司</td>\n",
       "      <td>-1.261334</td>\n",
       "      <td>0.745595</td>\n",
       "      <td>-1.140379</td>\n",
       "      <td>-0.911901</td>\n",
       "      <td>-7.320250</td>\n",
       "      <td>-3.102262</td>\n",
       "      <td>2.080562</td>\n",
       "      <td>0.410571</td>\n",
       "      <td>-1.330516</td>\n",
       "      <td>2.003252</td>\n",
       "      <td>-2.543357</td>\n",
       "      <td>-1.337332</td>\n",
       "    </tr>\n",
       "    <tr>\n",
       "      <th>2016-12-31</th>\n",
       "      <td>新疆生产建设兵团第六师国有资产经营有限责任公司</td>\n",
       "      <td>-0.833186</td>\n",
       "      <td>-1.630456</td>\n",
       "      <td>-0.712209</td>\n",
       "      <td>-1.891611</td>\n",
       "      <td>-1.396979</td>\n",
       "      <td>-2.214950</td>\n",
       "      <td>1.097175</td>\n",
       "      <td>-1.209295</td>\n",
       "      <td>-0.126586</td>\n",
       "      <td>1.033949</td>\n",
       "      <td>-2.559672</td>\n",
       "      <td>-1.070478</td>\n",
       "    </tr>\n",
       "    <tr>\n",
       "      <th>2017-03-31</th>\n",
       "      <td>新疆生产建设兵团第六师国有资产经营有限责任公司</td>\n",
       "      <td>-1.221802</td>\n",
       "      <td>-1.735538</td>\n",
       "      <td>-1.250023</td>\n",
       "      <td>0.266761</td>\n",
       "      <td>-1.161610</td>\n",
       "      <td>1.013630</td>\n",
       "      <td>0.907222</td>\n",
       "      <td>-1.587410</td>\n",
       "      <td>-1.781123</td>\n",
       "      <td>0.862620</td>\n",
       "      <td>-2.346397</td>\n",
       "      <td>-0.753055</td>\n",
       "    </tr>\n",
       "    <tr>\n",
       "      <th>2017-06-30</th>\n",
       "      <td>新疆生产建设兵团第六师国有资产经营有限责任公司</td>\n",
       "      <td>-1.053352</td>\n",
       "      <td>-1.820156</td>\n",
       "      <td>-1.170228</td>\n",
       "      <td>-0.783732</td>\n",
       "      <td>-0.991694</td>\n",
       "      <td>1.219125</td>\n",
       "      <td>0.511116</td>\n",
       "      <td>-1.501856</td>\n",
       "      <td>-1.848131</td>\n",
       "      <td>1.292461</td>\n",
       "      <td>-0.702139</td>\n",
       "      <td>-0.761336</td>\n",
       "    </tr>\n",
       "    <tr>\n",
       "      <th>2017-09-30</th>\n",
       "      <td>新疆生产建设兵团第六师国有资产经营有限责任公司</td>\n",
       "      <td>-0.653031</td>\n",
       "      <td>-0.939512</td>\n",
       "      <td>-0.974024</td>\n",
       "      <td>1.149206</td>\n",
       "      <td>-0.530799</td>\n",
       "      <td>0.375040</td>\n",
       "      <td>0.438609</td>\n",
       "      <td>-1.412630</td>\n",
       "      <td>-1.804707</td>\n",
       "      <td>2.054206</td>\n",
       "      <td>-2.212696</td>\n",
       "      <td>-0.417947</td>\n",
       "    </tr>\n",
       "    <tr>\n",
       "      <th>2018-03-31</th>\n",
       "      <td>新疆生产建设兵团第六师国有资产经营有限责任公司</td>\n",
       "      <td>-1.345240</td>\n",
       "      <td>-2.430510</td>\n",
       "      <td>-1.427194</td>\n",
       "      <td>-0.823264</td>\n",
       "      <td>-2.182058</td>\n",
       "      <td>0.752173</td>\n",
       "      <td>0.277939</td>\n",
       "      <td>-1.787180</td>\n",
       "      <td>-2.001986</td>\n",
       "      <td>1.390630</td>\n",
       "      <td>0.313063</td>\n",
       "      <td>-1.105021</td>\n",
       "    </tr>\n",
       "  </tbody>\n",
       "</table>\n",
       "</div>"
      ],
      "text/plain": [
       "                                 名称      获息倍数  货币资金/短期债务   净利润(亿元)  \\\n",
       "报告期                                                                  \n",
       "2016-03-31  新疆生产建设兵团第六师国有资产经营有限责任公司 -1.450960   0.735140 -1.724131   \n",
       "2016-06-30  新疆生产建设兵团第六师国有资产经营有限责任公司 -1.261334   0.745595 -1.140379   \n",
       "2016-12-31  新疆生产建设兵团第六师国有资产经营有限责任公司 -0.833186  -1.630456 -0.712209   \n",
       "2017-03-31  新疆生产建设兵团第六师国有资产经营有限责任公司 -1.221802  -1.735538 -1.250023   \n",
       "2017-06-30  新疆生产建设兵团第六师国有资产经营有限责任公司 -1.053352  -1.820156 -1.170228   \n",
       "2017-09-30  新疆生产建设兵团第六师国有资产经营有限责任公司 -0.653031  -0.939512 -0.974024   \n",
       "2018-03-31  新疆生产建设兵团第六师国有资产经营有限责任公司 -1.345240  -2.430510 -1.427194   \n",
       "\n",
       "            筹资活动现金流(亿元)  主营业务利润率(%)  主营业务收入增长率(%)  投资活动现金流(亿元)  净资产回报率(%)  \\\n",
       "报告期                                                                         \n",
       "2016-03-31     0.842136   -1.322245      6.391666     2.110962  -4.098005   \n",
       "2016-06-30    -0.911901   -7.320250     -3.102262     2.080562   0.410571   \n",
       "2016-12-31    -1.891611   -1.396979     -2.214950     1.097175  -1.209295   \n",
       "2017-03-31     0.266761   -1.161610      1.013630     0.907222  -1.587410   \n",
       "2017-06-30    -0.783732   -0.991694      1.219125     0.511116  -1.501856   \n",
       "2017-09-30     1.149206   -0.530799      0.375040     0.438609  -1.412630   \n",
       "2018-03-31    -0.823264   -2.182058      0.752173     0.277939  -1.787180   \n",
       "\n",
       "            总资产报酬率(%)      流动比率  经营活动现金流(亿元)      加权平均  \n",
       "报告期                                                     \n",
       "2016-03-31  -1.208708  0.962192    -2.916603 -0.039001  \n",
       "2016-06-30  -1.330516  2.003252    -2.543357 -1.337332  \n",
       "2016-12-31  -0.126586  1.033949    -2.559672 -1.070478  \n",
       "2017-03-31  -1.781123  0.862620    -2.346397 -0.753055  \n",
       "2017-06-30  -1.848131  1.292461    -0.702139 -0.761336  \n",
       "2017-09-30  -1.804707  2.054206    -2.212696 -0.417947  \n",
       "2018-03-31  -2.001986  1.390630     0.313063 -1.105021  "
      ]
     },
     "execution_count": 52,
     "metadata": {},
     "output_type": "execute_result"
    }
   ],
   "source": [
    "outdata"
   ]
  },
  {
   "cell_type": "code",
   "execution_count": 62,
   "metadata": {},
   "outputs": [],
   "source": [
    "z['加权平均'] = z.iloc[:,1:].values.dot(np.array(a).reshape(-1,1))"
   ]
  },
  {
   "cell_type": "code",
   "execution_count": 63,
   "metadata": {},
   "outputs": [],
   "source": [
    "z = pd.concat([outdata,z])[outdata.columns]"
   ]
  },
  {
   "cell_type": "code",
   "execution_count": 64,
   "metadata": {
    "scrolled": true
   },
   "outputs": [],
   "source": [
    "outdata = z.sort_index()"
   ]
  },
  {
   "cell_type": "code",
   "execution_count": 65,
   "metadata": {},
   "outputs": [],
   "source": [
    "for i in range(outdata.shape[1]-1):\n",
    "    ax = plt.subplot(4,3,i+1)\n",
    "    outdata.iloc[:,i+1].plot(label=outdata.columns[i+1],)\n",
    "    ax.legend(loc='best',prop={'size':11})\n",
    "    ax.spines['right'].set_color('none')\n",
    "    ax.spines['top'].set_color('none')\n",
    "    ax.set_xlabel('')\n",
    "plt.suptitle('新疆生产建设兵团第六师国有资产经营有限责任公司')\n",
    "plt.show()"
   ]
  },
  {
   "cell_type": "markdown",
   "metadata": {},
   "source": [
    "# 画图 "
   ]
  },
  {
   "cell_type": "markdown",
   "metadata": {},
   "source": [
    "## -------------"
   ]
  },
  {
   "cell_type": "code",
   "execution_count": null,
   "metadata": {},
   "outputs": [],
   "source": [
    "data_object['result'] = a.predict(data_2018)"
   ]
  },
  {
   "cell_type": "code",
   "execution_count": null,
   "metadata": {},
   "outputs": [],
   "source": [
    "data_object[data_object['result']==1].shape"
   ]
  },
  {
   "cell_type": "code",
   "execution_count": null,
   "metadata": {},
   "outputs": [],
   "source": [
    "a = dict(a)\n",
    "a = [j for j in a.values()][:10]+[a['经营活动现金流(亿元)']]\n",
    "a = [j/sum(a) for j in a]"
   ]
  },
  {
   "cell_type": "code",
   "execution_count": null,
   "metadata": {},
   "outputs": [],
   "source": [
    "def pct_ch(dataframe):\n",
    "    for i in range(dataframe.shape[1]):\n",
    "        name = dataframe.columns[i]+'_rate'\n",
    "        dataframe[name] = pd.Series()\n",
    "        for j in range(dataframe.shape[0]-1):\n",
    "            dataframe.iloc[j+1,-1] = (dataframe.iloc[j+1,i]-dataframe.iloc[j,i])/abs(dataframe.iloc[j,i])\n",
    "    return dataframe.iloc[1:,:]\n",
    "\n",
    "b_median = b_.iloc[:,1:].groupby('报告期').median().iloc[::-1,:]\n",
    "b_median['加权平均'] = b_median.values.dot(np.array(a).reshape(-1,1))\n",
    "b_median = pct_ch(b_median)\n",
    "b_median.index = [i for i in range(-b_median.shape[0]+1,0+1)]\n",
    "\n",
    "b_mean = b_.iloc[:,1:].groupby('报告期').mean().iloc[::-1,:]\n",
    "b_mean['加权平均'] = b_mean.values.dot(np.array(a).reshape(-1,1))\n",
    "b_mean = pct_ch(b_mean)\n",
    "b_mean.index = [i for i in range(-b_mean.shape[0]+1,0+1)]\n",
    "\n",
    "lenght = int(prepared_frame.shape[1]/2)\n",
    "\n",
    "prepared_frame = b_median\n",
    "plt.figure()\n",
    "for i in range(lenght):\n",
    "    ax = plt.subplot(4,3,i+1)\n",
    "    prepared_frame.iloc[:,i].plot(label=prepared_frame.columns[i+lenght],)\n",
    "    ax.legend(loc='best',prop={'size':11})\n",
    "    for X,Y,Z in zip(prepared_frame.index,prepared_frame.iloc[:,i],prepared_frame.iloc[:,i+lenght]):\n",
    "        plt.text(X,Y,'%.2f'%Z,ha='center',va='bottom')\n",
    "    ax.spines['right'].set_color('none')\n",
    "    ax.spines['top'].set_color('none')\n",
    "    if i == 1:\n",
    "        plt.title('趋势变化图(中位数)',fontdict={'size':20})\n",
    "plt.show()\n",
    "\n",
    "prepared_frame = b_mean\n",
    "plt.figure()\n",
    "for i in range(lenght):\n",
    "    ax = plt.subplot(4,3,i+1)\n",
    "    prepared_frame.iloc[:,i].plot(label=prepared_frame.columns[i],)\n",
    "    ax.legend(loc='best',prop={'size':11})\n",
    "    for X,Y,Z in zip(prepared_frame.index,prepared_frame.iloc[:,i],prepared_frame.iloc[:,i+lenght]):\n",
    "        plt.text(X,Y,'%.2f'%Z,ha='center',va='bottom')\n",
    "    ax.spines['right'].set_color('none')\n",
    "    ax.spines['top'].set_color('none')\n",
    "    if i == 1:\n",
    "        plt.title('趋势变化图(平均数)',fontdict={'size':20})\n",
    "plt.show()"
   ]
  },
  {
   "cell_type": "code",
   "execution_count": null,
   "metadata": {},
   "outputs": [],
   "source": [
    "b_median.to_excel(path+'median_.xlsx',index=False)\n",
    "b_mean.to_excel(path+'mean_.xlsx',index=False)"
   ]
  },
  {
   "cell_type": "code",
   "execution_count": null,
   "metadata": {
    "scrolled": true
   },
   "outputs": [],
   "source": [
    "re_of_de = pd.read_excel(path+'report of defaulted.xlsx',)[:-2]"
   ]
  },
  {
   "cell_type": "code",
   "execution_count": null,
   "metadata": {
    "scrolled": true
   },
   "outputs": [],
   "source": [
    "pd.DataFrame(re_of_de['发生日期'].groupby(re_of_de['名称'],).apply(lambda x:x.sort_values('发生日期').iloc[0]))"
   ]
  },
  {
   "cell_type": "code",
   "execution_count": 68,
   "metadata": {},
   "outputs": [
    {
     "data": {
      "text/plain": [
       "4"
      ]
     },
     "execution_count": 68,
     "metadata": {},
     "output_type": "execute_result"
    }
   ],
   "source": [
    "pd.concat([pd.concat([re_object_0,re_of_de_0],axis=1),pd.concat([re_object_1,re_of_de_1],axis=1)]).drop_duplicates(['名称'])['企业性质_中央国有企业'].sum()"
   ]
  },
  {
   "cell_type": "code",
   "execution_count": 1,
   "metadata": {},
   "outputs": [],
   "source": [
    "a = [[1,0,0],[1,0,1],[0,1,0]]"
   ]
  },
  {
   "cell_type": "code",
   "execution_count": 5,
   "metadata": {},
   "outputs": [],
   "source": [
    "from functools import reduce"
   ]
  },
  {
   "cell_type": "code",
   "execution_count": 11,
   "metadata": {},
   "outputs": [
    {
     "data": {
      "text/plain": [
       "array([1, 1, 1], dtype=int32)"
      ]
     },
     "execution_count": 11,
     "metadata": {},
     "output_type": "execute_result"
    }
   ],
   "source": [
    "reduce(lambda x,y:np.array(x)|np.array(y),a)"
   ]
  },
  {
   "cell_type": "code",
   "execution_count": 107,
   "metadata": {},
   "outputs": [],
   "source": [
    "c = pd.DataFrame(np.arange(9).reshape(3,3),columns=['a','b','c'])"
   ]
  },
  {
   "cell_type": "code",
   "execution_count": 115,
   "metadata": {},
   "outputs": [],
   "source": [
    "c.iloc[0:2,1] = np.nan"
   ]
  },
  {
   "cell_type": "code",
   "execution_count": 118,
   "metadata": {},
   "outputs": [],
   "source": [
    "c.iloc[0:2,1][0] = 1"
   ]
  },
  {
   "cell_type": "code",
   "execution_count": 164,
   "metadata": {},
   "outputs": [],
   "source": [
    "c.loc[aa,'b'] = 3"
   ]
  },
  {
   "cell_type": "code",
   "execution_count": 165,
   "metadata": {},
   "outputs": [
    {
     "data": {
      "text/html": [
       "<div>\n",
       "<style scoped>\n",
       "    .dataframe tbody tr th:only-of-type {\n",
       "        vertical-align: middle;\n",
       "    }\n",
       "\n",
       "    .dataframe tbody tr th {\n",
       "        vertical-align: top;\n",
       "    }\n",
       "\n",
       "    .dataframe thead th {\n",
       "        text-align: right;\n",
       "    }\n",
       "</style>\n",
       "<table border=\"1\" class=\"dataframe\">\n",
       "  <thead>\n",
       "    <tr style=\"text-align: right;\">\n",
       "      <th></th>\n",
       "      <th>a</th>\n",
       "      <th>b</th>\n",
       "      <th>c</th>\n",
       "    </tr>\n",
       "  </thead>\n",
       "  <tbody>\n",
       "    <tr>\n",
       "      <th>0</th>\n",
       "      <td>0</td>\n",
       "      <td>1.0</td>\n",
       "      <td>2</td>\n",
       "    </tr>\n",
       "    <tr>\n",
       "      <th>1</th>\n",
       "      <td>3</td>\n",
       "      <td>3.0</td>\n",
       "      <td>5</td>\n",
       "    </tr>\n",
       "    <tr>\n",
       "      <th>2</th>\n",
       "      <td>6</td>\n",
       "      <td>7.0</td>\n",
       "      <td>8</td>\n",
       "    </tr>\n",
       "  </tbody>\n",
       "</table>\n",
       "</div>"
      ],
      "text/plain": [
       "   a    b  c\n",
       "0  0  1.0  2\n",
       "1  3  3.0  5\n",
       "2  6  7.0  8"
      ]
     },
     "execution_count": 165,
     "metadata": {},
     "output_type": "execute_result"
    }
   ],
   "source": [
    "c"
   ]
  },
  {
   "cell_type": "code",
   "execution_count": 161,
   "metadata": {},
   "outputs": [],
   "source": [
    "def return_index(aa,bb):\n",
    "    j=0\n",
    "    for i in range(len(aa)):\n",
    "        if aa[i] == False :\n",
    "            pass\n",
    "        else:\n",
    "            aa[i] = bb[j]\n",
    "            j += 1\n",
    "    return aa"
   ]
  },
  {
   "cell_type": "code",
   "execution_count": 171,
   "metadata": {},
   "outputs": [],
   "source": [
    "aa = np.random.choice([True,False],50)\n",
    "bb = np.random.choice([True,False],sum(aa==True))"
   ]
  },
  {
   "cell_type": "code",
   "execution_count": 172,
   "metadata": {},
   "outputs": [
    {
     "data": {
      "text/plain": [
       "array([False,  True,  True,  True, False, False,  True,  True,  True,\n",
       "       False,  True, False,  True, False, False,  True,  True, False,\n",
       "        True, False,  True,  True,  True,  True,  True,  True, False,\n",
       "        True, False,  True,  True,  True,  True, False,  True, False,\n",
       "       False, False,  True, False, False, False,  True,  True, False,\n",
       "        True,  True,  True, False, False])"
      ]
     },
     "execution_count": 172,
     "metadata": {},
     "output_type": "execute_result"
    }
   ],
   "source": [
    "aa"
   ]
  },
  {
   "cell_type": "code",
   "execution_count": 173,
   "metadata": {},
   "outputs": [
    {
     "data": {
      "text/plain": [
       "array([False, False,  True, False, False,  True,  True,  True, False,\n",
       "       False, False, False, False, False, False, False,  True, False,\n",
       "       False, False,  True, False,  True,  True,  True, False,  True,\n",
       "        True,  True])"
      ]
     },
     "execution_count": 173,
     "metadata": {},
     "output_type": "execute_result"
    }
   ],
   "source": [
    "bb"
   ]
  },
  {
   "cell_type": "code",
   "execution_count": 175,
   "metadata": {},
   "outputs": [
    {
     "data": {
      "text/plain": [
       "array([False, False, False,  True, False, False, False, False,  True,\n",
       "       False, False, False,  True, False, False, False, False, False,\n",
       "       False, False, False, False, False, False, False,  True, False,\n",
       "       False, False, False, False, False, False, False, False, False,\n",
       "       False, False, False, False, False, False,  True, False, False,\n",
       "        True,  True,  True, False, False])"
      ]
     },
     "execution_count": 175,
     "metadata": {},
     "output_type": "execute_result"
    }
   ],
   "source": [
    "return_index(aa,~bb)"
   ]
  },
  {
   "cell_type": "code",
   "execution_count": null,
   "metadata": {},
   "outputs": [],
   "source": []
  }
 ],
 "metadata": {
  "kernelspec": {
   "display_name": "Python 3",
   "language": "python",
   "name": "python3"
  },
  "language_info": {
   "codemirror_mode": {
    "name": "ipython",
    "version": 3
   },
   "file_extension": ".py",
   "mimetype": "text/x-python",
   "name": "python",
   "nbconvert_exporter": "python",
   "pygments_lexer": "ipython3",
   "version": "3.6.5"
  }
 },
 "nbformat": 4,
 "nbformat_minor": 2
}
